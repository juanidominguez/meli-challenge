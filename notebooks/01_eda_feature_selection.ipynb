{
 "cells": [
  {
   "cell_type": "code",
   "execution_count": 1,
   "id": "e51d2ce0",
   "metadata": {},
   "outputs": [
    {
     "name": "stdout",
     "output_type": "stream",
     "text": [
      "✅ Setup complete: paths and directories ready\n"
     ]
    }
   ],
   "source": [
    "# Setup: Add src to path and create directories\n",
    "import sys, os\n",
    "sys.path.insert(0, os.path.join('..', 'src'))\n",
    "for d in ['results', 'models']: \n",
    "    os.makedirs(f'../{d}', exist_ok=True)\n",
    "print(\"✅ Setup complete: paths and directories ready\")\n"
   ]
  },
  {
   "cell_type": "markdown",
   "id": "d9ade88d-2959-428f-9e69-00214804d5bd",
   "metadata": {},
   "source": [
    "# Mercado Libre – Item Condition Challenge  \n",
    "## Predicción de `new` vs `used`\n",
    "\n",
    "> **Autor:** Juan Ignacio Dominguez – Senior DS   \n",
    "> **Objetivo:** obtener **accuracy ≥ 0.86** y una métrica secundaria justificable."
   ]
  },
  {
   "cell_type": "markdown",
   "id": "1d933edf-b651-4d12-8a85-7c9cfb5993a2",
   "metadata": {},
   "source": [
    "Instalación de dependencias"
   ]
  },
  {
   "cell_type": "code",
   "execution_count": 2,
   "id": "2f144eb6-75bb-4f99-8894-e35cd616bf01",
   "metadata": {
    "execution": {
     "iopub.execute_input": "2025-07-09T00:17:25.396746Z",
     "iopub.status.busy": "2025-07-09T00:17:25.396548Z",
     "iopub.status.idle": "2025-07-09T00:17:25.400807Z",
     "shell.execute_reply": "2025-07-09T00:17:25.400057Z",
     "shell.execute_reply.started": "2025-07-09T00:17:25.396727Z"
    }
   },
   "outputs": [],
   "source": [
    "# !pip install -q pandas==2.2.2 scikit-learn==1.5.0 lightgbm==4.3.0 shap"
   ]
  },
  {
   "cell_type": "markdown",
   "id": "5bf67223-dd4a-4cd9-8223-bc965f1ec40c",
   "metadata": {},
   "source": [
    "Imports & setup"
   ]
  },
  {
   "cell_type": "code",
   "execution_count": 3,
   "id": "d036a33f-47c8-4b35-80c6-77cdc3aa3d0e",
   "metadata": {
    "execution": {
     "iopub.execute_input": "2025-07-09T00:17:25.403927Z",
     "iopub.status.busy": "2025-07-09T00:17:25.403737Z",
     "iopub.status.idle": "2025-07-09T00:17:26.715381Z",
     "shell.execute_reply": "2025-07-09T00:17:26.714780Z",
     "shell.execute_reply.started": "2025-07-09T00:17:25.403908Z"
    }
   },
   "outputs": [],
   "source": [
    "import numpy as np\n",
    "import pandas as pd\n",
    "import json\n",
    "import unicodedata\n",
    "import ast\n",
    "import re\n",
    "import matplotlib.pyplot as plt\n",
    "import seaborn as sns\n",
    "import math\n",
    "import warnings\n",
    "from pandas.api.types import is_scalar\n",
    "from datetime import timedelta\n",
    "warnings.filterwarnings(\"ignore\", category=DeprecationWarning)\n",
    "\n",
    "# import category_encoders as ce\n",
    "# from sklearn.model_selection import KFold\n",
    "\n",
    "# Reproducibilidad\n",
    "np.random.seed(42)\n",
    "\n",
    "# Estilo de display\n",
    "pd.set_option('display.max_columns', 120)\n",
    "pd.set_option('display.max_rows', 50)\n",
    "\n",
    "from new_or_used import build_dataset"
   ]
  },
  {
   "cell_type": "markdown",
   "id": "a38839f0-e390-4565-b0c4-118f224e5d8b",
   "metadata": {},
   "source": [
    "Ingesta de Datos: *Cargamos splits pre-definidos*"
   ]
  },
  {
   "cell_type": "code",
   "execution_count": 4,
   "id": "6080225e-f68b-412a-a01e-4b03e403f276",
   "metadata": {
    "execution": {
     "iopub.execute_input": "2025-07-09T00:12:06.792113Z",
     "iopub.status.busy": "2025-07-09T00:12:06.791931Z",
     "iopub.status.idle": "2025-07-09T00:12:12.781234Z",
     "shell.execute_reply": "2025-07-09T00:12:12.780716Z",
     "shell.execute_reply.started": "2025-07-09T00:12:06.792096Z"
    }
   },
   "outputs": [],
   "source": [
    "X_train, y_train, X_test, y_test = build_dataset()"
   ]
  },
  {
   "cell_type": "markdown",
   "id": "9cca9cdb-0221-42f8-be42-1945dda2a710",
   "metadata": {},
   "source": [
    "Conversión a DataFrame tabular"
   ]
  },
  {
   "cell_type": "code",
   "execution_count": 5,
   "id": "2a9c010c-3598-46eb-9933-1d4a0c5d3c6d",
   "metadata": {
    "execution": {
     "iopub.execute_input": "2025-07-08T23:17:12.226470Z",
     "iopub.status.busy": "2025-07-08T23:17:12.226269Z",
     "iopub.status.idle": "2025-07-08T23:17:12.229456Z",
     "shell.execute_reply": "2025-07-08T23:17:12.228906Z",
     "shell.execute_reply.started": "2025-07-08T23:17:12.226452Z"
    }
   },
   "outputs": [],
   "source": [
    "def dicts_to_df(dict_list):\n",
    "    \"\"\"\n",
    "    Flatten nested JSON records into a pandas DataFrame.\n",
    "    Nested keys are concatenated with '_'\n",
    "    \"\"\"\n",
    "    return pd.json_normalize(dict_list, sep='_')"
   ]
  },
  {
   "cell_type": "code",
   "execution_count": 6,
   "id": "658aed59-1306-42ab-bbd1-cbe1c419f616",
   "metadata": {
    "execution": {
     "iopub.execute_input": "2025-07-08T23:17:12.230257Z",
     "iopub.status.busy": "2025-07-08T23:17:12.230013Z",
     "iopub.status.idle": "2025-07-08T23:17:16.716846Z",
     "shell.execute_reply": "2025-07-08T23:17:16.716299Z",
     "shell.execute_reply.started": "2025-07-08T23:17:12.230235Z"
    }
   },
   "outputs": [
    {
     "data": {
      "text/html": [
       "<div>\n",
       "<style scoped>\n",
       "    .dataframe tbody tr th:only-of-type {\n",
       "        vertical-align: middle;\n",
       "    }\n",
       "\n",
       "    .dataframe tbody tr th {\n",
       "        vertical-align: top;\n",
       "    }\n",
       "\n",
       "    .dataframe thead th {\n",
       "        text-align: right;\n",
       "    }\n",
       "</style>\n",
       "<table border=\"1\" class=\"dataframe\">\n",
       "  <thead>\n",
       "    <tr style=\"text-align: right;\">\n",
       "      <th></th>\n",
       "      <th>warranty</th>\n",
       "      <th>sub_status</th>\n",
       "      <th>condition</th>\n",
       "      <th>deal_ids</th>\n",
       "      <th>base_price</th>\n",
       "      <th>non_mercado_pago_payment_methods</th>\n",
       "      <th>seller_id</th>\n",
       "      <th>variations</th>\n",
       "      <th>site_id</th>\n",
       "      <th>listing_type_id</th>\n",
       "      <th>price</th>\n",
       "      <th>attributes</th>\n",
       "      <th>buying_mode</th>\n",
       "      <th>tags</th>\n",
       "      <th>listing_source</th>\n",
       "      <th>parent_item_id</th>\n",
       "      <th>coverage_areas</th>\n",
       "      <th>category_id</th>\n",
       "      <th>descriptions</th>\n",
       "      <th>last_updated</th>\n",
       "      <th>international_delivery_mode</th>\n",
       "      <th>pictures</th>\n",
       "      <th>id</th>\n",
       "      <th>official_store_id</th>\n",
       "      <th>differential_pricing</th>\n",
       "      <th>accepts_mercadopago</th>\n",
       "      <th>original_price</th>\n",
       "      <th>currency_id</th>\n",
       "      <th>thumbnail</th>\n",
       "      <th>title</th>\n",
       "      <th>automatic_relist</th>\n",
       "      <th>date_created</th>\n",
       "      <th>secure_thumbnail</th>\n",
       "      <th>stop_time</th>\n",
       "      <th>status</th>\n",
       "      <th>video_id</th>\n",
       "      <th>catalog_product_id</th>\n",
       "      <th>subtitle</th>\n",
       "      <th>initial_quantity</th>\n",
       "      <th>start_time</th>\n",
       "      <th>permalink</th>\n",
       "      <th>sold_quantity</th>\n",
       "      <th>available_quantity</th>\n",
       "      <th>seller_address_country_name</th>\n",
       "      <th>seller_address_country_id</th>\n",
       "      <th>seller_address_state_name</th>\n",
       "      <th>seller_address_state_id</th>\n",
       "      <th>seller_address_city_name</th>\n",
       "      <th>seller_address_city_id</th>\n",
       "      <th>shipping_local_pick_up</th>\n",
       "      <th>shipping_methods</th>\n",
       "      <th>shipping_tags</th>\n",
       "      <th>shipping_free_shipping</th>\n",
       "      <th>shipping_mode</th>\n",
       "      <th>shipping_dimensions</th>\n",
       "      <th>shipping_free_methods</th>\n",
       "    </tr>\n",
       "  </thead>\n",
       "  <tbody>\n",
       "    <tr>\n",
       "      <th>0</th>\n",
       "      <td>None</td>\n",
       "      <td>[]</td>\n",
       "      <td>new</td>\n",
       "      <td>[]</td>\n",
       "      <td>80.0</td>\n",
       "      <td>[{'description': 'Transferencia bancaria', 'id...</td>\n",
       "      <td>8208882349</td>\n",
       "      <td>[]</td>\n",
       "      <td>MLA</td>\n",
       "      <td>bronze</td>\n",
       "      <td>80.0</td>\n",
       "      <td>[]</td>\n",
       "      <td>buy_it_now</td>\n",
       "      <td>[dragged_bids_and_visits]</td>\n",
       "      <td></td>\n",
       "      <td>MLA6553902747</td>\n",
       "      <td>[]</td>\n",
       "      <td>MLA126406</td>\n",
       "      <td>[{'id': 'MLA4695330653-912855983'}]</td>\n",
       "      <td>2015-09-05T20:42:58.000Z</td>\n",
       "      <td>none</td>\n",
       "      <td>[{'size': '500x375', 'secure_url': 'https://a2...</td>\n",
       "      <td>MLA4695330653</td>\n",
       "      <td>NaN</td>\n",
       "      <td>None</td>\n",
       "      <td>True</td>\n",
       "      <td>NaN</td>\n",
       "      <td>ARS</td>\n",
       "      <td>http://mla-s1-p.mlstatic.com/5386-MLA469533065...</td>\n",
       "      <td>Auriculares Samsung Originales Manos Libres Ca...</td>\n",
       "      <td>False</td>\n",
       "      <td>2015-09-05T20:42:53.000Z</td>\n",
       "      <td>https://a248.e.akamai.net/mla-s1-p.mlstatic.co...</td>\n",
       "      <td>1446669773000</td>\n",
       "      <td>active</td>\n",
       "      <td>None</td>\n",
       "      <td>NaN</td>\n",
       "      <td>None</td>\n",
       "      <td>1</td>\n",
       "      <td>1441485773000</td>\n",
       "      <td>http://articulo.mercadolibre.com.ar/MLA4695330...</td>\n",
       "      <td>0</td>\n",
       "      <td>1</td>\n",
       "      <td>Argentina</td>\n",
       "      <td>AR</td>\n",
       "      <td>Capital Federal</td>\n",
       "      <td>AR-C</td>\n",
       "      <td>San Cristóbal</td>\n",
       "      <td>TUxBQlNBTjkwNTZa</td>\n",
       "      <td>True</td>\n",
       "      <td>[]</td>\n",
       "      <td>[]</td>\n",
       "      <td>False</td>\n",
       "      <td>not_specified</td>\n",
       "      <td>None</td>\n",
       "      <td>NaN</td>\n",
       "    </tr>\n",
       "    <tr>\n",
       "      <th>1</th>\n",
       "      <td>NUESTRA REPUTACION</td>\n",
       "      <td>[]</td>\n",
       "      <td>used</td>\n",
       "      <td>[]</td>\n",
       "      <td>2650.0</td>\n",
       "      <td>[{'description': 'Transferencia bancaria', 'id...</td>\n",
       "      <td>8141699488</td>\n",
       "      <td>[]</td>\n",
       "      <td>MLA</td>\n",
       "      <td>silver</td>\n",
       "      <td>2650.0</td>\n",
       "      <td>[]</td>\n",
       "      <td>buy_it_now</td>\n",
       "      <td>[]</td>\n",
       "      <td></td>\n",
       "      <td>MLA7727150374</td>\n",
       "      <td>[]</td>\n",
       "      <td>MLA10267</td>\n",
       "      <td>[{'id': 'MLA7160447179-930764806'}]</td>\n",
       "      <td>2015-09-26T18:08:34.000Z</td>\n",
       "      <td>none</td>\n",
       "      <td>[{'size': '499x334', 'secure_url': 'https://a2...</td>\n",
       "      <td>MLA7160447179</td>\n",
       "      <td>NaN</td>\n",
       "      <td>None</td>\n",
       "      <td>True</td>\n",
       "      <td>NaN</td>\n",
       "      <td>ARS</td>\n",
       "      <td>http://mla-s1-p.mlstatic.com/23223-MLA71604471...</td>\n",
       "      <td>Cuchillo Daga Acero Carbón Casco Yelmo Solinge...</td>\n",
       "      <td>False</td>\n",
       "      <td>2015-09-26T18:08:30.000Z</td>\n",
       "      <td>https://a248.e.akamai.net/mla-s1-p.mlstatic.co...</td>\n",
       "      <td>1448474910000</td>\n",
       "      <td>active</td>\n",
       "      <td>None</td>\n",
       "      <td>NaN</td>\n",
       "      <td>None</td>\n",
       "      <td>1</td>\n",
       "      <td>1443290910000</td>\n",
       "      <td>http://articulo.mercadolibre.com.ar/MLA7160447...</td>\n",
       "      <td>0</td>\n",
       "      <td>1</td>\n",
       "      <td>Argentina</td>\n",
       "      <td>AR</td>\n",
       "      <td>Capital Federal</td>\n",
       "      <td>AR-C</td>\n",
       "      <td>Buenos Aires</td>\n",
       "      <td></td>\n",
       "      <td>True</td>\n",
       "      <td>[]</td>\n",
       "      <td>[]</td>\n",
       "      <td>False</td>\n",
       "      <td>me2</td>\n",
       "      <td>None</td>\n",
       "      <td>NaN</td>\n",
       "    </tr>\n",
       "    <tr>\n",
       "      <th>2</th>\n",
       "      <td>None</td>\n",
       "      <td>[]</td>\n",
       "      <td>used</td>\n",
       "      <td>[]</td>\n",
       "      <td>60.0</td>\n",
       "      <td>[{'description': 'Transferencia bancaria', 'id...</td>\n",
       "      <td>8386096505</td>\n",
       "      <td>[]</td>\n",
       "      <td>MLA</td>\n",
       "      <td>bronze</td>\n",
       "      <td>60.0</td>\n",
       "      <td>[]</td>\n",
       "      <td>buy_it_now</td>\n",
       "      <td>[dragged_bids_and_visits]</td>\n",
       "      <td></td>\n",
       "      <td>MLA6561247998</td>\n",
       "      <td>[]</td>\n",
       "      <td>MLA1227</td>\n",
       "      <td>[{'id': 'MLA7367189936-916478256'}]</td>\n",
       "      <td>2015-09-09T23:57:10.000Z</td>\n",
       "      <td>none</td>\n",
       "      <td>[{'size': '375x500', 'secure_url': 'https://a2...</td>\n",
       "      <td>MLA7367189936</td>\n",
       "      <td>NaN</td>\n",
       "      <td>None</td>\n",
       "      <td>True</td>\n",
       "      <td>NaN</td>\n",
       "      <td>ARS</td>\n",
       "      <td>http://mla-s1-p.mlstatic.com/22076-MLA73671899...</td>\n",
       "      <td>Antigua Revista Billiken, N° 1826, Año 1954</td>\n",
       "      <td>False</td>\n",
       "      <td>2015-09-09T23:57:07.000Z</td>\n",
       "      <td>https://a248.e.akamai.net/mla-s1-p.mlstatic.co...</td>\n",
       "      <td>1447027027000</td>\n",
       "      <td>active</td>\n",
       "      <td>None</td>\n",
       "      <td>NaN</td>\n",
       "      <td>None</td>\n",
       "      <td>1</td>\n",
       "      <td>1441843027000</td>\n",
       "      <td>http://articulo.mercadolibre.com.ar/MLA7367189...</td>\n",
       "      <td>0</td>\n",
       "      <td>1</td>\n",
       "      <td>Argentina</td>\n",
       "      <td>AR</td>\n",
       "      <td>Capital Federal</td>\n",
       "      <td>AR-C</td>\n",
       "      <td>Boedo</td>\n",
       "      <td>TUxBQkJPRTQ0OTRa</td>\n",
       "      <td>True</td>\n",
       "      <td>[]</td>\n",
       "      <td>[]</td>\n",
       "      <td>False</td>\n",
       "      <td>me2</td>\n",
       "      <td>None</td>\n",
       "      <td>NaN</td>\n",
       "    </tr>\n",
       "  </tbody>\n",
       "</table>\n",
       "</div>"
      ],
      "text/plain": [
       "             warranty sub_status condition deal_ids  base_price  \\\n",
       "0                None         []       new       []        80.0   \n",
       "1  NUESTRA REPUTACION         []      used       []      2650.0   \n",
       "2                None         []      used       []        60.0   \n",
       "\n",
       "                    non_mercado_pago_payment_methods   seller_id variations  \\\n",
       "0  [{'description': 'Transferencia bancaria', 'id...  8208882349         []   \n",
       "1  [{'description': 'Transferencia bancaria', 'id...  8141699488         []   \n",
       "2  [{'description': 'Transferencia bancaria', 'id...  8386096505         []   \n",
       "\n",
       "  site_id listing_type_id   price attributes buying_mode  \\\n",
       "0     MLA          bronze    80.0         []  buy_it_now   \n",
       "1     MLA          silver  2650.0         []  buy_it_now   \n",
       "2     MLA          bronze    60.0         []  buy_it_now   \n",
       "\n",
       "                        tags listing_source parent_item_id coverage_areas  \\\n",
       "0  [dragged_bids_and_visits]                 MLA6553902747             []   \n",
       "1                         []                 MLA7727150374             []   \n",
       "2  [dragged_bids_and_visits]                 MLA6561247998             []   \n",
       "\n",
       "  category_id                         descriptions              last_updated  \\\n",
       "0   MLA126406  [{'id': 'MLA4695330653-912855983'}]  2015-09-05T20:42:58.000Z   \n",
       "1    MLA10267  [{'id': 'MLA7160447179-930764806'}]  2015-09-26T18:08:34.000Z   \n",
       "2     MLA1227  [{'id': 'MLA7367189936-916478256'}]  2015-09-09T23:57:10.000Z   \n",
       "\n",
       "  international_delivery_mode  \\\n",
       "0                        none   \n",
       "1                        none   \n",
       "2                        none   \n",
       "\n",
       "                                            pictures             id  \\\n",
       "0  [{'size': '500x375', 'secure_url': 'https://a2...  MLA4695330653   \n",
       "1  [{'size': '499x334', 'secure_url': 'https://a2...  MLA7160447179   \n",
       "2  [{'size': '375x500', 'secure_url': 'https://a2...  MLA7367189936   \n",
       "\n",
       "   official_store_id differential_pricing  accepts_mercadopago  \\\n",
       "0                NaN                 None                 True   \n",
       "1                NaN                 None                 True   \n",
       "2                NaN                 None                 True   \n",
       "\n",
       "   original_price currency_id  \\\n",
       "0             NaN         ARS   \n",
       "1             NaN         ARS   \n",
       "2             NaN         ARS   \n",
       "\n",
       "                                           thumbnail  \\\n",
       "0  http://mla-s1-p.mlstatic.com/5386-MLA469533065...   \n",
       "1  http://mla-s1-p.mlstatic.com/23223-MLA71604471...   \n",
       "2  http://mla-s1-p.mlstatic.com/22076-MLA73671899...   \n",
       "\n",
       "                                               title  automatic_relist  \\\n",
       "0  Auriculares Samsung Originales Manos Libres Ca...             False   \n",
       "1  Cuchillo Daga Acero Carbón Casco Yelmo Solinge...             False   \n",
       "2        Antigua Revista Billiken, N° 1826, Año 1954             False   \n",
       "\n",
       "               date_created  \\\n",
       "0  2015-09-05T20:42:53.000Z   \n",
       "1  2015-09-26T18:08:30.000Z   \n",
       "2  2015-09-09T23:57:07.000Z   \n",
       "\n",
       "                                    secure_thumbnail      stop_time  status  \\\n",
       "0  https://a248.e.akamai.net/mla-s1-p.mlstatic.co...  1446669773000  active   \n",
       "1  https://a248.e.akamai.net/mla-s1-p.mlstatic.co...  1448474910000  active   \n",
       "2  https://a248.e.akamai.net/mla-s1-p.mlstatic.co...  1447027027000  active   \n",
       "\n",
       "  video_id  catalog_product_id subtitle  initial_quantity     start_time  \\\n",
       "0     None                 NaN     None                 1  1441485773000   \n",
       "1     None                 NaN     None                 1  1443290910000   \n",
       "2     None                 NaN     None                 1  1441843027000   \n",
       "\n",
       "                                           permalink  sold_quantity  \\\n",
       "0  http://articulo.mercadolibre.com.ar/MLA4695330...              0   \n",
       "1  http://articulo.mercadolibre.com.ar/MLA7160447...              0   \n",
       "2  http://articulo.mercadolibre.com.ar/MLA7367189...              0   \n",
       "\n",
       "   available_quantity seller_address_country_name seller_address_country_id  \\\n",
       "0                   1                   Argentina                        AR   \n",
       "1                   1                   Argentina                        AR   \n",
       "2                   1                   Argentina                        AR   \n",
       "\n",
       "  seller_address_state_name seller_address_state_id seller_address_city_name  \\\n",
       "0           Capital Federal                    AR-C            San Cristóbal   \n",
       "1           Capital Federal                    AR-C             Buenos Aires   \n",
       "2           Capital Federal                    AR-C                    Boedo   \n",
       "\n",
       "  seller_address_city_id  shipping_local_pick_up shipping_methods  \\\n",
       "0       TUxBQlNBTjkwNTZa                    True               []   \n",
       "1                                           True               []   \n",
       "2       TUxBQkJPRTQ0OTRa                    True               []   \n",
       "\n",
       "  shipping_tags  shipping_free_shipping  shipping_mode shipping_dimensions  \\\n",
       "0            []                   False  not_specified                None   \n",
       "1            []                   False            me2                None   \n",
       "2            []                   False            me2                None   \n",
       "\n",
       "  shipping_free_methods  \n",
       "0                   NaN  \n",
       "1                   NaN  \n",
       "2                   NaN  "
      ]
     },
     "execution_count": 6,
     "metadata": {},
     "output_type": "execute_result"
    }
   ],
   "source": [
    "df_train = dicts_to_df(X_train)\n",
    "df_test  = dicts_to_df(X_test)\n",
    "\n",
    "df_train.head(3)"
   ]
  },
  {
   "cell_type": "code",
   "execution_count": 7,
   "id": "23c6d8fd-9e24-4021-87c5-96f7f3f470f9",
   "metadata": {
    "execution": {
     "iopub.execute_input": "2025-07-08T23:17:16.717756Z",
     "iopub.status.busy": "2025-07-08T23:17:16.717483Z",
     "iopub.status.idle": "2025-07-08T23:17:16.721013Z",
     "shell.execute_reply": "2025-07-08T23:17:16.720500Z",
     "shell.execute_reply.started": "2025-07-08T23:17:16.717734Z"
    }
   },
   "outputs": [
    {
     "name": "stdout",
     "output_type": "stream",
     "text": [
      "Train rows: 90,000 | Train cols: 56 | Test rows: 10,000 | Test cols: 55\n"
     ]
    }
   ],
   "source": [
    "print(f\"Train rows: {df_train.shape[0]:,} | Train cols: {df_train.shape[1]:,} | \"\n",
    "      f\"Test rows: {df_test.shape[0]:,} | Test cols: {df_test.shape[1]:,}\")"
   ]
  },
  {
   "cell_type": "markdown",
   "id": "2d820c7d-c30f-44ce-9714-da8702b98784",
   "metadata": {},
   "source": [
    "Chequeo la distribución de la variable target"
   ]
  },
  {
   "cell_type": "code",
   "execution_count": 8,
   "id": "53faea65-9238-4a61-8eb7-933c6ea82f92",
   "metadata": {
    "execution": {
     "iopub.execute_input": "2025-07-08T23:17:16.724393Z",
     "iopub.status.busy": "2025-07-08T23:17:16.724217Z",
     "iopub.status.idle": "2025-07-08T23:17:16.745104Z",
     "shell.execute_reply": "2025-07-08T23:17:16.744607Z",
     "shell.execute_reply.started": "2025-07-08T23:17:16.724376Z"
    }
   },
   "outputs": [
    {
     "data": {
      "text/plain": [
       "condition\n",
       "new     0.537244\n",
       "used    0.462756\n",
       "Name: proportion, dtype: float64"
      ]
     },
     "execution_count": 8,
     "metadata": {},
     "output_type": "execute_result"
    }
   ],
   "source": [
    "df_train['condition'].value_counts(normalize=True).rename('proportion')"
   ]
  },
  {
   "cell_type": "markdown",
   "id": "ffada01a-fc2d-4d35-806e-684c872d0ce9",
   "metadata": {},
   "source": [
    "Balance – `new` ≈ 54 % vs `used` ≈ 46 % → dataset casi balanceado"
   ]
  },
  {
   "cell_type": "markdown",
   "id": "ea7836c4-dc31-4abb-b108-cb8cbd5f1169",
   "metadata": {},
   "source": [
    "# 1. EDA Inicial: Analisis general de la estructura de datos"
   ]
  },
  {
   "cell_type": "markdown",
   "id": "e8e517bd-4a93-49b8-902a-57d764fd0c67",
   "metadata": {},
   "source": [
    "Lo primero que hacemos es verificar como es la estructura de cada una de las variables. Esto nos permite entender:\n",
    "\n",
    "* Si hay valores duplicados.\n",
    "* Formas distintas en las que se presenta la misma informacion dentro de una variable. Ejemplo: en 'warranty', se presenta de muchas formas distinas la palabra \"Sí\", \"SI\", \"si\", \"si.\", \"Si\".\n",
    "* Redefinicion del tipo de ciertas variables. Ejemplo: variables que son categoricas o temporales, pero que vienen inicialmente en formato numerico.\n",
    "* Formas en las que se presentan valores nulos o raros y los posibles tratamientos que podemos aplicar.\n",
    "* Entender que variables son muy complejas de procesar en un inicio o pueden no aportar demasiada información.\n",
    "\n",
    "Luego de esto vamos a poder analizar **duplicados, missing values y cardinalidad** para decidir que features dejaremos y realizar limpieza. Ademas deberemos **normalizar** algunas variables y simplificar la estructura de otras a **binary**."
   ]
  },
  {
   "cell_type": "code",
   "execution_count": 9,
   "id": "291cff5b-dc86-4af1-9e8a-5f5e27529e32",
   "metadata": {
    "execution": {
     "iopub.execute_input": "2025-07-08T23:17:16.751120Z",
     "iopub.status.busy": "2025-07-08T23:17:16.750948Z",
     "iopub.status.idle": "2025-07-08T23:17:17.131607Z",
     "shell.execute_reply": "2025-07-08T23:17:17.131059Z",
     "shell.execute_reply.started": "2025-07-08T23:17:16.751104Z"
    }
   },
   "outputs": [
    {
     "name": "stdout",
     "output_type": "stream",
     "text": [
      "<class 'pandas.core.frame.DataFrame'>\n",
      "RangeIndex: 90000 entries, 0 to 89999\n",
      "Data columns (total 56 columns):\n",
      " #   Column                            Non-Null Count  Dtype  \n",
      "---  ------                            --------------  -----  \n",
      " 0   warranty                          35243 non-null  object \n",
      " 1   sub_status                        90000 non-null  object \n",
      " 2   condition                         90000 non-null  object \n",
      " 3   deal_ids                          90000 non-null  object \n",
      " 4   base_price                        90000 non-null  float64\n",
      " 5   non_mercado_pago_payment_methods  90000 non-null  object \n",
      " 6   seller_id                         90000 non-null  int64  \n",
      " 7   variations                        90000 non-null  object \n",
      " 8   site_id                           90000 non-null  object \n",
      " 9   listing_type_id                   90000 non-null  object \n",
      " 10  price                             90000 non-null  float64\n",
      " 11  attributes                        90000 non-null  object \n",
      " 12  buying_mode                       90000 non-null  object \n",
      " 13  tags                              90000 non-null  object \n",
      " 14  listing_source                    90000 non-null  object \n",
      " 15  parent_item_id                    69310 non-null  object \n",
      " 16  coverage_areas                    90000 non-null  object \n",
      " 17  category_id                       90000 non-null  object \n",
      " 18  descriptions                      90000 non-null  object \n",
      " 19  last_updated                      90000 non-null  object \n",
      " 20  international_delivery_mode       90000 non-null  object \n",
      " 21  pictures                          90000 non-null  object \n",
      " 22  id                                90000 non-null  object \n",
      " 23  official_store_id                 745 non-null    float64\n",
      " 24  differential_pricing              0 non-null      object \n",
      " 25  accepts_mercadopago               90000 non-null  bool   \n",
      " 26  original_price                    130 non-null    float64\n",
      " 27  currency_id                       90000 non-null  object \n",
      " 28  thumbnail                         90000 non-null  object \n",
      " 29  title                             90000 non-null  object \n",
      " 30  automatic_relist                  90000 non-null  bool   \n",
      " 31  date_created                      90000 non-null  object \n",
      " 32  secure_thumbnail                  90000 non-null  object \n",
      " 33  stop_time                         90000 non-null  int64  \n",
      " 34  status                            90000 non-null  object \n",
      " 35  video_id                          2676 non-null   object \n",
      " 36  catalog_product_id                7 non-null      float64\n",
      " 37  subtitle                          0 non-null      object \n",
      " 38  initial_quantity                  90000 non-null  int64  \n",
      " 39  start_time                        90000 non-null  int64  \n",
      " 40  permalink                         90000 non-null  object \n",
      " 41  sold_quantity                     90000 non-null  int64  \n",
      " 42  available_quantity                90000 non-null  int64  \n",
      " 43  seller_address_country_name       90000 non-null  object \n",
      " 44  seller_address_country_id         90000 non-null  object \n",
      " 45  seller_address_state_name         90000 non-null  object \n",
      " 46  seller_address_state_id           90000 non-null  object \n",
      " 47  seller_address_city_name          90000 non-null  object \n",
      " 48  seller_address_city_id            90000 non-null  object \n",
      " 49  shipping_local_pick_up            90000 non-null  bool   \n",
      " 50  shipping_methods                  87310 non-null  object \n",
      " 51  shipping_tags                     90000 non-null  object \n",
      " 52  shipping_free_shipping            90000 non-null  bool   \n",
      " 53  shipping_mode                     90000 non-null  object \n",
      " 54  shipping_dimensions               22 non-null     object \n",
      " 55  shipping_free_methods             2689 non-null   object \n",
      "dtypes: bool(4), float64(5), int64(6), object(41)\n",
      "memory usage: 36.0+ MB\n"
     ]
    }
   ],
   "source": [
    "df_train.info()"
   ]
  },
  {
   "cell_type": "code",
   "execution_count": 10,
   "id": "20519899-8968-44cb-a4a9-cc9151089ec9",
   "metadata": {
    "execution": {
     "iopub.execute_input": "2025-07-08T23:17:17.132428Z",
     "iopub.status.busy": "2025-07-08T23:17:17.132217Z",
     "iopub.status.idle": "2025-07-08T23:17:17.136166Z",
     "shell.execute_reply": "2025-07-08T23:17:17.135671Z",
     "shell.execute_reply.started": "2025-07-08T23:17:17.132410Z"
    }
   },
   "outputs": [],
   "source": [
    "# funcion para inspeccionar de manera individual cada feature. La usaremos más adelante\n",
    "def inspect_column(df: pd.DataFrame, col: str, top_n: int = 10):\n",
    "    s = df[col].astype('string')\n",
    "    print(f\"\\n— {col} —\")\n",
    "    print(\"dtype:\", df[col].dtype, \"| n_missing:\", s.isna().sum(),\n",
    "          \"| unique:\", s.nunique(dropna=True))\n",
    "    display(s.value_counts(dropna=True).head(top_n).to_frame('freq'))"
   ]
  },
  {
   "cell_type": "code",
   "execution_count": 11,
   "id": "9b1cb306-0c92-4b9a-aae9-1c7fff5b018b",
   "metadata": {
    "execution": {
     "iopub.execute_input": "2025-07-08T23:17:17.136981Z",
     "iopub.status.busy": "2025-07-08T23:17:17.136789Z",
     "iopub.status.idle": "2025-07-08T23:17:17.140455Z",
     "shell.execute_reply": "2025-07-08T23:17:17.139953Z",
     "shell.execute_reply.started": "2025-07-08T23:17:17.136950Z"
    }
   },
   "outputs": [],
   "source": [
    "# helper: valor hasheable seguro para listas, dicts y arrays\n",
    "def _to_hashable(v):\n",
    "    if not is_scalar(v):\n",
    "        return str(v)\n",
    "    if v is None:\n",
    "        return pd.NA\n",
    "    if isinstance(v, float) and math.isnan(v):\n",
    "        return pd.NA\n",
    "    if pd.isna(v):\n",
    "        return pd.NA\n",
    "    return v"
   ]
  },
  {
   "cell_type": "code",
   "execution_count": 12,
   "id": "ff5804f3-ea80-4ff3-99ec-e7a9b4355f9c",
   "metadata": {
    "execution": {
     "iopub.execute_input": "2025-07-08T23:17:17.141192Z",
     "iopub.status.busy": "2025-07-08T23:17:17.141016Z",
     "iopub.status.idle": "2025-07-08T23:17:17.145489Z",
     "shell.execute_reply": "2025-07-08T23:17:17.144995Z",
     "shell.execute_reply.started": "2025-07-08T23:17:17.141177Z"
    }
   },
   "outputs": [],
   "source": [
    "# función de resumen\n",
    "def quick_overview(df: pd.DataFrame, top_n: int = 3) -> pd.DataFrame:\n",
    "    rows = []\n",
    "    for col in df.columns:\n",
    "        s = df[col]\n",
    "        dtype_orig = s.dtype\n",
    "\n",
    "        s_hash = s.map(_to_hashable)\n",
    "\n",
    "        row = {\n",
    "            'col': col,\n",
    "            'dtype': dtype_orig,\n",
    "            'n_missing': s.isna().sum(),\n",
    "            'missing_pct': round(100 * s.isna().mean(), 2),\n",
    "            'n_unique': s_hash.nunique(dropna=True),\n",
    "        }\n",
    "\n",
    "        vc = s_hash.value_counts(dropna=True).head(top_n)\n",
    "        for i, (val, cnt) in enumerate(vc.items(), 1):\n",
    "            row[f'top{i}']  = val\n",
    "            row[f'freq{i}'] = cnt\n",
    "\n",
    "        rows.append(row)\n",
    "\n",
    "    return pd.DataFrame(rows)"
   ]
  },
  {
   "cell_type": "code",
   "execution_count": 13,
   "id": "2cc8dbd6-c23d-44ab-9a97-01785845627e",
   "metadata": {
    "execution": {
     "iopub.execute_input": "2025-07-08T23:17:17.146222Z",
     "iopub.status.busy": "2025-07-08T23:17:17.146040Z",
     "iopub.status.idle": "2025-07-08T23:17:22.423871Z",
     "shell.execute_reply": "2025-07-08T23:17:22.423297Z",
     "shell.execute_reply.started": "2025-07-08T23:17:17.146206Z"
    }
   },
   "outputs": [],
   "source": [
    "overview = quick_overview(df_train, top_n=3)"
   ]
  },
  {
   "cell_type": "markdown",
   "id": "d49d6cde-948e-4afc-8a9c-bb2a09e48794",
   "metadata": {
    "execution": {
     "iopub.execute_input": "2025-07-07T19:12:37.121057Z",
     "iopub.status.busy": "2025-07-07T19:12:37.120741Z",
     "iopub.status.idle": "2025-07-07T19:12:37.138399Z",
     "shell.execute_reply": "2025-07-07T19:12:37.137880Z",
     "shell.execute_reply.started": "2025-07-07T19:12:37.121036Z"
    }
   },
   "source": [
    "## Visualizacion de la tabla, ordenando por columnas con más nulos o valores unicos."
   ]
  },
  {
   "cell_type": "code",
   "execution_count": 14,
   "id": "e2af6f2d-b077-484a-a366-58d0ee948a08",
   "metadata": {
    "execution": {
     "iopub.execute_input": "2025-07-08T23:17:22.426855Z",
     "iopub.status.busy": "2025-07-08T23:17:22.426671Z",
     "iopub.status.idle": "2025-07-08T23:17:22.444047Z",
     "shell.execute_reply": "2025-07-08T23:17:22.443545Z",
     "shell.execute_reply.started": "2025-07-08T23:17:22.426838Z"
    }
   },
   "outputs": [
    {
     "data": {
      "text/html": [
       "<div>\n",
       "<style scoped>\n",
       "    .dataframe tbody tr th:only-of-type {\n",
       "        vertical-align: middle;\n",
       "    }\n",
       "\n",
       "    .dataframe tbody tr th {\n",
       "        vertical-align: top;\n",
       "    }\n",
       "\n",
       "    .dataframe thead th {\n",
       "        text-align: right;\n",
       "    }\n",
       "</style>\n",
       "<table border=\"1\" class=\"dataframe\">\n",
       "  <thead>\n",
       "    <tr style=\"text-align: right;\">\n",
       "      <th></th>\n",
       "      <th>col</th>\n",
       "      <th>dtype</th>\n",
       "      <th>n_missing</th>\n",
       "      <th>missing_pct</th>\n",
       "      <th>n_unique</th>\n",
       "      <th>top1</th>\n",
       "      <th>freq1</th>\n",
       "      <th>top2</th>\n",
       "      <th>freq2</th>\n",
       "      <th>top3</th>\n",
       "      <th>freq3</th>\n",
       "    </tr>\n",
       "  </thead>\n",
       "  <tbody>\n",
       "    <tr>\n",
       "      <th>0</th>\n",
       "      <td>differential_pricing</td>\n",
       "      <td>object</td>\n",
       "      <td>90000</td>\n",
       "      <td>100.00</td>\n",
       "      <td>0</td>\n",
       "      <td>NaN</td>\n",
       "      <td>NaN</td>\n",
       "      <td>NaN</td>\n",
       "      <td>NaN</td>\n",
       "      <td>NaN</td>\n",
       "      <td>NaN</td>\n",
       "    </tr>\n",
       "    <tr>\n",
       "      <th>1</th>\n",
       "      <td>subtitle</td>\n",
       "      <td>object</td>\n",
       "      <td>90000</td>\n",
       "      <td>100.00</td>\n",
       "      <td>0</td>\n",
       "      <td>NaN</td>\n",
       "      <td>NaN</td>\n",
       "      <td>NaN</td>\n",
       "      <td>NaN</td>\n",
       "      <td>NaN</td>\n",
       "      <td>NaN</td>\n",
       "    </tr>\n",
       "    <tr>\n",
       "      <th>2</th>\n",
       "      <td>catalog_product_id</td>\n",
       "      <td>float64</td>\n",
       "      <td>89993</td>\n",
       "      <td>99.99</td>\n",
       "      <td>7</td>\n",
       "      <td>800744.0</td>\n",
       "      <td>1.0</td>\n",
       "      <td>5093232.0</td>\n",
       "      <td>1.0</td>\n",
       "      <td>3050291.0</td>\n",
       "      <td>1.0</td>\n",
       "    </tr>\n",
       "    <tr>\n",
       "      <th>3</th>\n",
       "      <td>shipping_dimensions</td>\n",
       "      <td>object</td>\n",
       "      <td>89978</td>\n",
       "      <td>99.98</td>\n",
       "      <td>13</td>\n",
       "      <td>33x20x12,300</td>\n",
       "      <td>4.0</td>\n",
       "      <td>30x30x30,650</td>\n",
       "      <td>3.0</td>\n",
       "      <td>33x20x12,400</td>\n",
       "      <td>2.0</td>\n",
       "    </tr>\n",
       "    <tr>\n",
       "      <th>4</th>\n",
       "      <td>original_price</td>\n",
       "      <td>float64</td>\n",
       "      <td>89870</td>\n",
       "      <td>99.86</td>\n",
       "      <td>105</td>\n",
       "      <td>750.0</td>\n",
       "      <td>3.0</td>\n",
       "      <td>850.0</td>\n",
       "      <td>3.0</td>\n",
       "      <td>1500.0</td>\n",
       "      <td>3.0</td>\n",
       "    </tr>\n",
       "    <tr>\n",
       "      <th>5</th>\n",
       "      <td>official_store_id</td>\n",
       "      <td>float64</td>\n",
       "      <td>89255</td>\n",
       "      <td>99.17</td>\n",
       "      <td>193</td>\n",
       "      <td>1580.0</td>\n",
       "      <td>37.0</td>\n",
       "      <td>6448.0</td>\n",
       "      <td>27.0</td>\n",
       "      <td>6732.0</td>\n",
       "      <td>23.0</td>\n",
       "    </tr>\n",
       "    <tr>\n",
       "      <th>6</th>\n",
       "      <td>video_id</td>\n",
       "      <td>object</td>\n",
       "      <td>87324</td>\n",
       "      <td>97.03</td>\n",
       "      <td>1886</td>\n",
       "      <td>QQNfOicE_o8</td>\n",
       "      <td>278.0</td>\n",
       "      <td>EVCQuwl7RIE</td>\n",
       "      <td>82.0</td>\n",
       "      <td>mYNRC5Ia1sk</td>\n",
       "      <td>35.0</td>\n",
       "    </tr>\n",
       "    <tr>\n",
       "      <th>7</th>\n",
       "      <td>shipping_free_methods</td>\n",
       "      <td>object</td>\n",
       "      <td>87311</td>\n",
       "      <td>97.01</td>\n",
       "      <td>5</td>\n",
       "      <td>[{'rule': {'value': None, 'free_mode': 'countr...</td>\n",
       "      <td>2641.0</td>\n",
       "      <td>[{'rule': {'value': None, 'free_mode': 'countr...</td>\n",
       "      <td>37.0</td>\n",
       "      <td>[{'rule': {'value': None, 'free_mode': 'countr...</td>\n",
       "      <td>6.0</td>\n",
       "    </tr>\n",
       "    <tr>\n",
       "      <th>8</th>\n",
       "      <td>warranty</td>\n",
       "      <td>object</td>\n",
       "      <td>54757</td>\n",
       "      <td>60.84</td>\n",
       "      <td>9536</td>\n",
       "      <td>Sí</td>\n",
       "      <td>5107.0</td>\n",
       "      <td>Sin garantía</td>\n",
       "      <td>4907.0</td>\n",
       "      <td>SI</td>\n",
       "      <td>545.0</td>\n",
       "    </tr>\n",
       "    <tr>\n",
       "      <th>9</th>\n",
       "      <td>parent_item_id</td>\n",
       "      <td>object</td>\n",
       "      <td>20690</td>\n",
       "      <td>22.99</td>\n",
       "      <td>69310</td>\n",
       "      <td>MLA3661010119</td>\n",
       "      <td>1.0</td>\n",
       "      <td>MLA6553902747</td>\n",
       "      <td>1.0</td>\n",
       "      <td>MLA7727150374</td>\n",
       "      <td>1.0</td>\n",
       "    </tr>\n",
       "    <tr>\n",
       "      <th>10</th>\n",
       "      <td>shipping_methods</td>\n",
       "      <td>object</td>\n",
       "      <td>2690</td>\n",
       "      <td>2.99</td>\n",
       "      <td>1</td>\n",
       "      <td>[]</td>\n",
       "      <td>87310.0</td>\n",
       "      <td>NaN</td>\n",
       "      <td>NaN</td>\n",
       "      <td>NaN</td>\n",
       "      <td>NaN</td>\n",
       "    </tr>\n",
       "    <tr>\n",
       "      <th>11</th>\n",
       "      <td>site_id</td>\n",
       "      <td>object</td>\n",
       "      <td>0</td>\n",
       "      <td>0.00</td>\n",
       "      <td>1</td>\n",
       "      <td>MLA</td>\n",
       "      <td>90000.0</td>\n",
       "      <td>NaN</td>\n",
       "      <td>NaN</td>\n",
       "      <td>NaN</td>\n",
       "      <td>NaN</td>\n",
       "    </tr>\n",
       "    <tr>\n",
       "      <th>12</th>\n",
       "      <td>listing_source</td>\n",
       "      <td>object</td>\n",
       "      <td>0</td>\n",
       "      <td>0.00</td>\n",
       "      <td>1</td>\n",
       "      <td></td>\n",
       "      <td>90000.0</td>\n",
       "      <td>NaN</td>\n",
       "      <td>NaN</td>\n",
       "      <td>NaN</td>\n",
       "      <td>NaN</td>\n",
       "    </tr>\n",
       "    <tr>\n",
       "      <th>13</th>\n",
       "      <td>coverage_areas</td>\n",
       "      <td>object</td>\n",
       "      <td>0</td>\n",
       "      <td>0.00</td>\n",
       "      <td>1</td>\n",
       "      <td>[]</td>\n",
       "      <td>90000.0</td>\n",
       "      <td>NaN</td>\n",
       "      <td>NaN</td>\n",
       "      <td>NaN</td>\n",
       "      <td>NaN</td>\n",
       "    </tr>\n",
       "    <tr>\n",
       "      <th>14</th>\n",
       "      <td>international_delivery_mode</td>\n",
       "      <td>object</td>\n",
       "      <td>0</td>\n",
       "      <td>0.00</td>\n",
       "      <td>1</td>\n",
       "      <td>none</td>\n",
       "      <td>90000.0</td>\n",
       "      <td>NaN</td>\n",
       "      <td>NaN</td>\n",
       "      <td>NaN</td>\n",
       "      <td>NaN</td>\n",
       "    </tr>\n",
       "    <tr>\n",
       "      <th>15</th>\n",
       "      <td>seller_address_country_name</td>\n",
       "      <td>object</td>\n",
       "      <td>0</td>\n",
       "      <td>0.00</td>\n",
       "      <td>2</td>\n",
       "      <td>Argentina</td>\n",
       "      <td>89999.0</td>\n",
       "      <td></td>\n",
       "      <td>1.0</td>\n",
       "      <td>NaN</td>\n",
       "      <td>NaN</td>\n",
       "    </tr>\n",
       "    <tr>\n",
       "      <th>16</th>\n",
       "      <td>seller_address_country_id</td>\n",
       "      <td>object</td>\n",
       "      <td>0</td>\n",
       "      <td>0.00</td>\n",
       "      <td>2</td>\n",
       "      <td>AR</td>\n",
       "      <td>89999.0</td>\n",
       "      <td></td>\n",
       "      <td>1.0</td>\n",
       "      <td>NaN</td>\n",
       "      <td>NaN</td>\n",
       "    </tr>\n",
       "    <tr>\n",
       "      <th>17</th>\n",
       "      <td>shipping_tags</td>\n",
       "      <td>object</td>\n",
       "      <td>0</td>\n",
       "      <td>0.00</td>\n",
       "      <td>3</td>\n",
       "      <td>[]</td>\n",
       "      <td>89941.0</td>\n",
       "      <td>['relisted_with_modifications']</td>\n",
       "      <td>50.0</td>\n",
       "      <td>['free_method_upgraded']</td>\n",
       "      <td>9.0</td>\n",
       "    </tr>\n",
       "    <tr>\n",
       "      <th>18</th>\n",
       "      <td>deal_ids</td>\n",
       "      <td>object</td>\n",
       "      <td>0</td>\n",
       "      <td>0.00</td>\n",
       "      <td>31</td>\n",
       "      <td>[]</td>\n",
       "      <td>89783.0</td>\n",
       "      <td>['MOSH6']</td>\n",
       "      <td>52.0</td>\n",
       "      <td>['WGPLA']</td>\n",
       "      <td>36.0</td>\n",
       "    </tr>\n",
       "    <tr>\n",
       "      <th>19</th>\n",
       "      <td>currency_id</td>\n",
       "      <td>object</td>\n",
       "      <td>0</td>\n",
       "      <td>0.00</td>\n",
       "      <td>2</td>\n",
       "      <td>ARS</td>\n",
       "      <td>89496.0</td>\n",
       "      <td>USD</td>\n",
       "      <td>504.0</td>\n",
       "      <td>NaN</td>\n",
       "      <td>NaN</td>\n",
       "    </tr>\n",
       "    <tr>\n",
       "      <th>20</th>\n",
       "      <td>sub_status</td>\n",
       "      <td>object</td>\n",
       "      <td>0</td>\n",
       "      <td>0.00</td>\n",
       "      <td>4</td>\n",
       "      <td>[]</td>\n",
       "      <td>89109.0</td>\n",
       "      <td>['suspended']</td>\n",
       "      <td>871.0</td>\n",
       "      <td>['expired']</td>\n",
       "      <td>13.0</td>\n",
       "    </tr>\n",
       "  </tbody>\n",
       "</table>\n",
       "</div>"
      ],
      "text/plain": [
       "                            col    dtype  n_missing  missing_pct  n_unique  \\\n",
       "0          differential_pricing   object      90000       100.00         0   \n",
       "1                      subtitle   object      90000       100.00         0   \n",
       "2            catalog_product_id  float64      89993        99.99         7   \n",
       "3           shipping_dimensions   object      89978        99.98        13   \n",
       "4                original_price  float64      89870        99.86       105   \n",
       "5             official_store_id  float64      89255        99.17       193   \n",
       "6                      video_id   object      87324        97.03      1886   \n",
       "7         shipping_free_methods   object      87311        97.01         5   \n",
       "8                      warranty   object      54757        60.84      9536   \n",
       "9                parent_item_id   object      20690        22.99     69310   \n",
       "10             shipping_methods   object       2690         2.99         1   \n",
       "11                      site_id   object          0         0.00         1   \n",
       "12               listing_source   object          0         0.00         1   \n",
       "13               coverage_areas   object          0         0.00         1   \n",
       "14  international_delivery_mode   object          0         0.00         1   \n",
       "15  seller_address_country_name   object          0         0.00         2   \n",
       "16    seller_address_country_id   object          0         0.00         2   \n",
       "17                shipping_tags   object          0         0.00         3   \n",
       "18                     deal_ids   object          0         0.00        31   \n",
       "19                  currency_id   object          0         0.00         2   \n",
       "20                   sub_status   object          0         0.00         4   \n",
       "\n",
       "                                                 top1    freq1  \\\n",
       "0                                                 NaN      NaN   \n",
       "1                                                 NaN      NaN   \n",
       "2                                            800744.0      1.0   \n",
       "3                                        33x20x12,300      4.0   \n",
       "4                                               750.0      3.0   \n",
       "5                                              1580.0     37.0   \n",
       "6                                         QQNfOicE_o8    278.0   \n",
       "7   [{'rule': {'value': None, 'free_mode': 'countr...   2641.0   \n",
       "8                                                  Sí   5107.0   \n",
       "9                                       MLA3661010119      1.0   \n",
       "10                                                 []  87310.0   \n",
       "11                                                MLA  90000.0   \n",
       "12                                                     90000.0   \n",
       "13                                                 []  90000.0   \n",
       "14                                               none  90000.0   \n",
       "15                                          Argentina  89999.0   \n",
       "16                                                 AR  89999.0   \n",
       "17                                                 []  89941.0   \n",
       "18                                                 []  89783.0   \n",
       "19                                                ARS  89496.0   \n",
       "20                                                 []  89109.0   \n",
       "\n",
       "                                                 top2   freq2  \\\n",
       "0                                                 NaN     NaN   \n",
       "1                                                 NaN     NaN   \n",
       "2                                           5093232.0     1.0   \n",
       "3                                        30x30x30,650     3.0   \n",
       "4                                               850.0     3.0   \n",
       "5                                              6448.0    27.0   \n",
       "6                                         EVCQuwl7RIE    82.0   \n",
       "7   [{'rule': {'value': None, 'free_mode': 'countr...    37.0   \n",
       "8                                        Sin garantía  4907.0   \n",
       "9                                       MLA6553902747     1.0   \n",
       "10                                                NaN     NaN   \n",
       "11                                                NaN     NaN   \n",
       "12                                                NaN     NaN   \n",
       "13                                                NaN     NaN   \n",
       "14                                                NaN     NaN   \n",
       "15                                                        1.0   \n",
       "16                                                        1.0   \n",
       "17                    ['relisted_with_modifications']    50.0   \n",
       "18                                          ['MOSH6']    52.0   \n",
       "19                                                USD   504.0   \n",
       "20                                      ['suspended']   871.0   \n",
       "\n",
       "                                                 top3  freq3  \n",
       "0                                                 NaN    NaN  \n",
       "1                                                 NaN    NaN  \n",
       "2                                           3050291.0    1.0  \n",
       "3                                        33x20x12,400    2.0  \n",
       "4                                              1500.0    3.0  \n",
       "5                                              6732.0   23.0  \n",
       "6                                         mYNRC5Ia1sk   35.0  \n",
       "7   [{'rule': {'value': None, 'free_mode': 'countr...    6.0  \n",
       "8                                                  SI  545.0  \n",
       "9                                       MLA7727150374    1.0  \n",
       "10                                                NaN    NaN  \n",
       "11                                                NaN    NaN  \n",
       "12                                                NaN    NaN  \n",
       "13                                                NaN    NaN  \n",
       "14                                                NaN    NaN  \n",
       "15                                                NaN    NaN  \n",
       "16                                                NaN    NaN  \n",
       "17                           ['free_method_upgraded']    9.0  \n",
       "18                                          ['WGPLA']   36.0  \n",
       "19                                                NaN    NaN  \n",
       "20                                        ['expired']   13.0  "
      ]
     },
     "metadata": {},
     "output_type": "display_data"
    }
   ],
   "source": [
    "display(overview.sort_values(['missing_pct', 'freq1'], ascending=False).head(21).reset_index(drop=True))"
   ]
  },
  {
   "cell_type": "markdown",
   "id": "e8d4674b-f7b7-40f7-a39c-15920163f3ab",
   "metadata": {},
   "source": [
    "## Analisis de variables con mayor % de nulos o valores unicos (Top-21)\n",
    "\n",
    "### 1. Vista general de la tabla\n",
    "* **Seis columnas** exhiben **≥ 99 %** de valores faltantes; es prácticamente imposible obtener información util de algo que casi nunca está presente.\n",
    "* Hay varios campos “sin nulos” pero **monovalentes**: su `freq1` abarca ~100 % de los registros — son constantes disfrazadas y no añaden ninguna capacidad de segmentación.\n",
    "* En varias features (`shipping_methods`, `coverage_areas`, `shipping_tags`, etc.) el valor modal es `[]`. Esa lista vacía es, en la práctica, un **nulo codificado de otra forma** y requiere normalización antes de cualquier encoding. Otras como `listing_source` tiene el campo `' '`. → Seria conveniente armar un pipe robusto que primero identifique bien las columnas con nulos.\n",
    "\n",
    "---\n",
    "\n",
    "### 2. Diagnóstico por columna\n",
    "\n",
    "| Columna | % NA | n_unique | Hallazgos clave & acción preliminar |\n",
    "|---------|:----:|------:|-------------------------------------|\n",
    "| **differential_pricing** | 100 | 0 | Jamás se utiliza → **descartar sin discusión**. |\n",
    "| **subtitle** | 100 | 0 | Campo siempre vacío → **descartar**. |\n",
    "| **catalog_product_id** | 99.99 | 7 | 7 IDs distintos en todo el set, resto vacío. Valor potencial: un simple <br>flag “ligado a catálogo”. |\n",
    "| **shipping_dimensions** | 99.98 | 13 | Texto con “LxAxH,peso”, presente en <0.02 % de filas. Ruido puro → **descartar**. |\n",
    "| **original_price** | 99.86 | 105 | Sólo ~130 registros; preferimos derivar descuentos desde `price` vs `base_price`. → **descartar**. |\n",
    "| **official_store_id** | 99.17 | 193 | Muy nula, pero señala “vende como tienda oficial”. <br>💡 Generar flag `is_official_store`. |\n",
    "| **video_id** | 97.03 | 1 886 | Apenas 3 % de listings incluyen video. <br>💡 Flag `has_video`; el ID como tal sobra. |\n",
    "| **shipping_free_methods** | 97.01 | 5 | Lista JSON; casi siempre vacía. <br>💡 Flag `has_free_methods`; descartar el contenido. |\n",
    "| **warranty** | 60.84 | 9 536 | Gran promiscuidad: «Sí», «SI», «si», «Sin garantía»… Requiere **normalizar tildes/caso** y agrupar. |\n",
    "| **parent_item_id** | 22.99 | 69 310 | Alta cardinalidad, 23 % nulo. Identifica variaciones de un ítem “padre”. Candidato a **hash encoding** o a descartar si no aporta. |\n",
    "| **shipping_methods** | 2.99 | 1 | El 97 % son lista vacía `[]` ≡ nulo codificado diferente y el otro 3% son nulos. Sin señal → **descartar**. |\n",
    "| **site_id** | 0 | 1 | Valor constante (`'MLA'`). Aporta “0” de información → **descartar**. |\n",
    "| **listing_source** | 0 | 1 | Misma situación: `MLA` en 100 % de casos ⇒ **descartar**. |\n",
    "| **coverage_areas** | 0 | 1 | Campo contiene siempre `[]`. Ruido puro ⇒ **descartar**. |\n",
    "| **international_delivery_mode** | 0 | 1 | Valor fijo `none`. Aporta cero ⇒ **descartar**. |\n",
    "| **seller_address_country_name** | 0 | 2 | `Argentina` (99.9 %). Redundante como `site_id`. **Descartar**. |\n",
    "| **seller_address_country_id** | 0 | 2 | `AR` casi exclusivo. Igual que el anterior ⇒ **descartar**. |\n",
    "| **shipping_tags** | 0 | 3 | 99.3 % `[]`; ocasional `['relisted_with_modifications']` o `['free_method_upgraded']`.  <br>💡 Usar flag `has_shipping_tag`, luego **descartar lista**. |\n",
    "| **deal_ids** | 0 | 31 | 99.8 % `[]`; ínfimo set de códigos (`['MOSH6']`, …). Codificar y ver el poder explicativo, sino → **descartar**. |\n",
    "| **currency_id** | 0 | 2 | `ARS` (99.4 %) vs `USD` (0.6 %). El mix ARS/USD puede ser señal ⇒ **mantener** (one-hot). |\n",
    "\n",
    "---\n",
    "\n",
    "### 3. Decisiones inmediatas\n",
    "\n",
    "| Acción | Columnas |\n",
    "|--------|----------|\n",
    "| **Descartar sin dudas** | `differential_pricing`, `subtitle`, `shipping_dimensions`, `original_price`, `shipping_methods`, `site_id`, `listing_source`, `coverage_areas`, `international_delivery_mode`, `seller_address_country_name`, `seller_address_country_id`, `deal_ids`  |\n",
    "| **Mantener como *flag o binary* (presencia/ausencia)** |`catalog_product_id` → `has_catalog_id`  •  `official_store_id` → `is_official_store`  •  `video_id` → `has_video`  •  `shipping_free_methods` → `has_free_methods`  •  `shipping_tags` → `has_shipping_tag` |\n",
    "| **Mantener con limpieza/encoding** |`warranty` → normalizar texto y agrupar en pocas categorías (`garantía_sí/no`, `garantía_meses`, etc.)  •  `parent_item_id` → hash-encode o evaluar impacto  •  `currency_id` → one-hot (ARS vs USD) |\n",
    "\n",
    "⇒ *Con este analisis inicial podemos armar un pipeline que primero estandarice los valores nulos y elimine aquellas features con 100% nulos. Lo mismo para categorias con un solo valor que no aportan información.*"
   ]
  },
  {
   "cell_type": "markdown",
   "id": "ef99b4b3-3689-4eb5-b6a3-488c19ed02f9",
   "metadata": {
    "execution": {
     "iopub.execute_input": "2025-07-07T19:35:02.662661Z",
     "iopub.status.busy": "2025-07-07T19:35:02.662347Z",
     "iopub.status.idle": "2025-07-07T19:35:02.677107Z",
     "shell.execute_reply": "2025-07-07T19:35:02.676599Z",
     "shell.execute_reply.started": "2025-07-07T19:35:02.662641Z"
    }
   },
   "source": [
    "## Visualizacion de la tabla, ordenando por columnas con mayor cardinalidad"
   ]
  },
  {
   "cell_type": "code",
   "execution_count": 15,
   "id": "370721fc-69ef-46b1-a820-f726acc05186",
   "metadata": {
    "execution": {
     "iopub.execute_input": "2025-07-08T23:17:22.449756Z",
     "iopub.status.busy": "2025-07-08T23:17:22.449586Z",
     "iopub.status.idle": "2025-07-08T23:17:22.463554Z",
     "shell.execute_reply": "2025-07-08T23:17:22.463068Z",
     "shell.execute_reply.started": "2025-07-08T23:17:22.449739Z"
    }
   },
   "outputs": [
    {
     "data": {
      "text/html": [
       "<div>\n",
       "<style scoped>\n",
       "    .dataframe tbody tr th:only-of-type {\n",
       "        vertical-align: middle;\n",
       "    }\n",
       "\n",
       "    .dataframe tbody tr th {\n",
       "        vertical-align: top;\n",
       "    }\n",
       "\n",
       "    .dataframe thead th {\n",
       "        text-align: right;\n",
       "    }\n",
       "</style>\n",
       "<table border=\"1\" class=\"dataframe\">\n",
       "  <thead>\n",
       "    <tr style=\"text-align: right;\">\n",
       "      <th></th>\n",
       "      <th>col</th>\n",
       "      <th>dtype</th>\n",
       "      <th>n_missing</th>\n",
       "      <th>missing_pct</th>\n",
       "      <th>n_unique</th>\n",
       "      <th>top1</th>\n",
       "      <th>freq1</th>\n",
       "      <th>top2</th>\n",
       "      <th>freq2</th>\n",
       "      <th>top3</th>\n",
       "      <th>freq3</th>\n",
       "    </tr>\n",
       "  </thead>\n",
       "  <tbody>\n",
       "    <tr>\n",
       "      <th>0</th>\n",
       "      <td>id</td>\n",
       "      <td>object</td>\n",
       "      <td>0</td>\n",
       "      <td>0.00</td>\n",
       "      <td>90000</td>\n",
       "      <td>MLA5576008214</td>\n",
       "      <td>1.0</td>\n",
       "      <td>MLA7057298505</td>\n",
       "      <td>1.0</td>\n",
       "      <td>MLA3658983139</td>\n",
       "      <td>1.0</td>\n",
       "    </tr>\n",
       "    <tr>\n",
       "      <th>1</th>\n",
       "      <td>permalink</td>\n",
       "      <td>object</td>\n",
       "      <td>0</td>\n",
       "      <td>0.00</td>\n",
       "      <td>90000</td>\n",
       "      <td>http://articulo.mercadolibre.com.ar/MLA5576008...</td>\n",
       "      <td>1.0</td>\n",
       "      <td>http://articulo.mercadolibre.com.ar/MLA7057298...</td>\n",
       "      <td>1.0</td>\n",
       "      <td>http://articulo.mercadolibre.com.ar/MLA3658983...</td>\n",
       "      <td>1.0</td>\n",
       "    </tr>\n",
       "    <tr>\n",
       "      <th>2</th>\n",
       "      <td>pictures</td>\n",
       "      <td>object</td>\n",
       "      <td>0</td>\n",
       "      <td>0.00</td>\n",
       "      <td>89294</td>\n",
       "      <td>[]</td>\n",
       "      <td>703.0</td>\n",
       "      <td>[{'size': '250x250', 'secure_url': 'https://a2...</td>\n",
       "      <td>4.0</td>\n",
       "      <td>[{'size': '250x250', 'secure_url': 'https://a2...</td>\n",
       "      <td>2.0</td>\n",
       "    </tr>\n",
       "    <tr>\n",
       "      <th>3</th>\n",
       "      <td>thumbnail</td>\n",
       "      <td>object</td>\n",
       "      <td>0</td>\n",
       "      <td>0.00</td>\n",
       "      <td>89260</td>\n",
       "      <td></td>\n",
       "      <td>703.0</td>\n",
       "      <td>http://www.mercadolibre.com/jm/img?s=STC&amp;v=I&amp;f...</td>\n",
       "      <td>35.0</td>\n",
       "      <td>http://mla-s1-p.mlstatic.com/6279-MLApp_27_214...</td>\n",
       "      <td>4.0</td>\n",
       "    </tr>\n",
       "    <tr>\n",
       "      <th>4</th>\n",
       "      <td>secure_thumbnail</td>\n",
       "      <td>object</td>\n",
       "      <td>0</td>\n",
       "      <td>0.00</td>\n",
       "      <td>89260</td>\n",
       "      <td></td>\n",
       "      <td>703.0</td>\n",
       "      <td>https://www.mercadolibre.com/jm/img?s=STC&amp;v=I&amp;...</td>\n",
       "      <td>35.0</td>\n",
       "      <td>https://a248.e.akamai.net/mla-s1-p.mlstatic.co...</td>\n",
       "      <td>4.0</td>\n",
       "    </tr>\n",
       "    <tr>\n",
       "      <th>5</th>\n",
       "      <td>title</td>\n",
       "      <td>object</td>\n",
       "      <td>0</td>\n",
       "      <td>0.00</td>\n",
       "      <td>89008</td>\n",
       "      <td>50 Suspensores Para Short De Baño Tela Calada</td>\n",
       "      <td>66.0</td>\n",
       "      <td>50 Suspensores Para Short De Baño Nido De Abeja</td>\n",
       "      <td>45.0</td>\n",
       "      <td>Confeccion Short De Baño Bermudas Hombre Y Niño</td>\n",
       "      <td>32.0</td>\n",
       "    </tr>\n",
       "    <tr>\n",
       "      <th>6</th>\n",
       "      <td>descriptions</td>\n",
       "      <td>object</td>\n",
       "      <td>0</td>\n",
       "      <td>0.00</td>\n",
       "      <td>87584</td>\n",
       "      <td>[]</td>\n",
       "      <td>2417.0</td>\n",
       "      <td>[\"{'id': 'MLA6446532258-932171539'}\"]</td>\n",
       "      <td>1.0</td>\n",
       "      <td>[\"{'id': 'MLA6573595104-928825450'}\"]</td>\n",
       "      <td>1.0</td>\n",
       "    </tr>\n",
       "    <tr>\n",
       "      <th>7</th>\n",
       "      <td>last_updated</td>\n",
       "      <td>object</td>\n",
       "      <td>0</td>\n",
       "      <td>0.00</td>\n",
       "      <td>86015</td>\n",
       "      <td>2015-09-18T13:20:41.000Z</td>\n",
       "      <td>6.0</td>\n",
       "      <td>2015-09-30T12:20:39.000Z</td>\n",
       "      <td>6.0</td>\n",
       "      <td>2015-09-18T13:21:35.000Z</td>\n",
       "      <td>6.0</td>\n",
       "    </tr>\n",
       "    <tr>\n",
       "      <th>8</th>\n",
       "      <td>date_created</td>\n",
       "      <td>object</td>\n",
       "      <td>0</td>\n",
       "      <td>0.00</td>\n",
       "      <td>79247</td>\n",
       "      <td>2015-09-17T18:26:59.000Z</td>\n",
       "      <td>7.0</td>\n",
       "      <td>2015-09-28T14:10:39.000Z</td>\n",
       "      <td>7.0</td>\n",
       "      <td>2015-09-15T12:02:24.000Z</td>\n",
       "      <td>7.0</td>\n",
       "    </tr>\n",
       "    <tr>\n",
       "      <th>9</th>\n",
       "      <td>start_time</td>\n",
       "      <td>int64</td>\n",
       "      <td>0</td>\n",
       "      <td>0.00</td>\n",
       "      <td>78890</td>\n",
       "      <td>1443449439000</td>\n",
       "      <td>7.0</td>\n",
       "      <td>1442514419000</td>\n",
       "      <td>7.0</td>\n",
       "      <td>1444689463000</td>\n",
       "      <td>7.0</td>\n",
       "    </tr>\n",
       "    <tr>\n",
       "      <th>10</th>\n",
       "      <td>stop_time</td>\n",
       "      <td>int64</td>\n",
       "      <td>0</td>\n",
       "      <td>0.00</td>\n",
       "      <td>78486</td>\n",
       "      <td>1446584296000</td>\n",
       "      <td>19.0</td>\n",
       "      <td>1447009249000</td>\n",
       "      <td>17.0</td>\n",
       "      <td>1446858780000</td>\n",
       "      <td>17.0</td>\n",
       "    </tr>\n",
       "    <tr>\n",
       "      <th>11</th>\n",
       "      <td>parent_item_id</td>\n",
       "      <td>object</td>\n",
       "      <td>20690</td>\n",
       "      <td>22.99</td>\n",
       "      <td>69310</td>\n",
       "      <td>MLA3661010119</td>\n",
       "      <td>1.0</td>\n",
       "      <td>MLA6553902747</td>\n",
       "      <td>1.0</td>\n",
       "      <td>MLA7727150374</td>\n",
       "      <td>1.0</td>\n",
       "    </tr>\n",
       "    <tr>\n",
       "      <th>12</th>\n",
       "      <td>seller_id</td>\n",
       "      <td>int64</td>\n",
       "      <td>0</td>\n",
       "      <td>0.00</td>\n",
       "      <td>33281</td>\n",
       "      <td>5248662274</td>\n",
       "      <td>850.0</td>\n",
       "      <td>2015548469</td>\n",
       "      <td>654.0</td>\n",
       "      <td>7704929703</td>\n",
       "      <td>424.0</td>\n",
       "    </tr>\n",
       "    <tr>\n",
       "      <th>13</th>\n",
       "      <td>category_id</td>\n",
       "      <td>object</td>\n",
       "      <td>0</td>\n",
       "      <td>0.00</td>\n",
       "      <td>10491</td>\n",
       "      <td>MLA1227</td>\n",
       "      <td>4139.0</td>\n",
       "      <td>MLA2044</td>\n",
       "      <td>1759.0</td>\n",
       "      <td>MLA41287</td>\n",
       "      <td>829.0</td>\n",
       "    </tr>\n",
       "  </tbody>\n",
       "</table>\n",
       "</div>"
      ],
      "text/plain": [
       "                 col   dtype  n_missing  missing_pct  n_unique  \\\n",
       "0                 id  object          0         0.00     90000   \n",
       "1          permalink  object          0         0.00     90000   \n",
       "2           pictures  object          0         0.00     89294   \n",
       "3          thumbnail  object          0         0.00     89260   \n",
       "4   secure_thumbnail  object          0         0.00     89260   \n",
       "5              title  object          0         0.00     89008   \n",
       "6       descriptions  object          0         0.00     87584   \n",
       "7       last_updated  object          0         0.00     86015   \n",
       "8       date_created  object          0         0.00     79247   \n",
       "9         start_time   int64          0         0.00     78890   \n",
       "10         stop_time   int64          0         0.00     78486   \n",
       "11    parent_item_id  object      20690        22.99     69310   \n",
       "12         seller_id   int64          0         0.00     33281   \n",
       "13       category_id  object          0         0.00     10491   \n",
       "\n",
       "                                                 top1   freq1  \\\n",
       "0                                       MLA5576008214     1.0   \n",
       "1   http://articulo.mercadolibre.com.ar/MLA5576008...     1.0   \n",
       "2                                                  []   703.0   \n",
       "3                                                       703.0   \n",
       "4                                                       703.0   \n",
       "5       50 Suspensores Para Short De Baño Tela Calada    66.0   \n",
       "6                                                  []  2417.0   \n",
       "7                            2015-09-18T13:20:41.000Z     6.0   \n",
       "8                            2015-09-17T18:26:59.000Z     7.0   \n",
       "9                                       1443449439000     7.0   \n",
       "10                                      1446584296000    19.0   \n",
       "11                                      MLA3661010119     1.0   \n",
       "12                                         5248662274   850.0   \n",
       "13                                            MLA1227  4139.0   \n",
       "\n",
       "                                                 top2   freq2  \\\n",
       "0                                       MLA7057298505     1.0   \n",
       "1   http://articulo.mercadolibre.com.ar/MLA7057298...     1.0   \n",
       "2   [{'size': '250x250', 'secure_url': 'https://a2...     4.0   \n",
       "3   http://www.mercadolibre.com/jm/img?s=STC&v=I&f...    35.0   \n",
       "4   https://www.mercadolibre.com/jm/img?s=STC&v=I&...    35.0   \n",
       "5     50 Suspensores Para Short De Baño Nido De Abeja    45.0   \n",
       "6               [\"{'id': 'MLA6446532258-932171539'}\"]     1.0   \n",
       "7                            2015-09-30T12:20:39.000Z     6.0   \n",
       "8                            2015-09-28T14:10:39.000Z     7.0   \n",
       "9                                       1442514419000     7.0   \n",
       "10                                      1447009249000    17.0   \n",
       "11                                      MLA6553902747     1.0   \n",
       "12                                         2015548469   654.0   \n",
       "13                                            MLA2044  1759.0   \n",
       "\n",
       "                                                 top3  freq3  \n",
       "0                                       MLA3658983139    1.0  \n",
       "1   http://articulo.mercadolibre.com.ar/MLA3658983...    1.0  \n",
       "2   [{'size': '250x250', 'secure_url': 'https://a2...    2.0  \n",
       "3   http://mla-s1-p.mlstatic.com/6279-MLApp_27_214...    4.0  \n",
       "4   https://a248.e.akamai.net/mla-s1-p.mlstatic.co...    4.0  \n",
       "5     Confeccion Short De Baño Bermudas Hombre Y Niño   32.0  \n",
       "6               [\"{'id': 'MLA6573595104-928825450'}\"]    1.0  \n",
       "7                            2015-09-18T13:21:35.000Z    6.0  \n",
       "8                            2015-09-15T12:02:24.000Z    7.0  \n",
       "9                                       1444689463000    7.0  \n",
       "10                                      1446858780000   17.0  \n",
       "11                                      MLA7727150374    1.0  \n",
       "12                                         7704929703  424.0  \n",
       "13                                           MLA41287  829.0  "
      ]
     },
     "metadata": {},
     "output_type": "display_data"
    }
   ],
   "source": [
    "display(overview.sort_values('n_unique', ascending=False).head(14).reset_index(drop=True))"
   ]
  },
  {
   "cell_type": "markdown",
   "id": "da192662-acee-4d4a-b54c-f748df85eba3",
   "metadata": {
    "execution": {
     "iopub.execute_input": "2025-07-07T19:49:11.522183Z",
     "iopub.status.busy": "2025-07-07T19:49:11.521827Z",
     "iopub.status.idle": "2025-07-07T19:49:11.529278Z",
     "shell.execute_reply": "2025-07-07T19:49:11.528664Z",
     "shell.execute_reply.started": "2025-07-07T19:49:11.522153Z"
    }
   },
   "source": [
    "## Análisis de variables con mayor cardinalidad (`n_unique` Top-14)\n",
    "\n",
    "### 1. Vista general  \n",
    "* Varias columnas son **identificadores únicos o URLs**: `id`, `permalink`, distintos thumbnails. Cada fila trae un valor exclusivo → **no aportan señal** (sólo ruido y overfitting).  \n",
    "* Otras almacenan **listas** (`pictures`, `descriptions`) cuyo contenido varía casi línea por línea; conviene resumirlas a contadores o flags.  \n",
    "* Aparecen **timestamps crudos** (`start_time`, `stop_time`, `last_updated`, `date_created`) en string o epoch; mejor derivar duraciones/antigüedad y descartar el original.  \n",
    "* `title`, `seller_id`, `category_id` sí contienen información útil pese a la alta cardinalidad.\n",
    "\n",
    "---\n",
    "\n",
    "### 2. Diagnóstico por columna\n",
    "\n",
    "| Columna | n_unique | Observaciones & acción preliminar |\n",
    "|---------|------:|-----------------------------------|\n",
    "| **id** | 90 000 | Identificador único por ítem. Peligro de identity leakage y overfitting → **descartar**. |\n",
    "| **permalink** | 90 000 | URL exclusiva; mismo problema que `id`. **Descartar**. |\n",
    "| **pictures** | 89 294 | Lista de dicts con URLs y tamaños. <br> 💡 **Extraer** `n_pictures` y descartar la lista. A lo mejor extraemos algo mas sobre la resolución de la imagen en una fase 2. |\n",
    "| **thumbnail / secure_thumbnail** | 89 260 | URL casi única para cada ítem; duplican información de `pictures`. **Descartar**. |\n",
    "| **title** | 89 008 | Texto descriptivo clave. **Mantener** y procesar con **TF-IDF**. |\n",
    "| **descriptions** | 87 584 | Lista/JSON de descripción extendida. <br> 💡 Por ahora **extraer** `has_description` o `n_description_blocks`; dejar contenido completo para una fase 2. |\n",
    "| **last_updated** | 86 015 | Timestamp ISO. Convertir a `datetime`, derivar **delta tiempo** y luego descartar crudo. |\n",
    "| **date_created** | 79 247 | Idem anterior. |\n",
    "| **start_time / stop_time** | 78 890 / 78 486 | Epoch ms → **derivar** `listing_duration_days`, `item_age_days`; luego descartar crudo. |\n",
    "| **parent_item_id** | 69 310 | Identifica ítem padre (variaciones). Alta cardinalidad pero posible señal de “familia” de producto. → **Hash-encode** y conservar. |\n",
    "| **seller_id** | 33 281 | Indicador de vendedor. **Mantener** con **hashing** (riesgo de one-hot gigantesco). |\n",
    "| **category_id** | 10 491 | Taxonomía MELI. **Señal fundamental; mantener** con **target encoding** o one-hot recortado. |\n",
    "\n",
    "---\n",
    "\n",
    "### 3. Decisiones inmediatas\n",
    "\n",
    "| Acción | Columnas implicadas |\n",
    "|--------|--------------------|\n",
    "| **Descartar sin dudas** | `id`, `permalink`, `thumbnail`, `secure_thumbnail` |\n",
    "| **Resumen por recuento / flag** | `pictures` → `n_pictures` · `descriptions` → `has_description` / `n_desc_blocks` |\n",
    "| **Transformar timestamps** | `last_updated`, `date_created`, `start_time`, `stop_time` → convertir a `datetime`, luego derivar `listing_duration_days`, `item_age_days` y eliminar originales |\n",
    "| **Mantener con encoding adecuado** | `title` → TF-IDF · `seller_id` → hashing · `parent_item_id` → hashing · `category_id` → target / reduced one-hot |\n",
    "\n",
    "⇒ *Con estas decisiones controlamos la explosión de cardinalidad, prevenimos data leakeage y nos quedamos con la información verdaderamente útil para el modelo.*"
   ]
  },
  {
   "cell_type": "markdown",
   "id": "bf05dfbb-68aa-400e-9fcc-54ec6b2e8109",
   "metadata": {
    "execution": {
     "iopub.execute_input": "2025-07-07T20:13:25.063539Z",
     "iopub.status.busy": "2025-07-07T20:13:25.063228Z",
     "iopub.status.idle": "2025-07-07T20:13:25.067749Z",
     "shell.execute_reply": "2025-07-07T20:13:25.067234Z",
     "shell.execute_reply.started": "2025-07-07T20:13:25.063519Z"
    }
   },
   "source": [
    "## Por ultimo, analizamos  las variables que no entraron en los dos casos anteriores"
   ]
  },
  {
   "cell_type": "code",
   "execution_count": 16,
   "id": "53a74cd8-69ac-4bf2-9452-4ee7f0a9b23d",
   "metadata": {
    "execution": {
     "iopub.execute_input": "2025-07-08T23:17:22.467840Z",
     "iopub.status.busy": "2025-07-08T23:17:22.467663Z",
     "iopub.status.idle": "2025-07-08T23:17:22.470574Z",
     "shell.execute_reply": "2025-07-08T23:17:22.470080Z",
     "shell.execute_reply.started": "2025-07-08T23:17:22.467824Z"
    }
   },
   "outputs": [],
   "source": [
    "pending_cols = [\n",
    "    'sub_status', 'non_mercado_pago_payment_methods', 'variations', 'listing_type_id', 'buying_mode', \n",
    "    'tags', 'automatic_relist', 'status', 'attributes', 'base_price', 'price', 'seller_address_state_name', \n",
    "    'seller_address_state_id', 'seller_address_city_name', 'seller_address_city_id', 'shipping_local_pick_up',\n",
    "    'shipping_free_shipping', 'shipping_mode', 'initial_quantity', 'sold_quantity', 'available_quantity'\n",
    "   ]"
   ]
  },
  {
   "cell_type": "code",
   "execution_count": 17,
   "id": "3c48f10c-2f72-43e3-92f2-b6aa95d81cfc",
   "metadata": {
    "execution": {
     "iopub.execute_input": "2025-07-08T23:17:22.471352Z",
     "iopub.status.busy": "2025-07-08T23:17:22.471176Z",
     "iopub.status.idle": "2025-07-08T23:17:24.388100Z",
     "shell.execute_reply": "2025-07-08T23:17:24.387519Z",
     "shell.execute_reply.started": "2025-07-08T23:17:22.471336Z"
    }
   },
   "outputs": [],
   "source": [
    "overview_pending = quick_overview(df_train[pending_cols], top_n=3)"
   ]
  },
  {
   "cell_type": "code",
   "execution_count": 18,
   "id": "370a4d83-cf73-43d0-9c40-4df5e6d825f1",
   "metadata": {
    "execution": {
     "iopub.execute_input": "2025-07-08T23:17:24.389028Z",
     "iopub.status.busy": "2025-07-08T23:17:24.388743Z",
     "iopub.status.idle": "2025-07-08T23:17:24.401790Z",
     "shell.execute_reply": "2025-07-08T23:17:24.401299Z",
     "shell.execute_reply.started": "2025-07-08T23:17:24.389010Z"
    }
   },
   "outputs": [
    {
     "data": {
      "text/html": [
       "<div>\n",
       "<style scoped>\n",
       "    .dataframe tbody tr th:only-of-type {\n",
       "        vertical-align: middle;\n",
       "    }\n",
       "\n",
       "    .dataframe tbody tr th {\n",
       "        vertical-align: top;\n",
       "    }\n",
       "\n",
       "    .dataframe thead th {\n",
       "        text-align: right;\n",
       "    }\n",
       "</style>\n",
       "<table border=\"1\" class=\"dataframe\">\n",
       "  <thead>\n",
       "    <tr style=\"text-align: right;\">\n",
       "      <th></th>\n",
       "      <th>col</th>\n",
       "      <th>dtype</th>\n",
       "      <th>n_unique</th>\n",
       "      <th>top1</th>\n",
       "      <th>freq1</th>\n",
       "      <th>top2</th>\n",
       "      <th>freq2</th>\n",
       "      <th>top3</th>\n",
       "      <th>freq3</th>\n",
       "    </tr>\n",
       "  </thead>\n",
       "  <tbody>\n",
       "    <tr>\n",
       "      <th>0</th>\n",
       "      <td>sub_status</td>\n",
       "      <td>object</td>\n",
       "      <td>4</td>\n",
       "      <td>[]</td>\n",
       "      <td>89109</td>\n",
       "      <td>['suspended']</td>\n",
       "      <td>871</td>\n",
       "      <td>['expired']</td>\n",
       "      <td>13.0</td>\n",
       "    </tr>\n",
       "    <tr>\n",
       "      <th>1</th>\n",
       "      <td>buying_mode</td>\n",
       "      <td>object</td>\n",
       "      <td>3</td>\n",
       "      <td>buy_it_now</td>\n",
       "      <td>87311</td>\n",
       "      <td>classified</td>\n",
       "      <td>1982</td>\n",
       "      <td>auction</td>\n",
       "      <td>707.0</td>\n",
       "    </tr>\n",
       "    <tr>\n",
       "      <th>2</th>\n",
       "      <td>shipping_free_shipping</td>\n",
       "      <td>bool</td>\n",
       "      <td>2</td>\n",
       "      <td>False</td>\n",
       "      <td>87303</td>\n",
       "      <td>True</td>\n",
       "      <td>2697</td>\n",
       "      <td>NaN</td>\n",
       "      <td>NaN</td>\n",
       "    </tr>\n",
       "    <tr>\n",
       "      <th>3</th>\n",
       "      <td>status</td>\n",
       "      <td>object</td>\n",
       "      <td>4</td>\n",
       "      <td>active</td>\n",
       "      <td>86116</td>\n",
       "      <td>paused</td>\n",
       "      <td>3863</td>\n",
       "      <td>closed</td>\n",
       "      <td>20.0</td>\n",
       "    </tr>\n",
       "    <tr>\n",
       "      <th>4</th>\n",
       "      <td>automatic_relist</td>\n",
       "      <td>bool</td>\n",
       "      <td>2</td>\n",
       "      <td>False</td>\n",
       "      <td>85773</td>\n",
       "      <td>True</td>\n",
       "      <td>4227</td>\n",
       "      <td>NaN</td>\n",
       "      <td>NaN</td>\n",
       "    </tr>\n",
       "    <tr>\n",
       "      <th>5</th>\n",
       "      <td>variations</td>\n",
       "      <td>object</td>\n",
       "      <td>7375</td>\n",
       "      <td>[]</td>\n",
       "      <td>82626</td>\n",
       "      <td>[{'attribute_combinations': [{'value_id': '920...</td>\n",
       "      <td>1</td>\n",
       "      <td>[{'attribute_combinations': [{'value_id': '920...</td>\n",
       "      <td>1.0</td>\n",
       "    </tr>\n",
       "    <tr>\n",
       "      <th>6</th>\n",
       "      <td>attributes</td>\n",
       "      <td>object</td>\n",
       "      <td>3118</td>\n",
       "      <td>[]</td>\n",
       "      <td>78850</td>\n",
       "      <td>[{'value_id': 'female', 'attribute_group_id': ...</td>\n",
       "      <td>1039</td>\n",
       "      <td>[{'value_id': 'female', 'attribute_group_id': ...</td>\n",
       "      <td>997.0</td>\n",
       "    </tr>\n",
       "    <tr>\n",
       "      <th>7</th>\n",
       "      <td>sold_quantity</td>\n",
       "      <td>int64</td>\n",
       "      <td>304</td>\n",
       "      <td>0</td>\n",
       "      <td>74834</td>\n",
       "      <td>1</td>\n",
       "      <td>5924</td>\n",
       "      <td>2</td>\n",
       "      <td>2246.0</td>\n",
       "    </tr>\n",
       "    <tr>\n",
       "      <th>8</th>\n",
       "      <td>shipping_local_pick_up</td>\n",
       "      <td>bool</td>\n",
       "      <td>2</td>\n",
       "      <td>True</td>\n",
       "      <td>71577</td>\n",
       "      <td>False</td>\n",
       "      <td>18423</td>\n",
       "      <td>NaN</td>\n",
       "      <td>NaN</td>\n",
       "    </tr>\n",
       "    <tr>\n",
       "      <th>9</th>\n",
       "      <td>tags</td>\n",
       "      <td>object</td>\n",
       "      <td>8</td>\n",
       "      <td>['dragged_bids_and_visits']</td>\n",
       "      <td>65315</td>\n",
       "      <td>[]</td>\n",
       "      <td>22412</td>\n",
       "      <td>['good_quality_thumbnail', 'dragged_bids_and_v...</td>\n",
       "      <td>1191.0</td>\n",
       "    </tr>\n",
       "    <tr>\n",
       "      <th>10</th>\n",
       "      <td>available_quantity</td>\n",
       "      <td>int64</td>\n",
       "      <td>441</td>\n",
       "      <td>1</td>\n",
       "      <td>63732</td>\n",
       "      <td>2</td>\n",
       "      <td>4737</td>\n",
       "      <td>10</td>\n",
       "      <td>3886.0</td>\n",
       "    </tr>\n",
       "    <tr>\n",
       "      <th>11</th>\n",
       "      <td>initial_quantity</td>\n",
       "      <td>int64</td>\n",
       "      <td>425</td>\n",
       "      <td>1</td>\n",
       "      <td>63245</td>\n",
       "      <td>2</td>\n",
       "      <td>4575</td>\n",
       "      <td>10</td>\n",
       "      <td>4215.0</td>\n",
       "    </tr>\n",
       "    <tr>\n",
       "      <th>12</th>\n",
       "      <td>listing_type_id</td>\n",
       "      <td>object</td>\n",
       "      <td>7</td>\n",
       "      <td>bronze</td>\n",
       "      <td>56904</td>\n",
       "      <td>free</td>\n",
       "      <td>19260</td>\n",
       "      <td>silver</td>\n",
       "      <td>8195.0</td>\n",
       "    </tr>\n",
       "    <tr>\n",
       "      <th>13</th>\n",
       "      <td>seller_address_state_name</td>\n",
       "      <td>object</td>\n",
       "      <td>25</td>\n",
       "      <td>Capital Federal</td>\n",
       "      <td>52143</td>\n",
       "      <td>Buenos Aires</td>\n",
       "      <td>31482</td>\n",
       "      <td>Santa Fe</td>\n",
       "      <td>2398.0</td>\n",
       "    </tr>\n",
       "    <tr>\n",
       "      <th>14</th>\n",
       "      <td>seller_address_state_id</td>\n",
       "      <td>object</td>\n",
       "      <td>25</td>\n",
       "      <td>AR-C</td>\n",
       "      <td>52143</td>\n",
       "      <td>AR-B</td>\n",
       "      <td>31482</td>\n",
       "      <td>AR-S</td>\n",
       "      <td>2398.0</td>\n",
       "    </tr>\n",
       "    <tr>\n",
       "      <th>15</th>\n",
       "      <td>seller_address_city_id</td>\n",
       "      <td>object</td>\n",
       "      <td>285</td>\n",
       "      <td></td>\n",
       "      <td>49157</td>\n",
       "      <td>TUxBQlBBTDI1MTVa</td>\n",
       "      <td>2950</td>\n",
       "      <td>TUxBQkNBQjM4MDda</td>\n",
       "      <td>2620.0</td>\n",
       "    </tr>\n",
       "    <tr>\n",
       "      <th>16</th>\n",
       "      <td>shipping_mode</td>\n",
       "      <td>object</td>\n",
       "      <td>4</td>\n",
       "      <td>me2</td>\n",
       "      <td>46059</td>\n",
       "      <td>not_specified</td>\n",
       "      <td>40725</td>\n",
       "      <td>custom</td>\n",
       "      <td>3130.0</td>\n",
       "    </tr>\n",
       "    <tr>\n",
       "      <th>17</th>\n",
       "      <td>non_mercado_pago_payment_methods</td>\n",
       "      <td>object</td>\n",
       "      <td>174</td>\n",
       "      <td>[]</td>\n",
       "      <td>27531</td>\n",
       "      <td>[{'description': 'Transferencia bancaria', 'id...</td>\n",
       "      <td>20303</td>\n",
       "      <td>[{'description': 'Transferencia bancaria', 'id...</td>\n",
       "      <td>18678.0</td>\n",
       "    </tr>\n",
       "    <tr>\n",
       "      <th>18</th>\n",
       "      <td>seller_address_city_name</td>\n",
       "      <td>object</td>\n",
       "      <td>3480</td>\n",
       "      <td>CABA</td>\n",
       "      <td>3708</td>\n",
       "      <td>Buenos Aires</td>\n",
       "      <td>3104</td>\n",
       "      <td>Capital Federal</td>\n",
       "      <td>3053.0</td>\n",
       "    </tr>\n",
       "    <tr>\n",
       "      <th>19</th>\n",
       "      <td>base_price</td>\n",
       "      <td>float64</td>\n",
       "      <td>9594</td>\n",
       "      <td>50.0</td>\n",
       "      <td>2920</td>\n",
       "      <td>100.0</td>\n",
       "      <td>2562</td>\n",
       "      <td>150.0</td>\n",
       "      <td>2242.0</td>\n",
       "    </tr>\n",
       "    <tr>\n",
       "      <th>20</th>\n",
       "      <td>price</td>\n",
       "      <td>float64</td>\n",
       "      <td>9595</td>\n",
       "      <td>50.0</td>\n",
       "      <td>2920</td>\n",
       "      <td>100.0</td>\n",
       "      <td>2562</td>\n",
       "      <td>150.0</td>\n",
       "      <td>2242.0</td>\n",
       "    </tr>\n",
       "  </tbody>\n",
       "</table>\n",
       "</div>"
      ],
      "text/plain": [
       "                                 col    dtype  n_unique  \\\n",
       "0                         sub_status   object         4   \n",
       "1                        buying_mode   object         3   \n",
       "2             shipping_free_shipping     bool         2   \n",
       "3                             status   object         4   \n",
       "4                   automatic_relist     bool         2   \n",
       "5                         variations   object      7375   \n",
       "6                         attributes   object      3118   \n",
       "7                      sold_quantity    int64       304   \n",
       "8             shipping_local_pick_up     bool         2   \n",
       "9                               tags   object         8   \n",
       "10                available_quantity    int64       441   \n",
       "11                  initial_quantity    int64       425   \n",
       "12                   listing_type_id   object         7   \n",
       "13         seller_address_state_name   object        25   \n",
       "14           seller_address_state_id   object        25   \n",
       "15            seller_address_city_id   object       285   \n",
       "16                     shipping_mode   object         4   \n",
       "17  non_mercado_pago_payment_methods   object       174   \n",
       "18          seller_address_city_name   object      3480   \n",
       "19                        base_price  float64      9594   \n",
       "20                             price  float64      9595   \n",
       "\n",
       "                           top1  freq1  \\\n",
       "0                            []  89109   \n",
       "1                    buy_it_now  87311   \n",
       "2                         False  87303   \n",
       "3                        active  86116   \n",
       "4                         False  85773   \n",
       "5                            []  82626   \n",
       "6                            []  78850   \n",
       "7                             0  74834   \n",
       "8                          True  71577   \n",
       "9   ['dragged_bids_and_visits']  65315   \n",
       "10                            1  63732   \n",
       "11                            1  63245   \n",
       "12                       bronze  56904   \n",
       "13              Capital Federal  52143   \n",
       "14                         AR-C  52143   \n",
       "15                               49157   \n",
       "16                          me2  46059   \n",
       "17                           []  27531   \n",
       "18                         CABA   3708   \n",
       "19                         50.0   2920   \n",
       "20                         50.0   2920   \n",
       "\n",
       "                                                 top2  freq2  \\\n",
       "0                                       ['suspended']    871   \n",
       "1                                          classified   1982   \n",
       "2                                                True   2697   \n",
       "3                                              paused   3863   \n",
       "4                                                True   4227   \n",
       "5   [{'attribute_combinations': [{'value_id': '920...      1   \n",
       "6   [{'value_id': 'female', 'attribute_group_id': ...   1039   \n",
       "7                                                   1   5924   \n",
       "8                                               False  18423   \n",
       "9                                                  []  22412   \n",
       "10                                                  2   4737   \n",
       "11                                                  2   4575   \n",
       "12                                               free  19260   \n",
       "13                                       Buenos Aires  31482   \n",
       "14                                               AR-B  31482   \n",
       "15                                   TUxBQlBBTDI1MTVa   2950   \n",
       "16                                      not_specified  40725   \n",
       "17  [{'description': 'Transferencia bancaria', 'id...  20303   \n",
       "18                                       Buenos Aires   3104   \n",
       "19                                              100.0   2562   \n",
       "20                                              100.0   2562   \n",
       "\n",
       "                                                 top3    freq3  \n",
       "0                                         ['expired']     13.0  \n",
       "1                                             auction    707.0  \n",
       "2                                                 NaN      NaN  \n",
       "3                                              closed     20.0  \n",
       "4                                                 NaN      NaN  \n",
       "5   [{'attribute_combinations': [{'value_id': '920...      1.0  \n",
       "6   [{'value_id': 'female', 'attribute_group_id': ...    997.0  \n",
       "7                                                   2   2246.0  \n",
       "8                                                 NaN      NaN  \n",
       "9   ['good_quality_thumbnail', 'dragged_bids_and_v...   1191.0  \n",
       "10                                                 10   3886.0  \n",
       "11                                                 10   4215.0  \n",
       "12                                             silver   8195.0  \n",
       "13                                           Santa Fe   2398.0  \n",
       "14                                               AR-S   2398.0  \n",
       "15                                   TUxBQkNBQjM4MDda   2620.0  \n",
       "16                                             custom   3130.0  \n",
       "17  [{'description': 'Transferencia bancaria', 'id...  18678.0  \n",
       "18                                    Capital Federal   3053.0  \n",
       "19                                              150.0   2242.0  \n",
       "20                                              150.0   2242.0  "
      ]
     },
     "metadata": {},
     "output_type": "display_data"
    }
   ],
   "source": [
    "display(overview_pending.drop(['n_missing', 'missing_pct'], axis=1).sort_values('freq1', ascending=False).head(22).reset_index(drop=True))"
   ]
  },
  {
   "cell_type": "markdown",
   "id": "23bca388-aa13-409a-a72a-63855e6579ff",
   "metadata": {},
   "source": [
    "## Análisis de variables restantes\n",
    "\n",
    "### 1. Vista general  \n",
    "* La mayoría de estas columnas **son utiles** y se reparte en dos grandes grupos:\n",
    "  * **List-like / JSON** con la lista vacía `[]` como valor modal (`variations`, `attributes`, `non_mercado_pago_payment_methods`).\n",
    "  * **Booleans / categóricas muy sesgadas** (`shipping_free_shipping`, `buying_mode`, `status`, …) donde un solo valor domina > 70 % del set.\n",
    "  * **Identificadores/contadores** con cola larga (`seller_address_city_id`, `initial_quantity`, etc.).\n",
    "* Los contadores de inventario (`sold_quantity`, `available_quantity`) y los flags de logística muestran *long tail* de valores bajos (0-3 unidades).\n",
    "* Las numéricas de precio muestran miles de valores distintos — habitual en features continuas — pero `base_price` es casi réplica de `price`.  \n",
    "* Algunas columnas tienen cardinalidad moderada (4–25) y son buenas candidatas para **one-hot** (`listing_type_id`, `shipping_mode`, `seller_address_state_name`).\n",
    "* Con esta foto podemos decidir qué campos degradar a **flag / count** y cuáles merecen un encoding más elaborado.\n",
    "\n",
    "---\n",
    "\n",
    "### 2. Diagnóstico por columna\n",
    "\n",
    "| Columna | n_unique | Observaciones & acción preliminar |\n",
    "|---------|------:|-----------------------------------|\n",
    "| **sub_status** | 4 | 99 % `[]`; ocasional `'suspended'`, `'expired'`. → Flag `has_sub_status` y descartar texto. |\n",
    "| **buying_mode** | 3 | 97 % `buy_it_now`, resto `classified` / `auction`. → Mantener one-hot (poca cardinalidad). |\n",
    "| **shipping_free_shipping** | 2 | 97 % `False`, 3 % `True`. → Mantener como **variable binaria** (ya lo es). |\n",
    "| **status** | 4 | 95 % `active`; `paused`, `closed` minoritarios. → Mantener como cat. pequeña; posible señal de disponibilidad. → One-hot (pocas categorías).|\n",
    "| **automatic_relist** | 2 | 95 % `False`. → Mantener como flag. |\n",
    "| **variations** | 7 375 | 92 % `[]`; resto JSON con combinaciones. → Derivar `n_variations` (len(lista)) y descartar lista. |\n",
    "| **attributes** | 3 118 | 87 % `[]`. → Derivar `n_attributes` y, a futuro, extraer `brand` / `item_condition` en una fase 2. |\n",
    "| **sold_quantity** | 304 | 83 % `0`, cola larga. → Mantener numérica + usar en `sell_through_rate`. |\n",
    "| **shipping_local_pick_up** | 2 | 80 % `True`. → Mantener como flag binaria (podría correlacionar con “usado”). |\n",
    "| **tags** | 8 | 72 % `['dragged_bids_and_visits']`, 24 % `[]`. → Flag `has_tags`, quizá one-hot de etiquetas más frecuentes. |\n",
    "| **available_quantity** | 441 | 70 % `1`, luego cola larga. → Mantener numérica + derivar `stock_remaining_pct`. |\n",
    "| **initial_quantity** | 425 | 70 % `1`; muy correlacionada con `sold_quantity + available`. → Mantener para ratio, descartar si causa multicolinealidad. |\n",
    "| **listing_type_id** | 7 | `bronze` 63 %, `free` 21 %, `silver` 9 %… → One-hot (baja cardinalidad). |\n",
    "| **seller_address_state_name / _id** | 25 | Provincias (Buenos Aires 35 k, CABA 5 k…). → One-hot o target-encode; aporta señal geográfica. |\n",
    "| **seller_address_city_id / _name** | 285 / 3 480 | Alta cardinalidad; mantener con **hashing** o agrupar ciudades top-N y resto «other». |\n",
    "| **shipping_mode** | 4 | `me2` 51 %, `not_specified` 45 %, `custom` 3 %. → One-hot. |\n",
    "| **non_mercado_pago_payment_methods** | 174 | 31 k registros con `[]`; resto JSON con métodos externos. → Flag `has_other_payments`. |\n",
    "| **base_price** | 9 594 | Casi duplicado de `price`; ρ≈1.0. → **Descartar** y calcular `discount_pct` con `price`. |\n",
    "| **price** | 9 595 | Valor continuo clave. → Mantener; crear `log1p_price`. |\n",
    "\n",
    "---\n",
    "\n",
    "### 3. Decisiones inmediatas\n",
    "\n",
    "| Acción | Columnas |\n",
    "|--------|----------|\n",
    "| **Descartar** | `base_price` |\n",
    "| **Reducir a flag / count** | `sub_status`, `variations`, `attributes`, `tags`, `non_mercado_pago_payment_methods` |\n",
    "| **Mantener binaria** | `shipping_free_shipping`, `automatic_relist`, `shipping_local_pick_up` |\n",
    "| **Mantener one-hot** | `buying_mode`, `status`, `listing_type_id`, `shipping_mode`, `seller_address_state_name`, `seller_address_state_id` |\n",
    "| **Mantener high-card encoding** | `seller_address_city_id`, `seller_address_city_name` |\n",
    "| **Mantener numéricas + métricas derivadas** | `price`, `sold_quantity`, `available_quantity`, `initial_quantity` (→ `sell_through_rate`, `stock_remaining_pct`) |\n",
    "\n",
    "⇒ *Con esta lista final terminamos la fase de diagnóstico de features: sabemos qué descartar, qué simplificar en flags/binary y qué conservar con el encoding apropiado/feature engineering antes de construir el pipeline de modelado.*"
   ]
  },
  {
   "cell_type": "markdown",
   "id": "990fcaa0-aa6c-4cf7-8e7e-e7f0c844d5b8",
   "metadata": {},
   "source": [
    "# 2. Feature Engineering & Feature Selection & Feature Creation"
   ]
  },
  {
   "cell_type": "markdown",
   "id": "cad0aa81-e102-4e9f-a89f-55735108eed6",
   "metadata": {},
   "source": [
    "## 2.1 Columnas a descartar por completo"
   ]
  },
  {
   "cell_type": "code",
   "execution_count": 19,
   "id": "9bd19285-5433-4b1d-ae32-b13ed8470d0b",
   "metadata": {
    "execution": {
     "iopub.execute_input": "2025-07-08T23:17:24.408015Z",
     "iopub.status.busy": "2025-07-08T23:17:24.407843Z",
     "iopub.status.idle": "2025-07-08T23:17:24.410561Z",
     "shell.execute_reply": "2025-07-08T23:17:24.410074Z",
     "shell.execute_reply.started": "2025-07-08T23:17:24.407999Z"
    }
   },
   "outputs": [],
   "source": [
    "DROP_COLS = [\n",
    "    'differential_pricing', 'subtitle', 'shipping_dimensions', 'original_price',\n",
    "    'shipping_methods', 'site_id', 'listing_source', 'coverage_areas',\n",
    "    'international_delivery_mode', 'seller_address_country_name',\n",
    "    'seller_address_country_id', 'deal_ids', 'id', 'permalink',\n",
    "    'thumbnail', 'secure_thumbnail', 'base_price'\n",
    "]"
   ]
  },
  {
   "cell_type": "code",
   "execution_count": 20,
   "id": "0f6fc854-b102-48f9-bc6c-8c483b4df139",
   "metadata": {
    "execution": {
     "iopub.execute_input": "2025-07-08T23:17:24.411285Z",
     "iopub.status.busy": "2025-07-08T23:17:24.411105Z",
     "iopub.status.idle": "2025-07-08T23:17:24.487664Z",
     "shell.execute_reply": "2025-07-08T23:17:24.487111Z",
     "shell.execute_reply.started": "2025-07-08T23:17:24.411269Z"
    }
   },
   "outputs": [
    {
     "name": "stdout",
     "output_type": "stream",
     "text": [
      "Columnas eliminadas: 17\n",
      "Nuevo shape  →  Train: (90000, 39) | Test: (10000, 38)\n"
     ]
    }
   ],
   "source": [
    "df_train = df_train.drop(columns=DROP_COLS, errors='ignore')\n",
    "df_test  = df_test.drop(columns=DROP_COLS,  errors='ignore')\n",
    "\n",
    "print(\"Columnas eliminadas:\", len(DROP_COLS))\n",
    "print(\"Nuevo shape  →  Train:\", df_train.shape, \"| Test:\", df_test.shape)"
   ]
  },
  {
   "cell_type": "markdown",
   "id": "035b40dc-eeb1-451f-8449-8f73f15a01d7",
   "metadata": {},
   "source": [
    "## 2.2 Convertir IDs numéricos en categóricos: Columnas que terminan en “`_id`” las casteamos a `object` para tratarlas como categóricas."
   ]
  },
  {
   "cell_type": "code",
   "execution_count": 21,
   "id": "3ec1e6de-bd5e-486d-9fff-ee7c5c46ae34",
   "metadata": {
    "execution": {
     "iopub.execute_input": "2025-07-08T23:17:24.490427Z",
     "iopub.status.busy": "2025-07-08T23:17:24.490244Z",
     "iopub.status.idle": "2025-07-08T23:17:24.596261Z",
     "shell.execute_reply": "2025-07-08T23:17:24.595735Z",
     "shell.execute_reply.started": "2025-07-08T23:17:24.490410Z"
    }
   },
   "outputs": [
    {
     "name": "stdout",
     "output_type": "stream",
     "text": [
      "IDs numéricos detectados (3): ['seller_id', 'official_store_id', 'catalog_product_id']\n"
     ]
    }
   ],
   "source": [
    "id_num_cols = df_train.filter(regex=r'_id$', axis=1).select_dtypes(include='number').columns.tolist()\n",
    "\n",
    "print(f\"IDs numéricos detectados ({len(id_num_cols)}):\", id_num_cols)\n",
    "\n",
    "for col in id_num_cols:\n",
    "    df_train[col] = df_train[col].astype('string')\n",
    "    df_test[col]  = df_test[col].astype('string')"
   ]
  },
  {
   "cell_type": "markdown",
   "id": "e5bafa5c-fdd0-4013-b5ff-aa8f88995267",
   "metadata": {},
   "source": [
    "## 2.3 Normalizar columnas temporales."
   ]
  },
  {
   "cell_type": "code",
   "execution_count": 22,
   "id": "141b0cef-28b4-48d8-9aea-8357c4f81c3c",
   "metadata": {
    "execution": {
     "iopub.execute_input": "2025-07-08T23:17:24.599216Z",
     "iopub.status.busy": "2025-07-08T23:17:24.598964Z",
     "iopub.status.idle": "2025-07-08T23:17:24.602470Z",
     "shell.execute_reply": "2025-07-08T23:17:24.602017Z",
     "shell.execute_reply.started": "2025-07-08T23:17:24.599189Z"
    }
   },
   "outputs": [],
   "source": [
    "TS_COLS = [c for c in ['start_time', 'stop_time', 'last_updated', 'date_created']\n",
    "           if c in df_train.columns]\n",
    "\n",
    "def to_datetime_naive(s: pd.Series) -> pd.Series:\n",
    "    if pd.api.types.is_numeric_dtype(s):\n",
    "        s = pd.to_datetime(s, unit='ms', errors='coerce', utc=True)\n",
    "    else:\n",
    "        s = pd.to_datetime(s, errors='coerce', utc=True)\n",
    "    return s.dt.tz_localize(None)"
   ]
  },
  {
   "cell_type": "code",
   "execution_count": 23,
   "id": "eda08c23-81c5-4490-a1d6-34b433243f95",
   "metadata": {
    "execution": {
     "iopub.execute_input": "2025-07-08T23:17:24.603183Z",
     "iopub.status.busy": "2025-07-08T23:17:24.603003Z",
     "iopub.status.idle": "2025-07-08T23:17:24.823528Z",
     "shell.execute_reply": "2025-07-08T23:17:24.823093Z",
     "shell.execute_reply.started": "2025-07-08T23:17:24.603166Z"
    }
   },
   "outputs": [],
   "source": [
    "for col in TS_COLS:\n",
    "    df_train[col] = to_datetime_naive(df_train[col])\n",
    "    df_test[col]  = to_datetime_naive(df_test[col])"
   ]
  },
  {
   "cell_type": "markdown",
   "id": "5accc4c6-9e8c-49ec-96d3-29b58408e5f7",
   "metadata": {},
   "source": [
    "## 2.4 Resumen de cuántas columnas tenemos de cada tipo tras las conversiones anteriores."
   ]
  },
  {
   "cell_type": "code",
   "execution_count": 24,
   "id": "41ad4a7d-26a5-4ca5-a16b-e54e651e8372",
   "metadata": {
    "execution": {
     "iopub.execute_input": "2025-07-08T23:17:24.825959Z",
     "iopub.status.busy": "2025-07-08T23:17:24.825789Z",
     "iopub.status.idle": "2025-07-08T23:17:25.092462Z",
     "shell.execute_reply": "2025-07-08T23:17:25.091977Z",
     "shell.execute_reply.started": "2025-07-08T23:17:24.825943Z"
    }
   },
   "outputs": [
    {
     "name": "stdout",
     "output_type": "stream",
     "text": [
      "Numéricas:   4\n",
      "Categóricas: 27\n",
      "Booleanas:   4\n",
      "Fechas:      4\n",
      "Texto:       1\n"
     ]
    }
   ],
   "source": [
    "num_cols  = df_train.select_dtypes(include='number').columns.tolist()\n",
    "cat_cols  = df_train.select_dtypes(include=['object', 'string']).columns.tolist()\n",
    "bool_cols = df_train.select_dtypes(include='bool').columns.tolist()\n",
    "dt_cols   = TS_COLS\n",
    "text_cols = ['title'] if 'title' in df_train.columns else []\n",
    "\n",
    "print(f\"Numéricas:   {len(num_cols)}\")\n",
    "print(f\"Categóricas: {len(cat_cols)}\")\n",
    "print(f\"Booleanas:   {len(bool_cols)}\")\n",
    "print(f\"Fechas:      {len(dt_cols)}\")\n",
    "print(f\"Texto:       {len(text_cols)}\")"
   ]
  },
  {
   "cell_type": "markdown",
   "id": "6ed56308-0d45-4149-a1a9-4a64c08b22f6",
   "metadata": {},
   "source": [
    "## 2.5 Estandarizar valores nulos en todas las categóricas"
   ]
  },
  {
   "cell_type": "code",
   "execution_count": 25,
   "id": "178c6b8c-5d3b-4a9c-b951-8425586c985d",
   "metadata": {
    "execution": {
     "iopub.execute_input": "2025-07-08T23:17:25.095482Z",
     "iopub.status.busy": "2025-07-08T23:17:25.095311Z",
     "iopub.status.idle": "2025-07-08T23:17:25.099873Z",
     "shell.execute_reply": "2025-07-08T23:17:25.099331Z",
     "shell.execute_reply.started": "2025-07-08T23:17:25.095465Z"
    }
   },
   "outputs": [],
   "source": [
    "NULL_TOKENS = {'', ' ', 'na', 'n/a', 'none', 'null', 'nan', '[]', '{}'}\n",
    "\n",
    "def normalize_cat_nulls(series: pd.Series) -> pd.Series:\n",
    "    \"\"\"\n",
    "    Uniformiza representaciones de vacío/nulo en una Series categórica:\n",
    "    '', ' ', '[]', '{}', listas/dicts vacíos, etc. → pd.NA\n",
    "    \"\"\"\n",
    "    def _to_na(x):\n",
    "        # ---------------- valores no escalares ----------------\n",
    "        if not is_scalar(x):\n",
    "            # lista o dict vacío → NA\n",
    "            if isinstance(x, (list, tuple, set, dict)) and len(x) == 0:\n",
    "                return pd.NA\n",
    "            x_str = str(x).strip().lower()\n",
    "            return pd.NA if x_str in NULL_TOKENS else x\n",
    "\n",
    "        # ---------------- valores escalares ----------------\n",
    "        if x is None:\n",
    "            return pd.NA\n",
    "        if isinstance(x, float) and math.isnan(x):\n",
    "            return pd.NA\n",
    "        if pd.isna(x):\n",
    "            return pd.NA\n",
    "        x_str = str(x).strip().lower()\n",
    "        return pd.NA if x_str in NULL_TOKENS else x\n",
    "\n",
    "    return series.map(_to_na)"
   ]
  },
  {
   "cell_type": "code",
   "execution_count": 26,
   "id": "c6141de2-2809-4452-918e-cbac13d335c0",
   "metadata": {
    "execution": {
     "iopub.execute_input": "2025-07-08T23:17:25.100672Z",
     "iopub.status.busy": "2025-07-08T23:17:25.100413Z",
     "iopub.status.idle": "2025-07-08T23:17:28.103773Z",
     "shell.execute_reply": "2025-07-08T23:17:28.103270Z",
     "shell.execute_reply.started": "2025-07-08T23:17:25.100655Z"
    }
   },
   "outputs": [],
   "source": [
    "for col in cat_cols:\n",
    "    df_train[col] = normalize_cat_nulls(df_train[col])\n",
    "    if col in df_test.columns:\n",
    "        df_test[col]  = normalize_cat_nulls(df_test[col])"
   ]
  },
  {
   "cell_type": "code",
   "execution_count": 27,
   "id": "66331f57-302c-4f12-998b-b667f64690e8",
   "metadata": {
    "execution": {
     "iopub.execute_input": "2025-07-08T23:17:28.104692Z",
     "iopub.status.busy": "2025-07-08T23:17:28.104435Z",
     "iopub.status.idle": "2025-07-08T23:17:28.408929Z",
     "shell.execute_reply": "2025-07-08T23:17:28.408455Z",
     "shell.execute_reply.started": "2025-07-08T23:17:28.104674Z"
    }
   },
   "outputs": [
    {
     "data": {
      "text/plain": [
       "catalog_product_id                  0.999922\n",
       "shipping_tags                       0.999344\n",
       "official_store_id                   0.991722\n",
       "sub_status                          0.990100\n",
       "video_id                            0.970267\n",
       "shipping_free_methods               0.970122\n",
       "variations                          0.918067\n",
       "attributes                          0.876111\n",
       "warranty                            0.608733\n",
       "seller_address_city_id              0.546189\n",
       "non_mercado_pago_payment_methods    0.305900\n",
       "tags                                0.249022\n",
       "parent_item_id                      0.229889\n",
       "descriptions                        0.026856\n",
       "pictures                            0.007811\n",
       "dtype: float64"
      ]
     },
     "metadata": {},
     "output_type": "display_data"
    },
    {
     "name": "stdout",
     "output_type": "stream",
     "text": [
      "Categóricas con algún NA: 18 / 27\n"
     ]
    }
   ],
   "source": [
    "na_ratios = df_train[cat_cols].isna().mean().sort_values(ascending=False)\n",
    "display(na_ratios.head(15))\n",
    "print(\"Categóricas con algún NA:\", (na_ratios > 0).sum(), \"/\", len(cat_cols))"
   ]
  },
  {
   "cell_type": "markdown",
   "id": "3b01bd3e-dbce-43aa-a9f2-1f8b5a5e9052",
   "metadata": {},
   "source": [
    "## 2.6 “Drop-for-now” – columnas con > 97 % nulos + geolocalización vendedor"
   ]
  },
  {
   "cell_type": "markdown",
   "id": "46c8b9d1-bad8-4abb-888a-5a60ee3ada0f",
   "metadata": {},
   "source": [
    "* Las categóricas que superan **97 % de valores nulos** apenas aportan información en esta primera iteración, por lo que las retiramos temporalmente.\n",
    "* También excluimos las **columnas de geografía del vendedor con ID**, pues difícilmente expliquen si un ítem es *new* vs *used* (las revisitaremos luego si hace falta). Dejamos solo las **columnas de geografía del vendedor con nombre**"
   ]
  },
  {
   "cell_type": "code",
   "execution_count": 28,
   "id": "b51ac7af-1642-4d0b-8980-f5187c96b415",
   "metadata": {
    "execution": {
     "iopub.execute_input": "2025-07-08T23:17:28.412808Z",
     "iopub.status.busy": "2025-07-08T23:17:28.412627Z",
     "iopub.status.idle": "2025-07-08T23:17:28.712163Z",
     "shell.execute_reply": "2025-07-08T23:17:28.711667Z",
     "shell.execute_reply.started": "2025-07-08T23:17:28.412791Z"
    }
   },
   "outputs": [
    {
     "name": "stdout",
     "output_type": "stream",
     "text": [
      "Drop-for-now: ['sub_status', 'official_store_id', 'video_id', 'catalog_product_id', 'shipping_tags', 'shipping_free_methods', 'seller_address_state_id', 'seller_address_city_id']\n"
     ]
    }
   ],
   "source": [
    "na_ratios = df_train[cat_cols].isna().mean()\n",
    "high_na_cats = na_ratios[na_ratios > 0.97].index.tolist()\n",
    "\n",
    "geo_cols = ['seller_address_state_id', 'seller_address_city_id']\n",
    "\n",
    "DROP_FOR_NOW = high_na_cats + geo_cols\n",
    "print(\"Drop-for-now:\", DROP_FOR_NOW)"
   ]
  },
  {
   "cell_type": "code",
   "execution_count": 29,
   "id": "418c02e3-d8a7-4014-8db1-355e103b375e",
   "metadata": {
    "execution": {
     "iopub.execute_input": "2025-07-08T23:17:28.712972Z",
     "iopub.status.busy": "2025-07-08T23:17:28.712771Z",
     "iopub.status.idle": "2025-07-08T23:17:28.824669Z",
     "shell.execute_reply": "2025-07-08T23:17:28.824184Z",
     "shell.execute_reply.started": "2025-07-08T23:17:28.712940Z"
    }
   },
   "outputs": [
    {
     "name": "stdout",
     "output_type": "stream",
     "text": [
      "Nuevo shape  →  Train: (90000, 31) | Test: (10000, 30)\n"
     ]
    }
   ],
   "source": [
    "df_train = df_train.drop(columns=DROP_FOR_NOW, errors='ignore')\n",
    "df_test  = df_test.drop(columns=DROP_FOR_NOW,  errors='ignore')\n",
    "\n",
    "print(\"Nuevo shape  →  Train:\", df_train.shape, \"| Test:\", df_test.shape)"
   ]
  },
  {
   "cell_type": "markdown",
   "id": "a86ab010-1309-4802-bd6f-58264278cfde",
   "metadata": {},
   "source": [
    "## 2.7 Distribución de features numéricas"
   ]
  },
  {
   "cell_type": "code",
   "execution_count": 30,
   "id": "0c6348b8-1a7a-408f-aed1-b760da50046a",
   "metadata": {
    "execution": {
     "iopub.execute_input": "2025-07-08T23:17:28.830442Z",
     "iopub.status.busy": "2025-07-08T23:17:28.830271Z",
     "iopub.status.idle": "2025-07-08T23:17:28.860582Z",
     "shell.execute_reply": "2025-07-08T23:17:28.860146Z",
     "shell.execute_reply.started": "2025-07-08T23:17:28.830425Z"
    }
   },
   "outputs": [
    {
     "data": {
      "text/html": [
       "<div>\n",
       "<style scoped>\n",
       "    .dataframe tbody tr th:only-of-type {\n",
       "        vertical-align: middle;\n",
       "    }\n",
       "\n",
       "    .dataframe tbody tr th {\n",
       "        vertical-align: top;\n",
       "    }\n",
       "\n",
       "    .dataframe thead th {\n",
       "        text-align: right;\n",
       "    }\n",
       "</style>\n",
       "<table border=\"1\" class=\"dataframe\">\n",
       "  <thead>\n",
       "    <tr style=\"text-align: right;\">\n",
       "      <th></th>\n",
       "      <th>count</th>\n",
       "      <th>mean</th>\n",
       "      <th>std</th>\n",
       "      <th>min</th>\n",
       "      <th>1%</th>\n",
       "      <th>25%</th>\n",
       "      <th>50%</th>\n",
       "      <th>75%</th>\n",
       "      <th>99%</th>\n",
       "      <th>max</th>\n",
       "    </tr>\n",
       "  </thead>\n",
       "  <tbody>\n",
       "    <tr>\n",
       "      <th>price</th>\n",
       "      <td>90000.0</td>\n",
       "      <td>57813.518133</td>\n",
       "      <td>9.089555e+06</td>\n",
       "      <td>0.84</td>\n",
       "      <td>17.8198</td>\n",
       "      <td>90.0</td>\n",
       "      <td>250.0</td>\n",
       "      <td>800.0</td>\n",
       "      <td>130000.0</td>\n",
       "      <td>2.222222e+09</td>\n",
       "    </tr>\n",
       "    <tr>\n",
       "      <th>initial_quantity</th>\n",
       "      <td>90000.0</td>\n",
       "      <td>34.957178</td>\n",
       "      <td>4.210920e+02</td>\n",
       "      <td>1.00</td>\n",
       "      <td>1.0000</td>\n",
       "      <td>1.0</td>\n",
       "      <td>1.0</td>\n",
       "      <td>2.0</td>\n",
       "      <td>990.0</td>\n",
       "      <td>9.999000e+03</td>\n",
       "    </tr>\n",
       "    <tr>\n",
       "      <th>sold_quantity</th>\n",
       "      <td>90000.0</td>\n",
       "      <td>2.328044</td>\n",
       "      <td>3.383933e+01</td>\n",
       "      <td>0.00</td>\n",
       "      <td>0.0000</td>\n",
       "      <td>0.0</td>\n",
       "      <td>0.0</td>\n",
       "      <td>0.0</td>\n",
       "      <td>41.0</td>\n",
       "      <td>6.065000e+03</td>\n",
       "    </tr>\n",
       "    <tr>\n",
       "      <th>available_quantity</th>\n",
       "      <td>90000.0</td>\n",
       "      <td>34.700767</td>\n",
       "      <td>4.208117e+02</td>\n",
       "      <td>1.00</td>\n",
       "      <td>1.0000</td>\n",
       "      <td>1.0</td>\n",
       "      <td>1.0</td>\n",
       "      <td>2.0</td>\n",
       "      <td>986.0</td>\n",
       "      <td>9.999000e+03</td>\n",
       "    </tr>\n",
       "  </tbody>\n",
       "</table>\n",
       "</div>"
      ],
      "text/plain": [
       "                      count          mean           std   min       1%   25%  \\\n",
       "price               90000.0  57813.518133  9.089555e+06  0.84  17.8198  90.0   \n",
       "initial_quantity    90000.0     34.957178  4.210920e+02  1.00   1.0000   1.0   \n",
       "sold_quantity       90000.0      2.328044  3.383933e+01  0.00   0.0000   0.0   \n",
       "available_quantity  90000.0     34.700767  4.208117e+02  1.00   1.0000   1.0   \n",
       "\n",
       "                      50%    75%       99%           max  \n",
       "price               250.0  800.0  130000.0  2.222222e+09  \n",
       "initial_quantity      1.0    2.0     990.0  9.999000e+03  \n",
       "sold_quantity         0.0    0.0      41.0  6.065000e+03  \n",
       "available_quantity    1.0    2.0     986.0  9.999000e+03  "
      ]
     },
     "execution_count": 30,
     "metadata": {},
     "output_type": "execute_result"
    }
   ],
   "source": [
    "num_cols = df_train.select_dtypes(include='number').columns.tolist()\n",
    "\n",
    "df_train[num_cols].describe(percentiles=[.01, .25, .5, .75, .99]).T"
   ]
  },
  {
   "cell_type": "markdown",
   "id": "10339dce-e393-47e5-ae80-31ae4f65a95c",
   "metadata": {
    "jp-MarkdownHeadingCollapsed": true
   },
   "source": [
    "**Resumen de la tabla**\n",
    "\n",
    "* `price` está fuertemente **sesgada a la derecha**: la mediana es $250, pero\n",
    "  existe un outlier extremo de 2.2 mil millones y varios precios muy altos que hacen que la media sea muchisimo mayor a la mediana, confirmando la distribución asimétrica. A su vez se puede ver esto mismo en el alto valore de la desviasión estandard. → Necesitaremos `log1p(price)` o winsorizar al p99 para estabilizar.\n",
    "* `initial_quantity` y `available_quantity` comparten distribución: ~70 % de los productos tienen apenas **1 unidad** inicial; ~75% tienen entre 1 o 2, y el p99 sube a 990. Esto encaja con el long-tail típico de vendedores pequeños vs mayoristas.\n",
    "* `sold_quantity` es aún más esporádica: la mayoría *(p75 = 1)* vende ≤ 1 unidad,\n",
    "  pero hay casos con cientos.  \n",
    "* El hecho de que **p50 de `sold_quantity` sea 0** mientras la mediana de\n",
    "  `initial_quantity` y `available_quantity` es 1 sugiere muchos ítems sin ventas.\n",
    "* La similitud `initial_quantity` ≈ `available_quantity` confirma que la mayoría\n",
    "  de productos aún no se venden."
   ]
  },
  {
   "cell_type": "code",
   "execution_count": 31,
   "id": "c87a67d5-ba66-4e35-8c12-78bf1fccfd05",
   "metadata": {
    "execution": {
     "iopub.execute_input": "2025-07-08T23:17:28.863308Z",
     "iopub.status.busy": "2025-07-08T23:17:28.862953Z",
     "iopub.status.idle": "2025-07-08T23:17:29.102097Z",
     "shell.execute_reply": "2025-07-08T23:17:29.101597Z",
     "shell.execute_reply.started": "2025-07-08T23:17:28.863279Z"
    }
   },
   "outputs": [
    {
     "data": {
      "image/png": "[encoded data removed]",
      "text/plain": [
       "<Figure size 600x500 with 2 Axes>"
      ]
     },
     "metadata": {},
     "output_type": "display_data"
    }
   ],
   "source": [
    "# Heatmap de correlación\n",
    "corr = df_train[num_cols].corr(method='spearman')\n",
    "plt.figure(figsize=(6, 5))\n",
    "sns.heatmap(corr, cmap='RdBu_r', annot=True, fmt=\".2f\", center=0, square=True, linewidths=.5, cbar_kws={'label': 'Spearman ρ'})\n",
    "plt.title('Spearman Correlation – Numeric Features')\n",
    "plt.tight_layout()\n",
    "plt.show()"
   ]
  },
  {
   "cell_type": "markdown",
   "id": "c354132b-3486-436e-a4d7-f6eaca35f4e8",
   "metadata": {},
   "source": [
    "##### Lectura del heat-map de correlación numérica\n",
    "\n",
    "| Pareja | ρ (Spearman) | Qué significa | Acción |\n",
    "|--------|-------------|---------------|--------|\n",
    "| `initial_quantity` ↔ `available_quantity` | **0.99** | Son prácticamente la misma variable (la mayoría de los ítems aún no venden ninguna unidad). | Mantener **solo** `initial_quantity` como raw. |\n",
    "| `sold_quantity` ↔ `initial_quantity` | 0.34 | Relación lógica: A más stock inicial, mayor potencial de ventas. | Conservar `sold_quantity`; importante para `sell_through_rate`. |\n",
    "| `price` vs resto | ≈ 0.05–0.06 | El precio es **prácticamente independiente** del inventario. | Excelente: aporta informacion orthogonal. |\n",
    "\n",
    "---\n",
    "\n",
    "##### Nuevas Features numéricas propuestas\n",
    "\n",
    "| Nueva feature | Fórmula | Propósito |\n",
    "|---------------|---------|-----------|\n",
    "| **`log_price`** | `np.log1p(price)` | Reducir skew en modelos lineales y facilitar splits en árboles. |\n",
    "| **`sell_through_rate`** | `sold_quantity / (sold_quantity + available_quantity)` |  Proporción vendida → señal de condición (usado tiende a venderse distinto). |\n",
    "| **`high_inventory_flag`** | `initial_quantity > 10` | Diferenciar vendedores mayoristas vs particulares. |\n",
    "| **`low_price_flag`** | `price < 100` | Marcar productos de valor muy bajo (usado típico). |"
   ]
  },
  {
   "cell_type": "code",
   "execution_count": 32,
   "id": "443b135f-ea09-4e58-a2c9-c4ac53d392b0",
   "metadata": {
    "execution": {
     "iopub.execute_input": "2025-07-08T23:17:29.104469Z",
     "iopub.status.busy": "2025-07-08T23:17:29.104296Z",
     "iopub.status.idle": "2025-07-08T23:17:29.107862Z",
     "shell.execute_reply": "2025-07-08T23:17:29.107434Z",
     "shell.execute_reply.started": "2025-07-08T23:17:29.104452Z"
    }
   },
   "outputs": [],
   "source": [
    "def add_numeric_indicators(df: pd.DataFrame) -> pd.DataFrame:\n",
    "    total_qty = df['sold_quantity'] + df['available_quantity']\n",
    "\n",
    "    df['sell_through_rate'] = np.where(\n",
    "        total_qty > 0,\n",
    "        df['sold_quantity'] / total_qty,\n",
    "        np.nan\n",
    "    ).astype('float32')\n",
    "\n",
    "    df['high_inventory_flag'] = (df['initial_quantity'] > 10).astype('int8')\n",
    "    df['low_price_flag']      = (df['price'] < 100).astype('int8')\n",
    "\n",
    "    df['log_price'] = np.log1p(df['price']).astype('float32')\n",
    "\n",
    "    return df"
   ]
  },
  {
   "cell_type": "code",
   "execution_count": 33,
   "id": "afa88b79-9a77-4eb9-b441-69bf27cccb52",
   "metadata": {
    "execution": {
     "iopub.execute_input": "2025-07-08T23:17:29.108718Z",
     "iopub.status.busy": "2025-07-08T23:17:29.108398Z",
     "iopub.status.idle": "2025-07-08T23:17:29.118645Z",
     "shell.execute_reply": "2025-07-08T23:17:29.118218Z",
     "shell.execute_reply.started": "2025-07-08T23:17:29.108701Z"
    }
   },
   "outputs": [],
   "source": [
    "# aplicar a train y test\n",
    "df_train = add_numeric_indicators(df_train)\n",
    "df_test  = add_numeric_indicators(df_test)"
   ]
  },
  {
   "cell_type": "code",
   "execution_count": 34,
   "id": "401736a9-69cf-4633-9dd9-48e4b90dddcf",
   "metadata": {
    "execution": {
     "iopub.execute_input": "2025-07-08T23:17:29.119455Z",
     "iopub.status.busy": "2025-07-08T23:17:29.119134Z",
     "iopub.status.idle": "2025-07-08T23:17:29.169946Z",
     "shell.execute_reply": "2025-07-08T23:17:29.169542Z",
     "shell.execute_reply.started": "2025-07-08T23:17:29.119439Z"
    }
   },
   "outputs": [
    {
     "name": "stdout",
     "output_type": "stream",
     "text": [
      "\n",
      "— sell_through_rate —\n",
      "dtype: float32 | n_missing: 0 | unique: 1542\n"
     ]
    },
    {
     "data": {
      "text/html": [
       "<div>\n",
       "<style scoped>\n",
       "    .dataframe tbody tr th:only-of-type {\n",
       "        vertical-align: middle;\n",
       "    }\n",
       "\n",
       "    .dataframe tbody tr th {\n",
       "        vertical-align: top;\n",
       "    }\n",
       "\n",
       "    .dataframe thead th {\n",
       "        text-align: right;\n",
       "    }\n",
       "</style>\n",
       "<table border=\"1\" class=\"dataframe\">\n",
       "  <thead>\n",
       "    <tr style=\"text-align: right;\">\n",
       "      <th></th>\n",
       "      <th>freq</th>\n",
       "    </tr>\n",
       "    <tr>\n",
       "      <th>sell_through_rate</th>\n",
       "      <th></th>\n",
       "    </tr>\n",
       "  </thead>\n",
       "  <tbody>\n",
       "    <tr>\n",
       "      <th>0.0</th>\n",
       "      <td>74834</td>\n",
       "    </tr>\n",
       "    <tr>\n",
       "      <th>0.5</th>\n",
       "      <td>3896</td>\n",
       "    </tr>\n",
       "    <tr>\n",
       "      <th>0.6666667</th>\n",
       "      <td>1180</td>\n",
       "    </tr>\n",
       "    <tr>\n",
       "      <th>0.33333334</th>\n",
       "      <td>661</td>\n",
       "    </tr>\n",
       "  </tbody>\n",
       "</table>\n",
       "</div>"
      ],
      "text/plain": [
       "                    freq\n",
       "sell_through_rate       \n",
       "0.0                74834\n",
       "0.5                 3896\n",
       "0.6666667           1180\n",
       "0.33333334           661"
      ]
     },
     "metadata": {},
     "output_type": "display_data"
    }
   ],
   "source": [
    "inspect_column(df_train, 'sell_through_rate', top_n=4)"
   ]
  },
  {
   "cell_type": "code",
   "execution_count": 35,
   "id": "eee1327a-102f-4739-9064-1231cfef62f7",
   "metadata": {
    "execution": {
     "iopub.execute_input": "2025-07-08T23:17:29.170861Z",
     "iopub.status.busy": "2025-07-08T23:17:29.170462Z",
     "iopub.status.idle": "2025-07-08T23:17:29.556013Z",
     "shell.execute_reply": "2025-07-08T23:17:29.555480Z",
     "shell.execute_reply.started": "2025-07-08T23:17:29.170844Z"
    }
   },
   "outputs": [
    {
     "data": {
      "image/png": "[encoded data removed]",
      "text/plain": [
       "<Figure size 1000x800 with 2 Axes>"
      ]
     },
     "metadata": {},
     "output_type": "display_data"
    }
   ],
   "source": [
    "num_cols = df_train.select_dtypes(include='number').columns.tolist()\n",
    "\n",
    "corr = df_train[num_cols].corr(method='spearman')\n",
    "\n",
    "plt.figure(figsize=(10, 8))\n",
    "sns.heatmap(\n",
    "    corr,\n",
    "    cmap='RdBu_r',\n",
    "    annot=True, fmt=\".2f\",\n",
    "    center=0, square=True, linewidths=.5,\n",
    "    cbar_kws={'label': 'Spearman ρ'}\n",
    ")\n",
    "plt.title('Spearman Correlation – Numeric Features (after feature engineering)')\n",
    "plt.tight_layout()\n",
    "plt.show()"
   ]
  },
  {
   "cell_type": "markdown",
   "id": "619291c3-afd9-4418-972f-95948ef854df",
   "metadata": {},
   "source": [
    "##### Resumen\n",
    "\n",
    "* `low_price_flag` con `price` ρ ≈ –0.77 → fuerte pero no perfecta; la flag captura\n",
    "    “precio bajo” como categoría discreta que un valor continuo no refleja\n",
    "    bien (sobre todo para árboles).\n",
    "* `high_inventory_flag` correlaciona 0.62 con\n",
    "  `initial_quantity`.  De nuevo, la intención es aislar el patrón “mayorista”\n",
    "  independientemente del valor exacto de stock.\n",
    "\n",
    "> Para **modelos árbol-basados** no hay problema en tener la feature continua **y** la versión binaria: el algoritmo decide si un split directo (`price ≤ 100`)\n",
    "> es mejor que usar la flag.  \n",
    "> El riesgo de multicolinealidad afecta principalmente a modelos lineales, que\n",
    "> no usaremos como final.\n",
    "\n",
    "##### Decisiones\n",
    "\n",
    "1. **Quedarnos solo con `log_price`** (más estable) y descartar `price`.\n",
    "2. **Mantener ambas flags** (`low_price_flag`, `high_inventory_flag`) porque aportan un corte semántico claro que puede ser útil.\n",
    "3. `sell_through_rate` se descarta para evitar una feature que es casi función directa de `sold_quantity`."
   ]
  },
  {
   "cell_type": "code",
   "execution_count": 36,
   "id": "a7d55140-5462-4670-a3b7-fafbfd8dd465",
   "metadata": {
    "execution": {
     "iopub.execute_input": "2025-07-08T23:17:29.558468Z",
     "iopub.status.busy": "2025-07-08T23:17:29.558297Z",
     "iopub.status.idle": "2025-07-08T23:17:30.521887Z",
     "shell.execute_reply": "2025-07-08T23:17:30.521350Z",
     "shell.execute_reply.started": "2025-07-08T23:17:29.558451Z"
    }
   },
   "outputs": [
    {
     "data": {
      "image/png": "[encoded data removed]",
      "text/plain": [
       "<Figure size 1500x800 with 6 Axes>"
      ]
     },
     "metadata": {},
     "output_type": "display_data"
    }
   ],
   "source": [
    "num_vars = [\n",
    "    \"price\", \"log_price\",\n",
    "    \"initial_quantity\", \"sold_quantity\",\n",
    "    \"low_price_flag\", \"high_inventory_flag\",\n",
    "]\n",
    "\n",
    "fig, axes = plt.subplots(2, 3, figsize=(15, 8))\n",
    "axes = axes.flatten()\n",
    "\n",
    "for ax, col in zip(axes, num_vars):\n",
    "    ax.hist(df_train[col].dropna(), bins=50)\n",
    "    ax.set_title(f\"Distribution of {col}\")\n",
    "    ax.set_xlabel(col)\n",
    "    ax.set_ylabel(\"Frequency\")\n",
    "\n",
    "plt.tight_layout()\n",
    "plt.show()"
   ]
  },
  {
   "cell_type": "code",
   "execution_count": 37,
   "id": "b8204bbf-bf8f-4f48-adab-6f451997cecc",
   "metadata": {
    "execution": {
     "iopub.execute_input": "2025-07-08T23:17:30.522971Z",
     "iopub.status.busy": "2025-07-08T23:17:30.522481Z",
     "iopub.status.idle": "2025-07-08T23:17:30.633934Z",
     "shell.execute_reply": "2025-07-08T23:17:30.633442Z",
     "shell.execute_reply.started": "2025-07-08T23:17:30.522953Z"
    }
   },
   "outputs": [],
   "source": [
    "# --- eliminar columnas redundantes / colineales ---\n",
    "DROP_NUM_COLS = ['price', 'sell_through_rate']\n",
    "\n",
    "df_train = df_train.drop(columns=DROP_NUM_COLS, errors='ignore')\n",
    "df_test  = df_test.drop(columns=DROP_NUM_COLS,  errors='ignore')"
   ]
  },
  {
   "cell_type": "code",
   "execution_count": 38,
   "id": "da5bd39a-8f5a-4b2f-8921-a3df5374d85f",
   "metadata": {
    "execution": {
     "iopub.execute_input": "2025-07-08T23:17:30.634793Z",
     "iopub.status.busy": "2025-07-08T23:17:30.634540Z",
     "iopub.status.idle": "2025-07-08T23:17:30.639543Z",
     "shell.execute_reply": "2025-07-08T23:17:30.639089Z",
     "shell.execute_reply.started": "2025-07-08T23:17:30.634776Z"
    }
   },
   "outputs": [
    {
     "name": "stdout",
     "output_type": "stream",
     "text": [
      "Columnas numéricas actuales: ['initial_quantity', 'sold_quantity', 'available_quantity', 'high_inventory_flag', 'low_price_flag', 'log_price']\n"
     ]
    }
   ],
   "source": [
    "# actualizar listado de numéricas\n",
    "num_cols = df_train.select_dtypes(include='number').columns.tolist()\n",
    "print(\"Columnas numéricas actuales:\", num_cols)"
   ]
  },
  {
   "cell_type": "markdown",
   "id": "ba5bc517-f527-405e-8428-72a621c34b4c",
   "metadata": {},
   "source": [
    "## 2.8 Features derivadas de las timestamps: \n",
    "1. `listing_duration_days` → Duración total de la publicación (días). Esta variable puede tener poder predictivo para diferenciar stock nuevo vs. usado."
   ]
  },
  {
   "cell_type": "code",
   "execution_count": 39,
   "id": "6c6e18d2-af33-443f-b9d2-488009e2dcaa",
   "metadata": {
    "execution": {
     "iopub.execute_input": "2025-07-08T23:17:30.642132Z",
     "iopub.status.busy": "2025-07-08T23:17:30.641955Z",
     "iopub.status.idle": "2025-07-08T23:17:30.777889Z",
     "shell.execute_reply": "2025-07-08T23:17:30.777372Z",
     "shell.execute_reply.started": "2025-07-08T23:17:30.642116Z"
    }
   },
   "outputs": [
    {
     "name": "stdout",
     "output_type": "stream",
     "text": [
      "\n",
      "— listing_duration_days —\n",
      "dtype: int64 | n_missing: 0 | unique: 267\n"
     ]
    },
    {
     "data": {
      "text/html": [
       "<div>\n",
       "<style scoped>\n",
       "    .dataframe tbody tr th:only-of-type {\n",
       "        vertical-align: middle;\n",
       "    }\n",
       "\n",
       "    .dataframe tbody tr th {\n",
       "        vertical-align: top;\n",
       "    }\n",
       "\n",
       "    .dataframe thead th {\n",
       "        text-align: right;\n",
       "    }\n",
       "</style>\n",
       "<table border=\"1\" class=\"dataframe\">\n",
       "  <thead>\n",
       "    <tr style=\"text-align: right;\">\n",
       "      <th></th>\n",
       "      <th>freq</th>\n",
       "    </tr>\n",
       "    <tr>\n",
       "      <th>listing_duration_days</th>\n",
       "      <th></th>\n",
       "    </tr>\n",
       "  </thead>\n",
       "  <tbody>\n",
       "    <tr>\n",
       "      <th>60</th>\n",
       "      <td>87101</td>\n",
       "    </tr>\n",
       "    <tr>\n",
       "      <th>7</th>\n",
       "      <td>685</td>\n",
       "    </tr>\n",
       "    <tr>\n",
       "      <th>30</th>\n",
       "      <td>275</td>\n",
       "    </tr>\n",
       "  </tbody>\n",
       "</table>\n",
       "</div>"
      ],
      "text/plain": [
       "                        freq\n",
       "listing_duration_days       \n",
       "60                     87101\n",
       "7                        685\n",
       "30                       275"
      ]
     },
     "metadata": {},
     "output_type": "display_data"
    }
   ],
   "source": [
    "df_train['listing_duration_days'] = (df_train['stop_time'] - df_train['start_time']).dt.days\n",
    "inspect_column(df_train, 'listing_duration_days', top_n=3)\n",
    "df_train.drop('listing_duration_days', axis=1, inplace=True)"
   ]
  },
  {
   "cell_type": "code",
   "execution_count": 40,
   "id": "73dd59f6-fd80-4acb-a14f-9706c8ec2de5",
   "metadata": {
    "execution": {
     "iopub.execute_input": "2025-07-08T23:17:30.778776Z",
     "iopub.status.busy": "2025-07-08T23:17:30.778511Z",
     "iopub.status.idle": "2025-07-08T23:17:30.781899Z",
     "shell.execute_reply": "2025-07-08T23:17:30.781422Z",
     "shell.execute_reply.started": "2025-07-08T23:17:30.778758Z"
    }
   },
   "outputs": [],
   "source": [
    "def add_time_features(df: pd.DataFrame) -> pd.DataFrame:\n",
    "    # Hora (0-23) y día de la semana (0-lunes, 6-domingo)\n",
    "    df['start_hour'] = df['start_time'].dt.hour.astype('Int8')\n",
    "    df['start_dow']  = df['start_time'].dt.weekday.astype('Int8')\n",
    "    df['start_month'] = df['start_time'].dt.month.astype('Int8')\n",
    "    return df"
   ]
  },
  {
   "cell_type": "code",
   "execution_count": 41,
   "id": "44bda474-0cda-4072-9c8c-73c9200a4a5a",
   "metadata": {
    "execution": {
     "iopub.execute_input": "2025-07-08T23:17:30.782670Z",
     "iopub.status.busy": "2025-07-08T23:17:30.782493Z",
     "iopub.status.idle": "2025-07-08T23:17:30.801503Z",
     "shell.execute_reply": "2025-07-08T23:17:30.801071Z",
     "shell.execute_reply.started": "2025-07-08T23:17:30.782654Z"
    }
   },
   "outputs": [],
   "source": [
    "# Aplicamos a ambos splits\n",
    "df_train = add_time_features(df_train)\n",
    "df_test  = add_time_features(df_test)"
   ]
  },
  {
   "cell_type": "code",
   "execution_count": 42,
   "id": "a630418c-f583-4426-8ef2-3b51eb6e58dc",
   "metadata": {
    "execution": {
     "iopub.execute_input": "2025-07-08T23:17:30.802205Z",
     "iopub.status.busy": "2025-07-08T23:17:30.802025Z",
     "iopub.status.idle": "2025-07-08T23:17:30.840602Z",
     "shell.execute_reply": "2025-07-08T23:17:30.840129Z",
     "shell.execute_reply.started": "2025-07-08T23:17:30.802190Z"
    }
   },
   "outputs": [
    {
     "name": "stdout",
     "output_type": "stream",
     "text": [
      "\n",
      "— start_month —\n",
      "dtype: Int8 | n_missing: 0 | unique: 12\n"
     ]
    },
    {
     "data": {
      "text/html": [
       "<div>\n",
       "<style scoped>\n",
       "    .dataframe tbody tr th:only-of-type {\n",
       "        vertical-align: middle;\n",
       "    }\n",
       "\n",
       "    .dataframe tbody tr th {\n",
       "        vertical-align: top;\n",
       "    }\n",
       "\n",
       "    .dataframe thead th {\n",
       "        text-align: right;\n",
       "    }\n",
       "</style>\n",
       "<table border=\"1\" class=\"dataframe\">\n",
       "  <thead>\n",
       "    <tr style=\"text-align: right;\">\n",
       "      <th></th>\n",
       "      <th>freq</th>\n",
       "    </tr>\n",
       "    <tr>\n",
       "      <th>start_month</th>\n",
       "      <th></th>\n",
       "    </tr>\n",
       "  </thead>\n",
       "  <tbody>\n",
       "    <tr>\n",
       "      <th>9</th>\n",
       "      <td>44079</td>\n",
       "    </tr>\n",
       "    <tr>\n",
       "      <th>10</th>\n",
       "      <td>24852</td>\n",
       "    </tr>\n",
       "    <tr>\n",
       "      <th>8</th>\n",
       "      <td>20523</td>\n",
       "    </tr>\n",
       "    <tr>\n",
       "      <th>7</th>\n",
       "      <td>234</td>\n",
       "    </tr>\n",
       "  </tbody>\n",
       "</table>\n",
       "</div>"
      ],
      "text/plain": [
       "              freq\n",
       "start_month       \n",
       "9            44079\n",
       "10           24852\n",
       "8            20523\n",
       "7              234"
      ]
     },
     "metadata": {},
     "output_type": "display_data"
    }
   ],
   "source": [
    "inspect_column(df_train, 'start_month', top_n=4)"
   ]
  },
  {
   "cell_type": "code",
   "execution_count": 43,
   "id": "db251162-c87c-476f-b3a2-79b9318cc862",
   "metadata": {
    "execution": {
     "iopub.execute_input": "2025-07-08T23:17:30.841467Z",
     "iopub.status.busy": "2025-07-08T23:17:30.841142Z",
     "iopub.status.idle": "2025-07-08T23:17:30.877758Z",
     "shell.execute_reply": "2025-07-08T23:17:30.877292Z",
     "shell.execute_reply.started": "2025-07-08T23:17:30.841451Z"
    }
   },
   "outputs": [
    {
     "name": "stdout",
     "output_type": "stream",
     "text": [
      "\n",
      "— start_dow —\n",
      "dtype: Int8 | n_missing: 0 | unique: 7\n"
     ]
    },
    {
     "data": {
      "text/html": [
       "<div>\n",
       "<style scoped>\n",
       "    .dataframe tbody tr th:only-of-type {\n",
       "        vertical-align: middle;\n",
       "    }\n",
       "\n",
       "    .dataframe tbody tr th {\n",
       "        vertical-align: top;\n",
       "    }\n",
       "\n",
       "    .dataframe thead th {\n",
       "        text-align: right;\n",
       "    }\n",
       "</style>\n",
       "<table border=\"1\" class=\"dataframe\">\n",
       "  <thead>\n",
       "    <tr style=\"text-align: right;\">\n",
       "      <th></th>\n",
       "      <th>freq</th>\n",
       "    </tr>\n",
       "    <tr>\n",
       "      <th>start_dow</th>\n",
       "      <th></th>\n",
       "    </tr>\n",
       "  </thead>\n",
       "  <tbody>\n",
       "    <tr>\n",
       "      <th>1</th>\n",
       "      <td>16858</td>\n",
       "    </tr>\n",
       "    <tr>\n",
       "      <th>0</th>\n",
       "      <td>16100</td>\n",
       "    </tr>\n",
       "    <tr>\n",
       "      <th>2</th>\n",
       "      <td>14286</td>\n",
       "    </tr>\n",
       "    <tr>\n",
       "      <th>4</th>\n",
       "      <td>13112</td>\n",
       "    </tr>\n",
       "    <tr>\n",
       "      <th>3</th>\n",
       "      <td>11283</td>\n",
       "    </tr>\n",
       "    <tr>\n",
       "      <th>5</th>\n",
       "      <td>9528</td>\n",
       "    </tr>\n",
       "    <tr>\n",
       "      <th>6</th>\n",
       "      <td>8833</td>\n",
       "    </tr>\n",
       "  </tbody>\n",
       "</table>\n",
       "</div>"
      ],
      "text/plain": [
       "            freq\n",
       "start_dow       \n",
       "1          16858\n",
       "0          16100\n",
       "2          14286\n",
       "4          13112\n",
       "3          11283\n",
       "5           9528\n",
       "6           8833"
      ]
     },
     "metadata": {},
     "output_type": "display_data"
    }
   ],
   "source": [
    "inspect_column(df_train, 'start_dow', top_n=7)"
   ]
  },
  {
   "cell_type": "markdown",
   "id": "87ace1ec-d665-41e7-b0af-392fb8775308",
   "metadata": {},
   "source": [
    "* **Día de la semana (`start_dow`; 0 = lunes).**\n",
    "\n",
    "Más alta actividad lunes-martes (0-1) y una caída progresiva hasta domingo (6).\n",
    "\n",
    "Negocios suelen subir lotes los lunes; los particulares reparten anuncios durante la semana. La señal parece relevante, así que mantenemos la variable."
   ]
  },
  {
   "cell_type": "code",
   "execution_count": 44,
   "id": "8cd756aa-b1de-4c0d-b809-82eddbbef9d1",
   "metadata": {
    "execution": {
     "iopub.execute_input": "2025-07-08T23:17:30.880260Z",
     "iopub.status.busy": "2025-07-08T23:17:30.880100Z",
     "iopub.status.idle": "2025-07-08T23:17:30.918654Z",
     "shell.execute_reply": "2025-07-08T23:17:30.918197Z",
     "shell.execute_reply.started": "2025-07-08T23:17:30.880245Z"
    }
   },
   "outputs": [
    {
     "name": "stdout",
     "output_type": "stream",
     "text": [
      "\n",
      "— start_hour —\n",
      "dtype: Int8 | n_missing: 0 | unique: 24\n"
     ]
    },
    {
     "data": {
      "text/html": [
       "<div>\n",
       "<style scoped>\n",
       "    .dataframe tbody tr th:only-of-type {\n",
       "        vertical-align: middle;\n",
       "    }\n",
       "\n",
       "    .dataframe tbody tr th {\n",
       "        vertical-align: top;\n",
       "    }\n",
       "\n",
       "    .dataframe thead th {\n",
       "        text-align: right;\n",
       "    }\n",
       "</style>\n",
       "<table border=\"1\" class=\"dataframe\">\n",
       "  <thead>\n",
       "    <tr style=\"text-align: right;\">\n",
       "      <th></th>\n",
       "      <th>freq</th>\n",
       "    </tr>\n",
       "    <tr>\n",
       "      <th>start_hour</th>\n",
       "      <th></th>\n",
       "    </tr>\n",
       "  </thead>\n",
       "  <tbody>\n",
       "    <tr>\n",
       "      <th>14</th>\n",
       "      <td>6554</td>\n",
       "    </tr>\n",
       "    <tr>\n",
       "      <th>15</th>\n",
       "      <td>6315</td>\n",
       "    </tr>\n",
       "    <tr>\n",
       "      <th>13</th>\n",
       "      <td>6049</td>\n",
       "    </tr>\n",
       "    <tr>\n",
       "      <th>18</th>\n",
       "      <td>5682</td>\n",
       "    </tr>\n",
       "    <tr>\n",
       "      <th>19</th>\n",
       "      <td>5680</td>\n",
       "    </tr>\n",
       "    <tr>\n",
       "      <th>21</th>\n",
       "      <td>5542</td>\n",
       "    </tr>\n",
       "    <tr>\n",
       "      <th>20</th>\n",
       "      <td>5540</td>\n",
       "    </tr>\n",
       "    <tr>\n",
       "      <th>16</th>\n",
       "      <td>5261</td>\n",
       "    </tr>\n",
       "    <tr>\n",
       "      <th>17</th>\n",
       "      <td>5261</td>\n",
       "    </tr>\n",
       "    <tr>\n",
       "      <th>22</th>\n",
       "      <td>5245</td>\n",
       "    </tr>\n",
       "  </tbody>\n",
       "</table>\n",
       "</div>"
      ],
      "text/plain": [
       "            freq\n",
       "start_hour      \n",
       "14          6554\n",
       "15          6315\n",
       "13          6049\n",
       "18          5682\n",
       "19          5680\n",
       "21          5542\n",
       "20          5540\n",
       "16          5261\n",
       "17          5261\n",
       "22          5245"
      ]
     },
     "metadata": {},
     "output_type": "display_data"
    }
   ],
   "source": [
    "inspect_column(df_train, 'start_hour', top_n=10)"
   ]
  },
  {
   "cell_type": "code",
   "execution_count": 45,
   "id": "12b30927-d781-4564-ae0b-605130aa5e65",
   "metadata": {
    "execution": {
     "iopub.execute_input": "2025-07-08T23:17:30.919420Z",
     "iopub.status.busy": "2025-07-08T23:17:30.919140Z",
     "iopub.status.idle": "2025-07-08T23:17:31.029012Z",
     "shell.execute_reply": "2025-07-08T23:17:31.028450Z",
     "shell.execute_reply.started": "2025-07-08T23:17:30.919404Z"
    }
   },
   "outputs": [
    {
     "name": "stdout",
     "output_type": "stream",
     "text": [
      "Timestamp cols eliminadas: ['start_time', 'stop_time', 'last_updated', 'date_created']\n",
      "Shapes → Train: (90000, 32) | Test: (10000, 31)\n"
     ]
    }
   ],
   "source": [
    "# columnas de timestamp a descartar definitivamente\n",
    "TS_RAW_COLS = ['start_time', 'stop_time', 'last_updated', 'date_created']\n",
    "\n",
    "df_train = df_train.drop(columns=TS_RAW_COLS, errors='ignore')\n",
    "df_test  = df_test.drop(columns=TS_RAW_COLS,  errors='ignore')\n",
    "\n",
    "print(\"Timestamp cols eliminadas:\", TS_RAW_COLS)\n",
    "print(\"Shapes → Train:\", df_train.shape, \"| Test:\", df_test.shape)"
   ]
  },
  {
   "cell_type": "markdown",
   "id": "e7022394-aa5d-42f5-97fd-34198b2f4b55",
   "metadata": {},
   "source": [
    "##### Conclusiones sobre las variables temporales\n",
    "\n",
    "* **`listing_duration_days`** → casi todos los avisos duran **60 días**; no discrimina.\n",
    "* **`hours_until_last_update`** = diferencia de horas entre `last_updated` y `start_time` → la mayoría vale **0 h**, sin informacion valiosa.\n",
    "* **`item_age_days`** = `NOW - start_time` → el dataset es de 2015, el valor absoluto carece de sentido hoy.\n",
    "* **Valores que sí pueden aportar:**\n",
    "  * **`start_hour`** – los particulares tienden a publicar de noche; las tiendas, en horario laboral.\n",
    "  * **`start_dow`** – fines de semana vs días hábiles puede diferenciar inventario usado/nuevo.\n",
    "* Por lo tanto **conservamos** `start_hour` y `start_dow` y **eliminamos** los timestamps crudos \n",
    "  (`start_time`, `stop_time`, `last_updated`, `date_created`)."
   ]
  },
  {
   "cell_type": "markdown",
   "id": "6eede85e-5626-4624-b5b4-1062d9e12c20",
   "metadata": {},
   "source": [
    "## 2.9 Inspeccionamos y transformamos las features categóricas"
   ]
  },
  {
   "cell_type": "code",
   "execution_count": 46,
   "id": "5f48c9c8-e673-4a11-83db-89280e807625",
   "metadata": {
    "execution": {
     "iopub.execute_input": "2025-07-08T23:17:31.033767Z",
     "iopub.status.busy": "2025-07-08T23:17:31.033584Z",
     "iopub.status.idle": "2025-07-08T23:17:31.220840Z",
     "shell.execute_reply": "2025-07-08T23:17:31.220272Z",
     "shell.execute_reply.started": "2025-07-08T23:17:31.033750Z"
    }
   },
   "outputs": [
    {
     "name": "stdout",
     "output_type": "stream",
     "text": [
      "Total categorical features: 18\n",
      "['attributes', 'buying_mode', 'category_id', 'currency_id', 'descriptions', 'listing_type_id', 'non_mercado_pago_payment_methods', 'parent_item_id', 'pictures', 'seller_address_city_name', 'seller_address_state_name', 'seller_id', 'shipping_mode', 'status', 'tags', 'title', 'variations', 'warranty']\n"
     ]
    }
   ],
   "source": [
    "# Columnas categoricas restantes\n",
    "cat_cols = (df_train.select_dtypes(include=['object', 'string']).columns.difference(['condition']).tolist())\n",
    "\n",
    "print(f\"Total categorical features: {len(cat_cols)}\")\n",
    "print(cat_cols)"
   ]
  },
  {
   "cell_type": "markdown",
   "id": "f1a61c53-b482-4d61-82f2-5b2545bc260c",
   "metadata": {},
   "source": [
    "### a. Variables simples (no listas o json)"
   ]
  },
  {
   "cell_type": "markdown",
   "id": "4ce9e94f-3865-421c-928e-ec15dd604dc7",
   "metadata": {},
   "source": [
    "#### 1. Variable 'buying_mode'"
   ]
  },
  {
   "cell_type": "code",
   "execution_count": 47,
   "id": "dc696ea2-b9bf-417e-b931-e2c73168f796",
   "metadata": {
    "execution": {
     "iopub.execute_input": "2025-07-08T23:17:31.225943Z",
     "iopub.status.busy": "2025-07-08T23:17:31.225560Z",
     "iopub.status.idle": "2025-07-08T23:17:31.260194Z",
     "shell.execute_reply": "2025-07-08T23:17:31.259773Z",
     "shell.execute_reply.started": "2025-07-08T23:17:31.225925Z"
    }
   },
   "outputs": [
    {
     "name": "stdout",
     "output_type": "stream",
     "text": [
      "\n",
      "— buying_mode —\n",
      "dtype: object | n_missing: 0 | unique: 3\n"
     ]
    },
    {
     "data": {
      "text/html": [
       "<div>\n",
       "<style scoped>\n",
       "    .dataframe tbody tr th:only-of-type {\n",
       "        vertical-align: middle;\n",
       "    }\n",
       "\n",
       "    .dataframe tbody tr th {\n",
       "        vertical-align: top;\n",
       "    }\n",
       "\n",
       "    .dataframe thead th {\n",
       "        text-align: right;\n",
       "    }\n",
       "</style>\n",
       "<table border=\"1\" class=\"dataframe\">\n",
       "  <thead>\n",
       "    <tr style=\"text-align: right;\">\n",
       "      <th></th>\n",
       "      <th>freq</th>\n",
       "    </tr>\n",
       "    <tr>\n",
       "      <th>buying_mode</th>\n",
       "      <th></th>\n",
       "    </tr>\n",
       "  </thead>\n",
       "  <tbody>\n",
       "    <tr>\n",
       "      <th>buy_it_now</th>\n",
       "      <td>87311</td>\n",
       "    </tr>\n",
       "    <tr>\n",
       "      <th>classified</th>\n",
       "      <td>1982</td>\n",
       "    </tr>\n",
       "    <tr>\n",
       "      <th>auction</th>\n",
       "      <td>707</td>\n",
       "    </tr>\n",
       "  </tbody>\n",
       "</table>\n",
       "</div>"
      ],
      "text/plain": [
       "              freq\n",
       "buying_mode       \n",
       "buy_it_now   87311\n",
       "classified    1982\n",
       "auction        707"
      ]
     },
     "metadata": {},
     "output_type": "display_data"
    }
   ],
   "source": [
    "inspect_column(df_train, 'buying_mode', top_n=3)"
   ]
  },
  {
   "cell_type": "markdown",
   "id": "e2db8c5c-3bcd-4c81-827e-6a49e91b5af6",
   "metadata": {},
   "source": [
    "**Lectura**\n",
    "* `buy_it_now` domina el dataset.\n",
    "* Existen dos categorías minoritarias (`classified`, `auction`) que podrían aportar ligera señal: subastas y clasificados suelen usarse para ítems **usados** o de nicho.\n",
    "\n",
    "**Decisión**\n",
    "* Mantener la variable con **one-hot encoding** (`buy_it_now`, `classified`, `auction`).  Aun con el desequilibrio, modelos árbol-basados pueden captar la rareza de las clases minoritarias.\n",
    "* No es necesario agrupar o binarizar: solo tres categorías y están limpias."
   ]
  },
  {
   "cell_type": "markdown",
   "id": "d7d30402-64af-4b94-b668-fb1674322aed",
   "metadata": {
    "execution": {
     "iopub.execute_input": "2025-07-08T12:31:48.782957Z",
     "iopub.status.busy": "2025-07-08T12:31:48.782603Z",
     "iopub.status.idle": "2025-07-08T12:31:48.785796Z",
     "shell.execute_reply": "2025-07-08T12:31:48.785232Z",
     "shell.execute_reply.started": "2025-07-08T12:31:48.782934Z"
    }
   },
   "source": [
    "#### 2. Variable 'category_id'"
   ]
  },
  {
   "cell_type": "code",
   "execution_count": 48,
   "id": "888d3508-9373-483a-9d69-e8f78e7666fb",
   "metadata": {
    "execution": {
     "iopub.execute_input": "2025-07-08T23:17:31.264297Z",
     "iopub.status.busy": "2025-07-08T23:17:31.264119Z",
     "iopub.status.idle": "2025-07-08T23:17:31.309192Z",
     "shell.execute_reply": "2025-07-08T23:17:31.308670Z",
     "shell.execute_reply.started": "2025-07-08T23:17:31.264281Z"
    }
   },
   "outputs": [
    {
     "name": "stdout",
     "output_type": "stream",
     "text": [
      "\n",
      "— category_id —\n",
      "dtype: object | n_missing: 0 | unique: 10491\n"
     ]
    },
    {
     "data": {
      "text/html": [
       "<div>\n",
       "<style scoped>\n",
       "    .dataframe tbody tr th:only-of-type {\n",
       "        vertical-align: middle;\n",
       "    }\n",
       "\n",
       "    .dataframe tbody tr th {\n",
       "        vertical-align: top;\n",
       "    }\n",
       "\n",
       "    .dataframe thead th {\n",
       "        text-align: right;\n",
       "    }\n",
       "</style>\n",
       "<table border=\"1\" class=\"dataframe\">\n",
       "  <thead>\n",
       "    <tr style=\"text-align: right;\">\n",
       "      <th></th>\n",
       "      <th>freq</th>\n",
       "    </tr>\n",
       "    <tr>\n",
       "      <th>category_id</th>\n",
       "      <th></th>\n",
       "    </tr>\n",
       "  </thead>\n",
       "  <tbody>\n",
       "    <tr>\n",
       "      <th>MLA1227</th>\n",
       "      <td>4139</td>\n",
       "    </tr>\n",
       "    <tr>\n",
       "      <th>MLA2044</th>\n",
       "      <td>1759</td>\n",
       "    </tr>\n",
       "    <tr>\n",
       "      <th>MLA41287</th>\n",
       "      <td>829</td>\n",
       "    </tr>\n",
       "    <tr>\n",
       "      <th>MLA3530</th>\n",
       "      <td>685</td>\n",
       "    </tr>\n",
       "    <tr>\n",
       "      <th>MLA2038</th>\n",
       "      <td>601</td>\n",
       "    </tr>\n",
       "    <tr>\n",
       "      <th>MLA15171</th>\n",
       "      <td>522</td>\n",
       "    </tr>\n",
       "    <tr>\n",
       "      <th>MLA15328</th>\n",
       "      <td>446</td>\n",
       "    </tr>\n",
       "    <tr>\n",
       "      <th>MLA1383</th>\n",
       "      <td>416</td>\n",
       "    </tr>\n",
       "    <tr>\n",
       "      <th>MLA41269</th>\n",
       "      <td>399</td>\n",
       "    </tr>\n",
       "    <tr>\n",
       "      <th>MLA15204</th>\n",
       "      <td>395</td>\n",
       "    </tr>\n",
       "  </tbody>\n",
       "</table>\n",
       "</div>"
      ],
      "text/plain": [
       "             freq\n",
       "category_id      \n",
       "MLA1227      4139\n",
       "MLA2044      1759\n",
       "MLA41287      829\n",
       "MLA3530       685\n",
       "MLA2038       601\n",
       "MLA15171      522\n",
       "MLA15328      446\n",
       "MLA1383       416\n",
       "MLA41269      399\n",
       "MLA15204      395"
      ]
     },
     "metadata": {},
     "output_type": "display_data"
    }
   ],
   "source": [
    "inspect_column(df_train, 'category_id', top_n=10)"
   ]
  },
  {
   "cell_type": "code",
   "execution_count": 49,
   "id": "6878f1e7-0dfc-4b85-9b5b-e8d181cfbe53",
   "metadata": {
    "execution": {
     "iopub.execute_input": "2025-07-08T23:17:31.310026Z",
     "iopub.status.busy": "2025-07-08T23:17:31.309780Z",
     "iopub.status.idle": "2025-07-08T23:17:31.312618Z",
     "shell.execute_reply": "2025-07-08T23:17:31.312134Z",
     "shell.execute_reply.started": "2025-07-08T23:17:31.310008Z"
    }
   },
   "outputs": [],
   "source": [
    "# target_enc = ce.TargetEncoder(\n",
    "#     cols=['category_id'],\n",
    "#     smoothing=0.3                      # regulariza categorías raras\n",
    "# )\n",
    "\n",
    "# df_train['category_id_te'] = target_enc.fit_transform(\n",
    "#     df_train[['category_id']], df_train['condition']\n",
    "# ).values\n",
    "\n",
    "# df_test['category_id_te'] = target_enc.transform(df_test[['category_id']]).values\n",
    "\n",
    "# df_train = df_train.drop(columns=['category_id'])\n",
    "# df_test  = df_test.drop(columns=['category_id'])"
   ]
  },
  {
   "cell_type": "markdown",
   "id": "be05cc97-67c6-4444-b2c8-0ef286e8e1dd",
   "metadata": {},
   "source": [
    "**Lectura**\n",
    "\n",
    "* `category_id` es **muy dispersa**: pocas categorías tienen muchos productos y el resto forman una cola larguísima.\n",
    "* One-hot directo generaría miles de columnas con alta sparsity → poco viable.\n",
    "* Es probable que correlacione con la variable target (por ej. Electrodomésticos nuevos vs usados), así que conviene conservarla por ahora.\n",
    "\n",
    "**Opciones de encoding**\n",
    "\n",
    "* **Target Encoding** (media de “used” por categoría) | Captura relación con la target, manejable en 1 columna | Riesgo de leakage → usar CV / smoothing\n",
    "* **Hash Encoding** (1 K-2 K buckets) | Simple, sin leakage, tamaño fijo | Pérdida de interpretabilidad, colisiones\n",
    "* **Reduced One-Hot** (Top-N + “other”) | Interpretable para las 50-100 categorías más grandes | Pierde detalle de la cola larga\n",
    "\n",
    "**Decisión**:  \n",
    "* Empezar con **Target Encoding** con `CategoryEncoder` o `category_encoders.target`."
   ]
  },
  {
   "cell_type": "code",
   "execution_count": 50,
   "id": "fb0b43c1-1890-4002-9292-22c5ac2e23aa",
   "metadata": {
    "execution": {
     "iopub.execute_input": "2025-07-08T23:17:31.315170Z",
     "iopub.status.busy": "2025-07-08T23:17:31.314887Z",
     "iopub.status.idle": "2025-07-08T23:17:31.390795Z",
     "shell.execute_reply": "2025-07-08T23:17:31.390338Z",
     "shell.execute_reply.started": "2025-07-08T23:17:31.315154Z"
    }
   },
   "outputs": [
    {
     "data": {
      "text/html": [
       "<div>\n",
       "<style scoped>\n",
       "    .dataframe tbody tr th:only-of-type {\n",
       "        vertical-align: middle;\n",
       "    }\n",
       "\n",
       "    .dataframe tbody tr th {\n",
       "        vertical-align: top;\n",
       "    }\n",
       "\n",
       "    .dataframe thead th {\n",
       "        text-align: right;\n",
       "    }\n",
       "</style>\n",
       "<table border=\"1\" class=\"dataframe\">\n",
       "  <thead>\n",
       "    <tr style=\"text-align: right;\">\n",
       "      <th></th>\n",
       "      <th>attributes</th>\n",
       "      <th>buying_mode</th>\n",
       "      <th>category_id</th>\n",
       "      <th>currency_id</th>\n",
       "      <th>descriptions</th>\n",
       "      <th>listing_type_id</th>\n",
       "      <th>non_mercado_pago_payment_methods</th>\n",
       "      <th>parent_item_id</th>\n",
       "      <th>pictures</th>\n",
       "      <th>seller_address_city_name</th>\n",
       "      <th>seller_address_state_name</th>\n",
       "      <th>seller_id</th>\n",
       "      <th>shipping_mode</th>\n",
       "      <th>status</th>\n",
       "      <th>tags</th>\n",
       "      <th>title</th>\n",
       "      <th>variations</th>\n",
       "      <th>warranty</th>\n",
       "    </tr>\n",
       "  </thead>\n",
       "  <tbody>\n",
       "    <tr>\n",
       "      <th>89995</th>\n",
       "      <td>&lt;NA&gt;</td>\n",
       "      <td>buy_it_now</td>\n",
       "      <td>MLA1227</td>\n",
       "      <td>ARS</td>\n",
       "      <td>[{'id': 'MLA1315520302-935540165'}]</td>\n",
       "      <td>bronze</td>\n",
       "      <td>&lt;NA&gt;</td>\n",
       "      <td>MLA1130924824</td>\n",
       "      <td>[{'size': '84x126', 'secure_url': 'https://a24...</td>\n",
       "      <td>capital federal</td>\n",
       "      <td>Capital Federal</td>\n",
       "      <td>9451922715</td>\n",
       "      <td>me2</td>\n",
       "      <td>active</td>\n",
       "      <td>[dragged_bids_and_visits]</td>\n",
       "      <td>El Fin De Las Libertades - Benegas Lynch (h) -...</td>\n",
       "      <td>&lt;NA&gt;</td>\n",
       "      <td>Sin garantía</td>\n",
       "    </tr>\n",
       "    <tr>\n",
       "      <th>89996</th>\n",
       "      <td>&lt;NA&gt;</td>\n",
       "      <td>buy_it_now</td>\n",
       "      <td>MLA45559</td>\n",
       "      <td>ARS</td>\n",
       "      <td>[{'id': 'MLA6934377054-927516382'}]</td>\n",
       "      <td>bronze</td>\n",
       "      <td>[{'description': 'Transferencia bancaria', 'id...</td>\n",
       "      <td>MLA1317691731</td>\n",
       "      <td>[{'size': '500x373', 'secure_url': 'https://a2...</td>\n",
       "      <td>Núñez</td>\n",
       "      <td>Capital Federal</td>\n",
       "      <td>4665194056</td>\n",
       "      <td>custom</td>\n",
       "      <td>paused</td>\n",
       "      <td>[dragged_bids_and_visits]</td>\n",
       "      <td>Honda Wave Guardabarro Interior Trasero</td>\n",
       "      <td>&lt;NA&gt;</td>\n",
       "      <td>&lt;NA&gt;</td>\n",
       "    </tr>\n",
       "    <tr>\n",
       "      <th>89997</th>\n",
       "      <td>&lt;NA&gt;</td>\n",
       "      <td>buy_it_now</td>\n",
       "      <td>MLA81061</td>\n",
       "      <td>ARS</td>\n",
       "      <td>[{'id': 'MLA5644559490-902956215'}]</td>\n",
       "      <td>bronze</td>\n",
       "      <td>[{'description': 'Efectivo', 'id': 'MLAMO', 't...</td>\n",
       "      <td>MLA5098165723</td>\n",
       "      <td>[{'size': '500x312', 'secure_url': 'https://a2...</td>\n",
       "      <td>La Matanza</td>\n",
       "      <td>Buenos Aires</td>\n",
       "      <td>3046474001</td>\n",
       "      <td>not_specified</td>\n",
       "      <td>active</td>\n",
       "      <td>[dragged_bids_and_visits]</td>\n",
       "      <td>My Little Pony Completa Latino 4 Temporadas</td>\n",
       "      <td>&lt;NA&gt;</td>\n",
       "      <td>&lt;NA&gt;</td>\n",
       "    </tr>\n",
       "    <tr>\n",
       "      <th>89998</th>\n",
       "      <td>&lt;NA&gt;</td>\n",
       "      <td>buy_it_now</td>\n",
       "      <td>MLA48851</td>\n",
       "      <td>ARS</td>\n",
       "      <td>[{'id': 'MLA3520244075-935837959'}]</td>\n",
       "      <td>bronze</td>\n",
       "      <td>[{'description': 'Acordar con el comprador', '...</td>\n",
       "      <td>MLA3153148762</td>\n",
       "      <td>[{'size': '225x225', 'secure_url': 'https://a2...</td>\n",
       "      <td>Trelew</td>\n",
       "      <td>Chubut</td>\n",
       "      <td>2373910598</td>\n",
       "      <td>not_specified</td>\n",
       "      <td>active</td>\n",
       "      <td>[dragged_bids_and_visits]</td>\n",
       "      <td>Accidente Cerebrovascular En La Infancia Y Ado...</td>\n",
       "      <td>&lt;NA&gt;</td>\n",
       "      <td>La garantia solo responde en caso de fallas de...</td>\n",
       "    </tr>\n",
       "    <tr>\n",
       "      <th>89999</th>\n",
       "      <td>[{'value_id': 'female', 'attribute_group_id': ...</td>\n",
       "      <td>buy_it_now</td>\n",
       "      <td>MLA109390</td>\n",
       "      <td>ARS</td>\n",
       "      <td>[{'id': 'MLA8241142190-943040617'}]</td>\n",
       "      <td>free</td>\n",
       "      <td>&lt;NA&gt;</td>\n",
       "      <td>MLA3661010119</td>\n",
       "      <td>[{'size': '500x281', 'secure_url': 'https://a2...</td>\n",
       "      <td>mataderos</td>\n",
       "      <td>Capital Federal</td>\n",
       "      <td>9518711314</td>\n",
       "      <td>not_specified</td>\n",
       "      <td>active</td>\n",
       "      <td>[dragged_bids_and_visits]</td>\n",
       "      <td>Campera De Mujer Tucci Reversible</td>\n",
       "      <td>[{'attribute_combinations': [{'value_id': '920...</td>\n",
       "      <td>&lt;NA&gt;</td>\n",
       "    </tr>\n",
       "  </tbody>\n",
       "</table>\n",
       "</div>"
      ],
      "text/plain": [
       "                                              attributes buying_mode  \\\n",
       "89995                                               <NA>  buy_it_now   \n",
       "89996                                               <NA>  buy_it_now   \n",
       "89997                                               <NA>  buy_it_now   \n",
       "89998                                               <NA>  buy_it_now   \n",
       "89999  [{'value_id': 'female', 'attribute_group_id': ...  buy_it_now   \n",
       "\n",
       "      category_id currency_id                         descriptions  \\\n",
       "89995     MLA1227         ARS  [{'id': 'MLA1315520302-935540165'}]   \n",
       "89996    MLA45559         ARS  [{'id': 'MLA6934377054-927516382'}]   \n",
       "89997    MLA81061         ARS  [{'id': 'MLA5644559490-902956215'}]   \n",
       "89998    MLA48851         ARS  [{'id': 'MLA3520244075-935837959'}]   \n",
       "89999   MLA109390         ARS  [{'id': 'MLA8241142190-943040617'}]   \n",
       "\n",
       "      listing_type_id                   non_mercado_pago_payment_methods  \\\n",
       "89995          bronze                                               <NA>   \n",
       "89996          bronze  [{'description': 'Transferencia bancaria', 'id...   \n",
       "89997          bronze  [{'description': 'Efectivo', 'id': 'MLAMO', 't...   \n",
       "89998          bronze  [{'description': 'Acordar con el comprador', '...   \n",
       "89999            free                                               <NA>   \n",
       "\n",
       "      parent_item_id                                           pictures  \\\n",
       "89995  MLA1130924824  [{'size': '84x126', 'secure_url': 'https://a24...   \n",
       "89996  MLA1317691731  [{'size': '500x373', 'secure_url': 'https://a2...   \n",
       "89997  MLA5098165723  [{'size': '500x312', 'secure_url': 'https://a2...   \n",
       "89998  MLA3153148762  [{'size': '225x225', 'secure_url': 'https://a2...   \n",
       "89999  MLA3661010119  [{'size': '500x281', 'secure_url': 'https://a2...   \n",
       "\n",
       "      seller_address_city_name seller_address_state_name   seller_id  \\\n",
       "89995          capital federal           Capital Federal  9451922715   \n",
       "89996                    Núñez           Capital Federal  4665194056   \n",
       "89997               La Matanza              Buenos Aires  3046474001   \n",
       "89998                   Trelew                    Chubut  2373910598   \n",
       "89999                mataderos           Capital Federal  9518711314   \n",
       "\n",
       "       shipping_mode  status                       tags  \\\n",
       "89995            me2  active  [dragged_bids_and_visits]   \n",
       "89996         custom  paused  [dragged_bids_and_visits]   \n",
       "89997  not_specified  active  [dragged_bids_and_visits]   \n",
       "89998  not_specified  active  [dragged_bids_and_visits]   \n",
       "89999  not_specified  active  [dragged_bids_and_visits]   \n",
       "\n",
       "                                                   title  \\\n",
       "89995  El Fin De Las Libertades - Benegas Lynch (h) -...   \n",
       "89996            Honda Wave Guardabarro Interior Trasero   \n",
       "89997        My Little Pony Completa Latino 4 Temporadas   \n",
       "89998  Accidente Cerebrovascular En La Infancia Y Ado...   \n",
       "89999                  Campera De Mujer Tucci Reversible   \n",
       "\n",
       "                                              variations  \\\n",
       "89995                                               <NA>   \n",
       "89996                                               <NA>   \n",
       "89997                                               <NA>   \n",
       "89998                                               <NA>   \n",
       "89999  [{'attribute_combinations': [{'value_id': '920...   \n",
       "\n",
       "                                                warranty  \n",
       "89995                                       Sin garantía  \n",
       "89996                                               <NA>  \n",
       "89997                                               <NA>  \n",
       "89998  La garantia solo responde en caso de fallas de...  \n",
       "89999                                               <NA>  "
      ]
     },
     "execution_count": 50,
     "metadata": {},
     "output_type": "execute_result"
    }
   ],
   "source": [
    "df_train[cat_cols].tail(5)"
   ]
  },
  {
   "cell_type": "markdown",
   "id": "915ff474-b121-4f08-b58a-394067c4e553",
   "metadata": {
    "execution": {
     "iopub.execute_input": "2025-07-08T12:40:49.689763Z",
     "iopub.status.busy": "2025-07-08T12:40:49.689436Z",
     "iopub.status.idle": "2025-07-08T12:40:49.692642Z",
     "shell.execute_reply": "2025-07-08T12:40:49.692101Z",
     "shell.execute_reply.started": "2025-07-08T12:40:49.689739Z"
    }
   },
   "source": [
    "#### 3. Variable 'category_id'"
   ]
  },
  {
   "cell_type": "code",
   "execution_count": 51,
   "id": "6dc9ad34-3184-4fb5-ba2d-2d63059fa8f8",
   "metadata": {
    "execution": {
     "iopub.execute_input": "2025-07-08T23:17:31.393129Z",
     "iopub.status.busy": "2025-07-08T23:17:31.392950Z",
     "iopub.status.idle": "2025-07-08T23:17:31.422956Z",
     "shell.execute_reply": "2025-07-08T23:17:31.422519Z",
     "shell.execute_reply.started": "2025-07-08T23:17:31.393113Z"
    }
   },
   "outputs": [
    {
     "name": "stdout",
     "output_type": "stream",
     "text": [
      "\n",
      "— currency_id —\n",
      "dtype: object | n_missing: 0 | unique: 2\n"
     ]
    },
    {
     "data": {
      "text/html": [
       "<div>\n",
       "<style scoped>\n",
       "    .dataframe tbody tr th:only-of-type {\n",
       "        vertical-align: middle;\n",
       "    }\n",
       "\n",
       "    .dataframe tbody tr th {\n",
       "        vertical-align: top;\n",
       "    }\n",
       "\n",
       "    .dataframe thead th {\n",
       "        text-align: right;\n",
       "    }\n",
       "</style>\n",
       "<table border=\"1\" class=\"dataframe\">\n",
       "  <thead>\n",
       "    <tr style=\"text-align: right;\">\n",
       "      <th></th>\n",
       "      <th>freq</th>\n",
       "    </tr>\n",
       "    <tr>\n",
       "      <th>currency_id</th>\n",
       "      <th></th>\n",
       "    </tr>\n",
       "  </thead>\n",
       "  <tbody>\n",
       "    <tr>\n",
       "      <th>ARS</th>\n",
       "      <td>89496</td>\n",
       "    </tr>\n",
       "    <tr>\n",
       "      <th>USD</th>\n",
       "      <td>504</td>\n",
       "    </tr>\n",
       "  </tbody>\n",
       "</table>\n",
       "</div>"
      ],
      "text/plain": [
       "              freq\n",
       "currency_id       \n",
       "ARS          89496\n",
       "USD            504"
      ]
     },
     "metadata": {},
     "output_type": "display_data"
    }
   ],
   "source": [
    "inspect_column(df_train, 'currency_id', top_n=3)"
   ]
  },
  {
   "cell_type": "code",
   "execution_count": 52,
   "id": "f680c359-5791-417d-8323-81e2109a5322",
   "metadata": {
    "execution": {
     "iopub.execute_input": "2025-07-08T23:17:31.423643Z",
     "iopub.status.busy": "2025-07-08T23:17:31.423468Z",
     "iopub.status.idle": "2025-07-08T23:17:31.435394Z",
     "shell.execute_reply": "2025-07-08T23:17:31.434958Z",
     "shell.execute_reply.started": "2025-07-08T23:17:31.423626Z"
    }
   },
   "outputs": [],
   "source": [
    "df_train['is_USD'] = (df_train['currency_id'] == 'USD').astype('int8')\n",
    "df_test['is_USD']  = (df_test['currency_id']  == 'USD').astype('int8')"
   ]
  },
  {
   "cell_type": "code",
   "execution_count": 53,
   "id": "71f1200c-4e2c-4233-ad85-078e1ffda83f",
   "metadata": {
    "execution": {
     "iopub.execute_input": "2025-07-08T23:17:31.436029Z",
     "iopub.status.busy": "2025-07-08T23:17:31.435863Z",
     "iopub.status.idle": "2025-07-08T23:17:31.542547Z",
     "shell.execute_reply": "2025-07-08T23:17:31.542045Z",
     "shell.execute_reply.started": "2025-07-08T23:17:31.436013Z"
    }
   },
   "outputs": [],
   "source": [
    "# Eliminamos la columna original\n",
    "df_train = df_train.drop(columns=['currency_id'])\n",
    "df_test  = df_test.drop(columns=['currency_id'])"
   ]
  },
  {
   "cell_type": "markdown",
   "id": "d180e4a6-cb07-491a-8832-12b4cc1be25a",
   "metadata": {},
   "source": [
    "**Lectura**\n",
    "\n",
    "* Solo existen **dos monedas** y la distribución está fuertemente desbalanceada.\n",
    "* Con tan solo dos categorías, el encoding es trivial y no generará sparsity.\n",
    "\n",
    "**Decisión**\n",
    "\n",
    "* Mantener la variable, codificándola como **flag binaria** `is_USD = (currency_id == 'USD').astype(int8)`."
   ]
  },
  {
   "cell_type": "markdown",
   "id": "5be9fac4-d1cf-480e-b5ec-5b396d705736",
   "metadata": {
    "execution": {
     "iopub.execute_input": "2025-07-08T12:49:31.902345Z",
     "iopub.status.busy": "2025-07-08T12:49:31.901977Z",
     "iopub.status.idle": "2025-07-08T12:49:31.905206Z",
     "shell.execute_reply": "2025-07-08T12:49:31.904629Z",
     "shell.execute_reply.started": "2025-07-08T12:49:31.902320Z"
    }
   },
   "source": [
    "#### 4. Variable 'listing_type_id'"
   ]
  },
  {
   "cell_type": "code",
   "execution_count": 54,
   "id": "566f2e9b-3c78-4a68-b2ef-eab32fabe0ec",
   "metadata": {
    "execution": {
     "iopub.execute_input": "2025-07-08T23:17:31.546703Z",
     "iopub.status.busy": "2025-07-08T23:17:31.546524Z",
     "iopub.status.idle": "2025-07-08T23:17:31.576973Z",
     "shell.execute_reply": "2025-07-08T23:17:31.576513Z",
     "shell.execute_reply.started": "2025-07-08T23:17:31.546686Z"
    }
   },
   "outputs": [
    {
     "name": "stdout",
     "output_type": "stream",
     "text": [
      "\n",
      "— listing_type_id —\n",
      "dtype: object | n_missing: 0 | unique: 7\n"
     ]
    },
    {
     "data": {
      "text/html": [
       "<div>\n",
       "<style scoped>\n",
       "    .dataframe tbody tr th:only-of-type {\n",
       "        vertical-align: middle;\n",
       "    }\n",
       "\n",
       "    .dataframe tbody tr th {\n",
       "        vertical-align: top;\n",
       "    }\n",
       "\n",
       "    .dataframe thead th {\n",
       "        text-align: right;\n",
       "    }\n",
       "</style>\n",
       "<table border=\"1\" class=\"dataframe\">\n",
       "  <thead>\n",
       "    <tr style=\"text-align: right;\">\n",
       "      <th></th>\n",
       "      <th>freq</th>\n",
       "    </tr>\n",
       "    <tr>\n",
       "      <th>listing_type_id</th>\n",
       "      <th></th>\n",
       "    </tr>\n",
       "  </thead>\n",
       "  <tbody>\n",
       "    <tr>\n",
       "      <th>bronze</th>\n",
       "      <td>56904</td>\n",
       "    </tr>\n",
       "    <tr>\n",
       "      <th>free</th>\n",
       "      <td>19260</td>\n",
       "    </tr>\n",
       "    <tr>\n",
       "      <th>silver</th>\n",
       "      <td>8195</td>\n",
       "    </tr>\n",
       "    <tr>\n",
       "      <th>gold_special</th>\n",
       "      <td>2693</td>\n",
       "    </tr>\n",
       "    <tr>\n",
       "      <th>gold</th>\n",
       "      <td>2170</td>\n",
       "    </tr>\n",
       "    <tr>\n",
       "      <th>gold_premium</th>\n",
       "      <td>765</td>\n",
       "    </tr>\n",
       "    <tr>\n",
       "      <th>gold_pro</th>\n",
       "      <td>13</td>\n",
       "    </tr>\n",
       "  </tbody>\n",
       "</table>\n",
       "</div>"
      ],
      "text/plain": [
       "                  freq\n",
       "listing_type_id       \n",
       "bronze           56904\n",
       "free             19260\n",
       "silver            8195\n",
       "gold_special      2693\n",
       "gold              2170\n",
       "gold_premium       765\n",
       "gold_pro            13"
      ]
     },
     "metadata": {},
     "output_type": "display_data"
    }
   ],
   "source": [
    "inspect_column(df_train, 'listing_type_id', top_n=8)"
   ]
  },
  {
   "cell_type": "markdown",
   "id": "8b84f2c0-59aa-4ec2-802c-15a56f3d62c1",
   "metadata": {},
   "source": [
    "**Lectura**\n",
    "\n",
    "* El campo es **ordinal**: cada nivel es “mejor” que el anterior.  \n",
    "* Vendedores con `gold`, `gold_pro`, `platinum` suelen ser tiendas oficiales o de alto volumen → correlación esperada con ítems **nuevos**.  \n",
    "* One-hot perdería esa relación de orden; conviene codificarla como **ranking entero**.\n",
    "* Los modelos de árbol manejarán bien este entero ordinal; la distancia entre niveles no introduce problemas como en modelos lineales."
   ]
  },
  {
   "cell_type": "code",
   "execution_count": 55,
   "id": "1173f844-fa6f-419d-969b-afedeede8172",
   "metadata": {
    "execution": {
     "iopub.execute_input": "2025-07-08T23:17:31.579683Z",
     "iopub.status.busy": "2025-07-08T23:17:31.579516Z",
     "iopub.status.idle": "2025-07-08T23:17:31.593379Z",
     "shell.execute_reply": "2025-07-08T23:17:31.592934Z",
     "shell.execute_reply.started": "2025-07-08T23:17:31.579666Z"
    }
   },
   "outputs": [],
   "source": [
    "# mapping\n",
    "lt_map = {\n",
    "    'free': 0,\n",
    "    'bronze': 1,\n",
    "    'silver': 2,\n",
    "    'gold': 3,\n",
    "    'gold_special': 4,\n",
    "    'gold_premium': 5,\n",
    "    'gold_pro': 6\n",
    "}\n",
    "\n",
    "df_train['listing_type_rank'] = (df_train['listing_type_id'].map(lt_map).fillna(-1).astype('Int8'))\n",
    "df_test['listing_type_rank'] = (df_test['listing_type_id'].map(lt_map).fillna(-1).astype('Int8'))"
   ]
  },
  {
   "cell_type": "code",
   "execution_count": 56,
   "id": "7d46dd4c-f840-4360-99ab-b607163048a6",
   "metadata": {
    "execution": {
     "iopub.execute_input": "2025-07-08T23:17:31.594199Z",
     "iopub.status.busy": "2025-07-08T23:17:31.593888Z",
     "iopub.status.idle": "2025-07-08T23:17:31.693033Z",
     "shell.execute_reply": "2025-07-08T23:17:31.692524Z",
     "shell.execute_reply.started": "2025-07-08T23:17:31.594181Z"
    }
   },
   "outputs": [],
   "source": [
    "# eliminar columna original\n",
    "df_train = df_train.drop(columns=['listing_type_id'])\n",
    "df_test  = df_test.drop(columns=['listing_type_id'])"
   ]
  },
  {
   "cell_type": "code",
   "execution_count": 57,
   "id": "b3e139cd-b41b-40e7-bdb8-acb11c23c730",
   "metadata": {
    "execution": {
     "iopub.execute_input": "2025-07-08T23:17:31.694017Z",
     "iopub.status.busy": "2025-07-08T23:17:31.693659Z",
     "iopub.status.idle": "2025-07-08T23:17:31.698019Z",
     "shell.execute_reply": "2025-07-08T23:17:31.697562Z",
     "shell.execute_reply.started": "2025-07-08T23:17:31.693990Z"
    }
   },
   "outputs": [
    {
     "data": {
      "text/plain": [
       "<IntegerArray>\n",
       "[1, 2, 0, 4, 3, 5, 6]\n",
       "Length: 7, dtype: Int8"
      ]
     },
     "execution_count": 57,
     "metadata": {},
     "output_type": "execute_result"
    }
   ],
   "source": [
    "df_train['listing_type_rank'].unique()"
   ]
  },
  {
   "cell_type": "markdown",
   "id": "99584538-2ab9-4ff2-bf43-c8169ab3dc8a",
   "metadata": {},
   "source": [
    "#### 5. Variable 'parent_item_id'"
   ]
  },
  {
   "cell_type": "code",
   "execution_count": 58,
   "id": "53843dc9-0c7b-4e2b-92a7-583bbbe1f0da",
   "metadata": {
    "execution": {
     "iopub.execute_input": "2025-07-08T23:17:31.700868Z",
     "iopub.status.busy": "2025-07-08T23:17:31.700697Z",
     "iopub.status.idle": "2025-07-08T23:17:31.782880Z",
     "shell.execute_reply": "2025-07-08T23:17:31.782406Z",
     "shell.execute_reply.started": "2025-07-08T23:17:31.700852Z"
    }
   },
   "outputs": [
    {
     "name": "stdout",
     "output_type": "stream",
     "text": [
      "\n",
      "— parent_item_id —\n",
      "dtype: object | n_missing: 20690 | unique: 69310\n"
     ]
    },
    {
     "data": {
      "text/html": [
       "<div>\n",
       "<style scoped>\n",
       "    .dataframe tbody tr th:only-of-type {\n",
       "        vertical-align: middle;\n",
       "    }\n",
       "\n",
       "    .dataframe tbody tr th {\n",
       "        vertical-align: top;\n",
       "    }\n",
       "\n",
       "    .dataframe thead th {\n",
       "        text-align: right;\n",
       "    }\n",
       "</style>\n",
       "<table border=\"1\" class=\"dataframe\">\n",
       "  <thead>\n",
       "    <tr style=\"text-align: right;\">\n",
       "      <th></th>\n",
       "      <th>freq</th>\n",
       "    </tr>\n",
       "    <tr>\n",
       "      <th>parent_item_id</th>\n",
       "      <th></th>\n",
       "    </tr>\n",
       "  </thead>\n",
       "  <tbody>\n",
       "    <tr>\n",
       "      <th>MLA3661010119</th>\n",
       "      <td>1</td>\n",
       "    </tr>\n",
       "    <tr>\n",
       "      <th>MLA6553902747</th>\n",
       "      <td>1</td>\n",
       "    </tr>\n",
       "    <tr>\n",
       "      <th>MLA7727150374</th>\n",
       "      <td>1</td>\n",
       "    </tr>\n",
       "    <tr>\n",
       "      <th>MLA6561247998</th>\n",
       "      <td>1</td>\n",
       "    </tr>\n",
       "    <tr>\n",
       "      <th>MLA3133256685</th>\n",
       "      <td>1</td>\n",
       "    </tr>\n",
       "    <tr>\n",
       "      <th>MLA5588379672</th>\n",
       "      <td>1</td>\n",
       "    </tr>\n",
       "    <tr>\n",
       "      <th>MLA8744215055</th>\n",
       "      <td>1</td>\n",
       "    </tr>\n",
       "    <tr>\n",
       "      <th>MLA4442923846</th>\n",
       "      <td>1</td>\n",
       "    </tr>\n",
       "    <tr>\n",
       "      <th>MLA3677718570</th>\n",
       "      <td>1</td>\n",
       "    </tr>\n",
       "    <tr>\n",
       "      <th>MLA4007511794</th>\n",
       "      <td>1</td>\n",
       "    </tr>\n",
       "  </tbody>\n",
       "</table>\n",
       "</div>"
      ],
      "text/plain": [
       "                freq\n",
       "parent_item_id      \n",
       "MLA3661010119      1\n",
       "MLA6553902747      1\n",
       "MLA7727150374      1\n",
       "MLA6561247998      1\n",
       "MLA3133256685      1\n",
       "MLA5588379672      1\n",
       "MLA8744215055      1\n",
       "MLA4442923846      1\n",
       "MLA3677718570      1\n",
       "MLA4007511794      1"
      ]
     },
     "metadata": {},
     "output_type": "display_data"
    }
   ],
   "source": [
    "inspect_column(df_train, 'parent_item_id', top_n=10)"
   ]
  },
  {
   "cell_type": "markdown",
   "id": "dc379e48-3a62-47e1-a949-2da57aedaeb8",
   "metadata": {},
   "source": [
    "**Lectura**\n",
    "\n",
    "* **69 300 IDs únicas** (≈ 77 % del set) y el resto nulos.\n",
    "* Cada ID aparece **1 sola vez** → no hay agrupación útil.\n",
    "* Hash-encoding podría añadir ruido sin aportar señal discernible.\n",
    "\n",
    "**Decisión**  \n",
    "Eliminamos `parent_item_id`."
   ]
  },
  {
   "cell_type": "code",
   "execution_count": 59,
   "id": "0d906424-cac1-4fcb-911e-d8f8d270a779",
   "metadata": {
    "execution": {
     "iopub.execute_input": "2025-07-08T23:17:31.785768Z",
     "iopub.status.busy": "2025-07-08T23:17:31.785476Z",
     "iopub.status.idle": "2025-07-08T23:17:31.876869Z",
     "shell.execute_reply": "2025-07-08T23:17:31.876385Z",
     "shell.execute_reply.started": "2025-07-08T23:17:31.785749Z"
    }
   },
   "outputs": [],
   "source": [
    "df_train = df_train.drop(columns=['parent_item_id'], errors='ignore')\n",
    "df_test  = df_test.drop(columns=['parent_item_id'], errors='ignore')"
   ]
  },
  {
   "cell_type": "markdown",
   "id": "a2d2a06a-ad62-426b-af98-a592849d4c46",
   "metadata": {},
   "source": [
    "#### 6. Variable 'seller_address_state_name'"
   ]
  },
  {
   "cell_type": "code",
   "execution_count": 60,
   "id": "ff63a6e7-e8bf-47ed-ae13-94de78e767c3",
   "metadata": {
    "execution": {
     "iopub.execute_input": "2025-07-08T23:17:31.879696Z",
     "iopub.status.busy": "2025-07-08T23:17:31.879312Z",
     "iopub.status.idle": "2025-07-08T23:17:31.912004Z",
     "shell.execute_reply": "2025-07-08T23:17:31.911554Z",
     "shell.execute_reply.started": "2025-07-08T23:17:31.879675Z"
    }
   },
   "outputs": [
    {
     "name": "stdout",
     "output_type": "stream",
     "text": [
      "\n",
      "— seller_address_state_name —\n",
      "dtype: object | n_missing: 1 | unique: 24\n"
     ]
    },
    {
     "data": {
      "text/html": [
       "<div>\n",
       "<style scoped>\n",
       "    .dataframe tbody tr th:only-of-type {\n",
       "        vertical-align: middle;\n",
       "    }\n",
       "\n",
       "    .dataframe tbody tr th {\n",
       "        vertical-align: top;\n",
       "    }\n",
       "\n",
       "    .dataframe thead th {\n",
       "        text-align: right;\n",
       "    }\n",
       "</style>\n",
       "<table border=\"1\" class=\"dataframe\">\n",
       "  <thead>\n",
       "    <tr style=\"text-align: right;\">\n",
       "      <th></th>\n",
       "      <th>freq</th>\n",
       "    </tr>\n",
       "    <tr>\n",
       "      <th>seller_address_state_name</th>\n",
       "      <th></th>\n",
       "    </tr>\n",
       "  </thead>\n",
       "  <tbody>\n",
       "    <tr>\n",
       "      <th>Capital Federal</th>\n",
       "      <td>52143</td>\n",
       "    </tr>\n",
       "    <tr>\n",
       "      <th>Buenos Aires</th>\n",
       "      <td>31482</td>\n",
       "    </tr>\n",
       "    <tr>\n",
       "      <th>Santa Fe</th>\n",
       "      <td>2398</td>\n",
       "    </tr>\n",
       "    <tr>\n",
       "      <th>Córdoba</th>\n",
       "      <td>1727</td>\n",
       "    </tr>\n",
       "    <tr>\n",
       "      <th>Mendoza</th>\n",
       "      <td>400</td>\n",
       "    </tr>\n",
       "    <tr>\n",
       "      <th>Chubut</th>\n",
       "      <td>335</td>\n",
       "    </tr>\n",
       "    <tr>\n",
       "      <th>Entre Ríos</th>\n",
       "      <td>249</td>\n",
       "    </tr>\n",
       "    <tr>\n",
       "      <th>Tucumán</th>\n",
       "      <td>214</td>\n",
       "    </tr>\n",
       "    <tr>\n",
       "      <th>San Juan</th>\n",
       "      <td>132</td>\n",
       "    </tr>\n",
       "    <tr>\n",
       "      <th>Salta</th>\n",
       "      <td>131</td>\n",
       "    </tr>\n",
       "    <tr>\n",
       "      <th>Misiones</th>\n",
       "      <td>122</td>\n",
       "    </tr>\n",
       "    <tr>\n",
       "      <th>Río Negro</th>\n",
       "      <td>119</td>\n",
       "    </tr>\n",
       "    <tr>\n",
       "      <th>Corrientes</th>\n",
       "      <td>110</td>\n",
       "    </tr>\n",
       "    <tr>\n",
       "      <th>Neuquén</th>\n",
       "      <td>87</td>\n",
       "    </tr>\n",
       "    <tr>\n",
       "      <th>La Pampa</th>\n",
       "      <td>70</td>\n",
       "    </tr>\n",
       "    <tr>\n",
       "      <th>Chaco</th>\n",
       "      <td>69</td>\n",
       "    </tr>\n",
       "    <tr>\n",
       "      <th>San Luis</th>\n",
       "      <td>56</td>\n",
       "    </tr>\n",
       "    <tr>\n",
       "      <th>Jujuy</th>\n",
       "      <td>33</td>\n",
       "    </tr>\n",
       "    <tr>\n",
       "      <th>Formosa</th>\n",
       "      <td>28</td>\n",
       "    </tr>\n",
       "    <tr>\n",
       "      <th>Santiago del Estero</th>\n",
       "      <td>26</td>\n",
       "    </tr>\n",
       "    <tr>\n",
       "      <th>Santa Cruz</th>\n",
       "      <td>22</td>\n",
       "    </tr>\n",
       "    <tr>\n",
       "      <th>Catamarca</th>\n",
       "      <td>20</td>\n",
       "    </tr>\n",
       "    <tr>\n",
       "      <th>La Rioja</th>\n",
       "      <td>16</td>\n",
       "    </tr>\n",
       "    <tr>\n",
       "      <th>Tierra del Fuego</th>\n",
       "      <td>10</td>\n",
       "    </tr>\n",
       "  </tbody>\n",
       "</table>\n",
       "</div>"
      ],
      "text/plain": [
       "                            freq\n",
       "seller_address_state_name       \n",
       "Capital Federal            52143\n",
       "Buenos Aires               31482\n",
       "Santa Fe                    2398\n",
       "Córdoba                     1727\n",
       "Mendoza                      400\n",
       "Chubut                       335\n",
       "Entre Ríos                   249\n",
       "Tucumán                      214\n",
       "San Juan                     132\n",
       "Salta                        131\n",
       "Misiones                     122\n",
       "Río Negro                    119\n",
       "Corrientes                   110\n",
       "Neuquén                       87\n",
       "La Pampa                      70\n",
       "Chaco                         69\n",
       "San Luis                      56\n",
       "Jujuy                         33\n",
       "Formosa                       28\n",
       "Santiago del Estero           26\n",
       "Santa Cruz                    22\n",
       "Catamarca                     20\n",
       "La Rioja                      16\n",
       "Tierra del Fuego              10"
      ]
     },
     "metadata": {},
     "output_type": "display_data"
    }
   ],
   "source": [
    "inspect_column(df_train, 'seller_address_state_name', top_n=24)"
   ]
  },
  {
   "cell_type": "markdown",
   "id": "6112bf81-f9ce-4e29-a83b-9c684a1da199",
   "metadata": {},
   "source": [
    "**Lectura**\n",
    "\n",
    "* Cardinalidad **baja–media** (24 categorías) pero distribución muy sesgada:\n",
    "  Capital Federal y Buenos Aires concentran el 93 % del total.\n",
    "* Los estados minoritarios (< 0.5 %) representan menos de 3 % del dataset; aún\n",
    "  así podrían aportar señal (ej. provincias con más artículos usados).\n",
    "* Para modelos árbol–basados, un **one-hot directo** con 24 columnas es\n",
    "  manejable; sin embargo, las columnas de frecuencia < 0.5 % aportarán poca\n",
    "  información y ocupan memoria.\n",
    "\n",
    "**Decisión**\n",
    "\n",
    "* **Reduced one-hot** (Top-K + “Other”) | Reduce sparsity, mantiene interpretabilidad | Asume que las provincias chicas se comportan igual\n",
    "* Para esto **agrupamos provincias con < 1 %** en una categoría `Other_state`, luego **one-hot**.  Mantiene las dos grandes (Capital y Buenos Aires) y algunas intermedias."
   ]
  },
  {
   "cell_type": "code",
   "execution_count": 61,
   "id": "261dcebb-1645-4b0b-a932-dacaa3d37842",
   "metadata": {
    "execution": {
     "iopub.execute_input": "2025-07-08T23:17:31.914466Z",
     "iopub.status.busy": "2025-07-08T23:17:31.914295Z",
     "iopub.status.idle": "2025-07-08T23:17:31.925716Z",
     "shell.execute_reply": "2025-07-08T23:17:31.925293Z",
     "shell.execute_reply.started": "2025-07-08T23:17:31.914450Z"
    }
   },
   "outputs": [],
   "source": [
    "# threshold: estados con menos del 1 % del total se agrupan en 'Other_state'\n",
    "thresh = 0.01 * len(df_train)\n",
    "state_counts = df_train['seller_address_state_name'].value_counts()\n",
    "\n",
    "rare_states = state_counts[state_counts < thresh].index"
   ]
  },
  {
   "cell_type": "code",
   "execution_count": 62,
   "id": "6d9d59f5-0c8b-4df7-89be-3e1f3d70d823",
   "metadata": {
    "execution": {
     "iopub.execute_input": "2025-07-08T23:17:31.926442Z",
     "iopub.status.busy": "2025-07-08T23:17:31.926220Z",
     "iopub.status.idle": "2025-07-08T23:17:32.101693Z",
     "shell.execute_reply": "2025-07-08T23:17:32.101214Z",
     "shell.execute_reply.started": "2025-07-08T23:17:31.926425Z"
    }
   },
   "outputs": [],
   "source": [
    "df_train['state_reduced'] = df_train['seller_address_state_name'].replace(rare_states, 'Other_state')\n",
    "df_test ['state_reduced'] = df_test ['seller_address_state_name'].replace(rare_states, 'Other_state')"
   ]
  },
  {
   "cell_type": "code",
   "execution_count": 63,
   "id": "489a9719-4997-4599-a83c-02a19fd4b52d",
   "metadata": {
    "execution": {
     "iopub.execute_input": "2025-07-08T23:17:32.102464Z",
     "iopub.status.busy": "2025-07-08T23:17:32.102274Z",
     "iopub.status.idle": "2025-07-08T23:17:32.192423Z",
     "shell.execute_reply": "2025-07-08T23:17:32.191928Z",
     "shell.execute_reply.started": "2025-07-08T23:17:32.102447Z"
    }
   },
   "outputs": [],
   "source": [
    "# eliminamos columna original\n",
    "df_train = df_train.drop(columns=['seller_address_state_name'])\n",
    "df_test  = df_test.drop(columns=['seller_address_state_name'])"
   ]
  },
  {
   "cell_type": "markdown",
   "id": "57c33a60-2d39-496d-8085-3cbb43aac650",
   "metadata": {},
   "source": [
    "#### 7. Variable 'seller_address_city_name'"
   ]
  },
  {
   "cell_type": "code",
   "execution_count": 64,
   "id": "09270a2e-a4b5-4ced-b398-70c4f5b10fc3",
   "metadata": {
    "execution": {
     "iopub.execute_input": "2025-07-08T23:17:32.194861Z",
     "iopub.status.busy": "2025-07-08T23:17:32.194685Z",
     "iopub.status.idle": "2025-07-08T23:17:32.198168Z",
     "shell.execute_reply": "2025-07-08T23:17:32.197678Z",
     "shell.execute_reply.started": "2025-07-08T23:17:32.194845Z"
    }
   },
   "outputs": [],
   "source": [
    "def normalize_city(text):\n",
    "    \"\"\"\n",
    "    Normaliza un string de ciudad:\n",
    "      • quita acentos/tildes\n",
    "      • pasa a minúsculas\n",
    "      • colapsa espacios múltiples\n",
    "      • reemplaza espacio por '_' (guion bajo)\n",
    "      • elimina espacios al inicio/fin\n",
    "    Retorna NaN si la entrada era NaN.\n",
    "    \"\"\"\n",
    "    if pd.isna(text):\n",
    "        return pd.NA\n",
    "    # quitar acentos\n",
    "    text = unicodedata.normalize('NFKD', text)\\\n",
    "                       .encode('ascii', 'ignore')\\\n",
    "                       .decode('ascii')\n",
    "\n",
    "    text = text.lower().strip()\n",
    "    text = re.sub(r'\\s+', '_', text)\n",
    "    return text"
   ]
  },
  {
   "cell_type": "code",
   "execution_count": 65,
   "id": "b88dad8e-9c1a-4f38-adbd-e2cbbb2540b3",
   "metadata": {
    "execution": {
     "iopub.execute_input": "2025-07-08T23:17:32.204968Z",
     "iopub.status.busy": "2025-07-08T23:17:32.204552Z",
     "iopub.status.idle": "2025-07-08T23:17:32.394368Z",
     "shell.execute_reply": "2025-07-08T23:17:32.393900Z",
     "shell.execute_reply.started": "2025-07-08T23:17:32.204934Z"
    }
   },
   "outputs": [],
   "source": [
    "df_train['city_norm'] = df_train['seller_address_city_name'].apply(normalize_city)\n",
    "df_test['city_norm'] = df_test['seller_address_city_name'].apply(normalize_city)"
   ]
  },
  {
   "cell_type": "code",
   "execution_count": 66,
   "id": "338ad3cc-c746-44f5-804a-0b19b12d7efd",
   "metadata": {
    "execution": {
     "iopub.execute_input": "2025-07-08T23:17:32.395209Z",
     "iopub.status.busy": "2025-07-08T23:17:32.395030Z",
     "iopub.status.idle": "2025-07-08T23:17:32.420127Z",
     "shell.execute_reply": "2025-07-08T23:17:32.419712Z",
     "shell.execute_reply.started": "2025-07-08T23:17:32.395193Z"
    }
   },
   "outputs": [
    {
     "name": "stdout",
     "output_type": "stream",
     "text": [
      "\n",
      "— city_norm —\n",
      "dtype: object | n_missing: 2 | unique: 2327\n"
     ]
    },
    {
     "data": {
      "text/html": [
       "<div>\n",
       "<style scoped>\n",
       "    .dataframe tbody tr th:only-of-type {\n",
       "        vertical-align: middle;\n",
       "    }\n",
       "\n",
       "    .dataframe tbody tr th {\n",
       "        vertical-align: top;\n",
       "    }\n",
       "\n",
       "    .dataframe thead th {\n",
       "        text-align: right;\n",
       "    }\n",
       "</style>\n",
       "<table border=\"1\" class=\"dataframe\">\n",
       "  <thead>\n",
       "    <tr style=\"text-align: right;\">\n",
       "      <th></th>\n",
       "      <th>freq</th>\n",
       "    </tr>\n",
       "    <tr>\n",
       "      <th>city_norm</th>\n",
       "      <th></th>\n",
       "    </tr>\n",
       "  </thead>\n",
       "  <tbody>\n",
       "    <tr>\n",
       "      <th>capital_federal</th>\n",
       "      <td>5857</td>\n",
       "    </tr>\n",
       "    <tr>\n",
       "      <th>buenos_aires</th>\n",
       "      <td>5808</td>\n",
       "    </tr>\n",
       "    <tr>\n",
       "      <th>caba</th>\n",
       "      <td>5309</td>\n",
       "    </tr>\n",
       "    <tr>\n",
       "      <th>palermo</th>\n",
       "      <td>3046</td>\n",
       "    </tr>\n",
       "    <tr>\n",
       "      <th>caballito</th>\n",
       "      <td>2710</td>\n",
       "    </tr>\n",
       "    <tr>\n",
       "      <th>belgrano</th>\n",
       "      <td>2112</td>\n",
       "    </tr>\n",
       "    <tr>\n",
       "      <th>rosario</th>\n",
       "      <td>1923</td>\n",
       "    </tr>\n",
       "    <tr>\n",
       "      <th>flores</th>\n",
       "      <td>1516</td>\n",
       "    </tr>\n",
       "    <tr>\n",
       "      <th>villa_crespo</th>\n",
       "      <td>1434</td>\n",
       "    </tr>\n",
       "    <tr>\n",
       "      <th>mataderos</th>\n",
       "      <td>1412</td>\n",
       "    </tr>\n",
       "    <tr>\n",
       "      <th>lanus</th>\n",
       "      <td>1158</td>\n",
       "    </tr>\n",
       "    <tr>\n",
       "      <th>almagro</th>\n",
       "      <td>1131</td>\n",
       "    </tr>\n",
       "    <tr>\n",
       "      <th>avellaneda</th>\n",
       "      <td>1111</td>\n",
       "    </tr>\n",
       "    <tr>\n",
       "      <th>balvanera</th>\n",
       "      <td>1053</td>\n",
       "    </tr>\n",
       "    <tr>\n",
       "      <th>mar_del_plata</th>\n",
       "      <td>975</td>\n",
       "    </tr>\n",
       "    <tr>\n",
       "      <th>la_plata</th>\n",
       "      <td>952</td>\n",
       "    </tr>\n",
       "    <tr>\n",
       "      <th>cordoba</th>\n",
       "      <td>919</td>\n",
       "    </tr>\n",
       "    <tr>\n",
       "      <th>san_isidro</th>\n",
       "      <td>914</td>\n",
       "    </tr>\n",
       "    <tr>\n",
       "      <th>general_san_martin</th>\n",
       "      <td>853</td>\n",
       "    </tr>\n",
       "    <tr>\n",
       "      <th>recoleta</th>\n",
       "      <td>849</td>\n",
       "    </tr>\n",
       "    <tr>\n",
       "      <th>quilmes</th>\n",
       "      <td>817</td>\n",
       "    </tr>\n",
       "    <tr>\n",
       "      <th>floresta</th>\n",
       "      <td>756</td>\n",
       "    </tr>\n",
       "    <tr>\n",
       "      <th>villa_urquiza</th>\n",
       "      <td>750</td>\n",
       "    </tr>\n",
       "    <tr>\n",
       "      <th>vicente_lopez</th>\n",
       "      <td>746</td>\n",
       "    </tr>\n",
       "    <tr>\n",
       "      <th>lomas_de_zamora</th>\n",
       "      <td>740</td>\n",
       "    </tr>\n",
       "    <tr>\n",
       "      <th>congreso</th>\n",
       "      <td>731</td>\n",
       "    </tr>\n",
       "    <tr>\n",
       "      <th>moron</th>\n",
       "      <td>730</td>\n",
       "    </tr>\n",
       "    <tr>\n",
       "      <th>microcentro</th>\n",
       "      <td>726</td>\n",
       "    </tr>\n",
       "    <tr>\n",
       "      <th>ituzaingo</th>\n",
       "      <td>677</td>\n",
       "    </tr>\n",
       "    <tr>\n",
       "      <th>ramos_mejia</th>\n",
       "      <td>662</td>\n",
       "    </tr>\n",
       "    <tr>\n",
       "      <th>san_nicolas</th>\n",
       "      <td>656</td>\n",
       "    </tr>\n",
       "    <tr>\n",
       "      <th>ciudad_autonoma_de_buenos_aires</th>\n",
       "      <td>653</td>\n",
       "    </tr>\n",
       "    <tr>\n",
       "      <th>san_telmo</th>\n",
       "      <td>634</td>\n",
       "    </tr>\n",
       "    <tr>\n",
       "      <th>villa_devoto</th>\n",
       "      <td>605</td>\n",
       "    </tr>\n",
       "    <tr>\n",
       "      <th>boedo</th>\n",
       "      <td>601</td>\n",
       "    </tr>\n",
       "    <tr>\n",
       "      <th>martinez</th>\n",
       "      <td>598</td>\n",
       "    </tr>\n",
       "    <tr>\n",
       "      <th>capital</th>\n",
       "      <td>586</td>\n",
       "    </tr>\n",
       "  </tbody>\n",
       "</table>\n",
       "</div>"
      ],
      "text/plain": [
       "                                 freq\n",
       "city_norm                            \n",
       "capital_federal                  5857\n",
       "buenos_aires                     5808\n",
       "caba                             5309\n",
       "palermo                          3046\n",
       "caballito                        2710\n",
       "belgrano                         2112\n",
       "rosario                          1923\n",
       "flores                           1516\n",
       "villa_crespo                     1434\n",
       "mataderos                        1412\n",
       "lanus                            1158\n",
       "almagro                          1131\n",
       "avellaneda                       1111\n",
       "balvanera                        1053\n",
       "mar_del_plata                     975\n",
       "la_plata                          952\n",
       "cordoba                           919\n",
       "san_isidro                        914\n",
       "general_san_martin                853\n",
       "recoleta                          849\n",
       "quilmes                           817\n",
       "floresta                          756\n",
       "villa_urquiza                     750\n",
       "vicente_lopez                     746\n",
       "lomas_de_zamora                   740\n",
       "congreso                          731\n",
       "moron                             730\n",
       "microcentro                       726\n",
       "ituzaingo                         677\n",
       "ramos_mejia                       662\n",
       "san_nicolas                       656\n",
       "ciudad_autonoma_de_buenos_aires   653\n",
       "san_telmo                         634\n",
       "villa_devoto                      605\n",
       "boedo                             601\n",
       "martinez                          598\n",
       "capital                           586"
      ]
     },
     "metadata": {},
     "output_type": "display_data"
    }
   ],
   "source": [
    "inspect_column(df_train, 'city_norm', top_n=37)"
   ]
  },
  {
   "cell_type": "markdown",
   "id": "9d039976-1471-4159-8490-fe5fb34156c2",
   "metadata": {
    "execution": {
     "iopub.execute_input": "2025-07-08T14:49:11.748220Z",
     "iopub.status.busy": "2025-07-08T14:49:11.747538Z",
     "iopub.status.idle": "2025-07-08T14:49:11.752145Z",
     "shell.execute_reply": "2025-07-08T14:49:11.751522Z",
     "shell.execute_reply.started": "2025-07-08T14:49:11.748194Z"
    }
   },
   "source": [
    "**Lectura**\n",
    "\n",
    "* **Cardinalidad extremadamente alta** incluso tras la normalización (`≈ 2 300` ciudades únicas).\n",
    "* Persisten variantes semánticamente iguales (`capital_federal`, `capital`, `caba`, `ciudad_autonoma_de_buenos_aires`, etc.), posiblemente porque el campo lo escribe cada vendedor libremente.\n",
    "* Agregar un “rare_categories” englobaría cientos de aliases y seguiría introduciendo ruido → poca ganancia frente a **`state_reduced`**, que ya capta la señal geográfica a nivel provincia.\n",
    "\n",
    "**Conclusión:**\n",
    "* Para esta fase mantenemos solo la versión de provincia (`state_reduced`) y **descartamos `seller_address_city_name` (y `city_norm`)**.\n",
    "* Si en una iteración futura vemos que aporta, podemos volver con técnicas más avanzadas (fuzzy clustering, embedding)."
   ]
  },
  {
   "cell_type": "code",
   "execution_count": 67,
   "id": "58a6ace0-e51d-4b50-bc7b-5a04bc731eca",
   "metadata": {
    "execution": {
     "iopub.execute_input": "2025-07-08T23:17:32.422472Z",
     "iopub.status.busy": "2025-07-08T23:17:32.422302Z",
     "iopub.status.idle": "2025-07-08T23:17:32.509710Z",
     "shell.execute_reply": "2025-07-08T23:17:32.509213Z",
     "shell.execute_reply.started": "2025-07-08T23:17:32.422456Z"
    }
   },
   "outputs": [],
   "source": [
    "cols_to_drop = ['seller_address_city_name', 'city_norm']\n",
    "df_train = df_train.drop(columns=cols_to_drop, errors='ignore')\n",
    "df_test  = df_test.drop(columns=cols_to_drop, errors='ignore')"
   ]
  },
  {
   "cell_type": "markdown",
   "id": "7a95e042-7ec5-45ee-9916-1cc1226bcd03",
   "metadata": {},
   "source": [
    "#### 8. Variable 'seller_id'"
   ]
  },
  {
   "cell_type": "code",
   "execution_count": 68,
   "id": "cbbd1157-40a8-4f6f-8376-3532b10abf4e",
   "metadata": {
    "execution": {
     "iopub.execute_input": "2025-07-08T23:17:32.512376Z",
     "iopub.status.busy": "2025-07-08T23:17:32.512195Z",
     "iopub.status.idle": "2025-07-08T23:17:32.554733Z",
     "shell.execute_reply": "2025-07-08T23:17:32.554304Z",
     "shell.execute_reply.started": "2025-07-08T23:17:32.512359Z"
    }
   },
   "outputs": [
    {
     "name": "stdout",
     "output_type": "stream",
     "text": [
      "\n",
      "— seller_id —\n",
      "dtype: object | n_missing: 0 | unique: 33281\n"
     ]
    },
    {
     "data": {
      "text/html": [
       "<div>\n",
       "<style scoped>\n",
       "    .dataframe tbody tr th:only-of-type {\n",
       "        vertical-align: middle;\n",
       "    }\n",
       "\n",
       "    .dataframe tbody tr th {\n",
       "        vertical-align: top;\n",
       "    }\n",
       "\n",
       "    .dataframe thead th {\n",
       "        text-align: right;\n",
       "    }\n",
       "</style>\n",
       "<table border=\"1\" class=\"dataframe\">\n",
       "  <thead>\n",
       "    <tr style=\"text-align: right;\">\n",
       "      <th></th>\n",
       "      <th>freq</th>\n",
       "    </tr>\n",
       "    <tr>\n",
       "      <th>seller_id</th>\n",
       "      <th></th>\n",
       "    </tr>\n",
       "  </thead>\n",
       "  <tbody>\n",
       "    <tr>\n",
       "      <th>5248662274</th>\n",
       "      <td>850</td>\n",
       "    </tr>\n",
       "    <tr>\n",
       "      <th>2015548469</th>\n",
       "      <td>654</td>\n",
       "    </tr>\n",
       "    <tr>\n",
       "      <th>7704929703</th>\n",
       "      <td>424</td>\n",
       "    </tr>\n",
       "    <tr>\n",
       "      <th>4631246902</th>\n",
       "      <td>408</td>\n",
       "    </tr>\n",
       "    <tr>\n",
       "      <th>8612126795</th>\n",
       "      <td>318</td>\n",
       "    </tr>\n",
       "    <tr>\n",
       "      <th>2266082781</th>\n",
       "      <td>302</td>\n",
       "    </tr>\n",
       "    <tr>\n",
       "      <th>6972484560</th>\n",
       "      <td>259</td>\n",
       "    </tr>\n",
       "    <tr>\n",
       "      <th>6846806944</th>\n",
       "      <td>251</td>\n",
       "    </tr>\n",
       "    <tr>\n",
       "      <th>4248718919</th>\n",
       "      <td>244</td>\n",
       "    </tr>\n",
       "    <tr>\n",
       "      <th>1387735603</th>\n",
       "      <td>240</td>\n",
       "    </tr>\n",
       "    <tr>\n",
       "      <th>8326621157</th>\n",
       "      <td>211</td>\n",
       "    </tr>\n",
       "    <tr>\n",
       "      <th>7772844348</th>\n",
       "      <td>209</td>\n",
       "    </tr>\n",
       "    <tr>\n",
       "      <th>2373910598</th>\n",
       "      <td>208</td>\n",
       "    </tr>\n",
       "    <tr>\n",
       "      <th>7694743641</th>\n",
       "      <td>183</td>\n",
       "    </tr>\n",
       "    <tr>\n",
       "      <th>3135396608</th>\n",
       "      <td>164</td>\n",
       "    </tr>\n",
       "  </tbody>\n",
       "</table>\n",
       "</div>"
      ],
      "text/plain": [
       "            freq\n",
       "seller_id       \n",
       "5248662274   850\n",
       "2015548469   654\n",
       "7704929703   424\n",
       "4631246902   408\n",
       "8612126795   318\n",
       "2266082781   302\n",
       "6972484560   259\n",
       "6846806944   251\n",
       "4248718919   244\n",
       "1387735603   240\n",
       "8326621157   211\n",
       "7772844348   209\n",
       "2373910598   208\n",
       "7694743641   183\n",
       "3135396608   164"
      ]
     },
     "metadata": {},
     "output_type": "display_data"
    }
   ],
   "source": [
    "inspect_column(df_train, 'seller_id', top_n=15)"
   ]
  },
  {
   "cell_type": "markdown",
   "id": "0af887eb-bd25-47a4-ae8b-a75a67924bda",
   "metadata": {
    "execution": {
     "iopub.execute_input": "2025-07-08T15:15:21.876298Z",
     "iopub.status.busy": "2025-07-08T15:15:21.875568Z",
     "iopub.status.idle": "2025-07-08T15:15:21.883457Z",
     "shell.execute_reply": "2025-07-08T15:15:21.882769Z",
     "shell.execute_reply.started": "2025-07-08T15:15:21.876275Z"
    }
   },
   "source": [
    "**Lectura**\n",
    "\n",
    "* Top-1 vendedor | 850 avisos (0.9 %)\n",
    "* Mediana avisos por vendedor | **2**\n",
    "* % vendedores con ≤ 5 avisos | ~85 %\n",
    "\n",
    "**Pros de conservar**\n",
    "* Algunos vendedores son “tienda oficial” (casi todo **nuevo**) y otros venden exclusivamente **usado**; la ID captura ese patrón.\n",
    "\n",
    "**Contras / riesgo**\n",
    "* **Data leakage**: si un vendedor aparece en train y test, el modelo puede memorizar su “estilo” en lugar de generalizar sobre el producto.\n",
    "* Cardinalidad muy alta → one-hot imposible; hash-encoding introduce colisiones y aún así puede memorizar.\n",
    "\n",
    "**Estrategias posibles**\n",
    "* **Hash encoding** (4 096 buckets) | Mantiene algo de señal, aumenta la dimensión pero es controlable | Alto riesgo de leakage (memoriza buckets si vendedor repite) | `hash(seller_id) % 4096`\n",
    "* **Seller volume features** | `log1p(n_items_seller)` + flag `high_volume` | Bajo riesgo de leakeage (solo usa conteo, no la ID) | `df.groupby(seller_id).size()`\n",
    "\n",
    "**Conclusión:**\n",
    "1. **Eliminar `seller_id`** por ahora para evitar fuga explícita. \n",
    "2. Crear **`seller_volume`** (`log1p` del número de publicaciones del vendedor en *train*) y un flag `high_volume` (> 50 avisos). Esto da idea de profesionalidad sin revelar la identidad.\n",
    "3. Se evita el data leakeage porque el conteo proviene **solo del train**; en test los vendedores nuevos se imputan con 0 avisos.\n",
    "\n",
    "Si el modelo base no alcanza el valor necesario en la metrica de evaluación, se puede revisar luego."
   ]
  },
  {
   "cell_type": "code",
   "execution_count": 69,
   "id": "acf645d8-aead-4c13-8511-a8747b230ad2",
   "metadata": {
    "execution": {
     "iopub.execute_input": "2025-07-08T23:17:32.556927Z",
     "iopub.status.busy": "2025-07-08T23:17:32.556761Z",
     "iopub.status.idle": "2025-07-08T23:17:32.585671Z",
     "shell.execute_reply": "2025-07-08T23:17:32.585244Z",
     "shell.execute_reply.started": "2025-07-08T23:17:32.556912Z"
    }
   },
   "outputs": [],
   "source": [
    "seller_counts = df_train['seller_id'].value_counts()\n",
    "\n",
    "df_train['seller_volume'] = df_train['seller_id'].map(seller_counts)\n",
    "df_test ['seller_volume'] = df_test ['seller_id'].map(seller_counts).fillna(0)"
   ]
  },
  {
   "cell_type": "code",
   "execution_count": 70,
   "id": "10bc8269-ea21-4b0d-b12c-8e48fa373fb4",
   "metadata": {
    "execution": {
     "iopub.execute_input": "2025-07-08T23:17:32.586575Z",
     "iopub.status.busy": "2025-07-08T23:17:32.586176Z",
     "iopub.status.idle": "2025-07-08T23:17:32.590365Z",
     "shell.execute_reply": "2025-07-08T23:17:32.589938Z",
     "shell.execute_reply.started": "2025-07-08T23:17:32.586556Z"
    }
   },
   "outputs": [],
   "source": [
    "df_train['seller_volume_log'] = np.log1p(df_train['seller_volume']).astype('float32')\n",
    "df_test['seller_volume_log']  = np.log1p(df_test['seller_volume']).astype('float32')"
   ]
  },
  {
   "cell_type": "code",
   "execution_count": 71,
   "id": "7548c4d7-56a1-419c-b133-1a302d23f960",
   "metadata": {
    "execution": {
     "iopub.execute_input": "2025-07-08T23:17:32.591083Z",
     "iopub.status.busy": "2025-07-08T23:17:32.590860Z",
     "iopub.status.idle": "2025-07-08T23:17:32.594961Z",
     "shell.execute_reply": "2025-07-08T23:17:32.594545Z",
     "shell.execute_reply.started": "2025-07-08T23:17:32.591066Z"
    }
   },
   "outputs": [],
   "source": [
    "df_train['seller_high_volume'] = (df_train['seller_volume'] > 50).astype('int8')\n",
    "df_test ['seller_high_volume'] = (df_test ['seller_volume']  > 50).astype('int8')"
   ]
  },
  {
   "cell_type": "code",
   "execution_count": 72,
   "id": "6cb2905c-b537-4945-9b53-f0c3d8e74fb6",
   "metadata": {
    "execution": {
     "iopub.execute_input": "2025-07-08T23:17:32.595623Z",
     "iopub.status.busy": "2025-07-08T23:17:32.595454Z",
     "iopub.status.idle": "2025-07-08T23:17:32.685223Z",
     "shell.execute_reply": "2025-07-08T23:17:32.684732Z",
     "shell.execute_reply.started": "2025-07-08T23:17:32.595608Z"
    }
   },
   "outputs": [
    {
     "name": "stdout",
     "output_type": "stream",
     "text": [
      "   seller_volume_log  seller_high_volume\n",
      "0           0.693147                   0\n",
      "1           1.098612                   0\n",
      "2           3.465736                   0\n",
      "3           1.609438                   0\n",
      "4           4.343805                   1\n"
     ]
    }
   ],
   "source": [
    "# drop raw columns\n",
    "df_train = df_train.drop(columns=['seller_id', 'seller_volume'])\n",
    "df_test  = df_test.drop(columns=['seller_id', 'seller_volume'])\n",
    "\n",
    "print(df_train[['seller_volume_log', 'seller_high_volume']].head())"
   ]
  },
  {
   "cell_type": "markdown",
   "id": "409d45b5-1b53-4e1b-b240-c3ff9236c5c4",
   "metadata": {},
   "source": [
    "#### 9. Variable 'shipping_mode'"
   ]
  },
  {
   "cell_type": "code",
   "execution_count": 73,
   "id": "389b5c56-8389-4805-9179-1fe06fc5f9c2",
   "metadata": {
    "execution": {
     "iopub.execute_input": "2025-07-08T23:17:32.687641Z",
     "iopub.status.busy": "2025-07-08T23:17:32.687469Z",
     "iopub.status.idle": "2025-07-08T23:17:32.719701Z",
     "shell.execute_reply": "2025-07-08T23:17:32.719271Z",
     "shell.execute_reply.started": "2025-07-08T23:17:32.687624Z"
    }
   },
   "outputs": [
    {
     "name": "stdout",
     "output_type": "stream",
     "text": [
      "\n",
      "— shipping_mode —\n",
      "dtype: object | n_missing: 0 | unique: 4\n"
     ]
    },
    {
     "data": {
      "text/html": [
       "<div>\n",
       "<style scoped>\n",
       "    .dataframe tbody tr th:only-of-type {\n",
       "        vertical-align: middle;\n",
       "    }\n",
       "\n",
       "    .dataframe tbody tr th {\n",
       "        vertical-align: top;\n",
       "    }\n",
       "\n",
       "    .dataframe thead th {\n",
       "        text-align: right;\n",
       "    }\n",
       "</style>\n",
       "<table border=\"1\" class=\"dataframe\">\n",
       "  <thead>\n",
       "    <tr style=\"text-align: right;\">\n",
       "      <th></th>\n",
       "      <th>freq</th>\n",
       "    </tr>\n",
       "    <tr>\n",
       "      <th>shipping_mode</th>\n",
       "      <th></th>\n",
       "    </tr>\n",
       "  </thead>\n",
       "  <tbody>\n",
       "    <tr>\n",
       "      <th>me2</th>\n",
       "      <td>46059</td>\n",
       "    </tr>\n",
       "    <tr>\n",
       "      <th>not_specified</th>\n",
       "      <td>40725</td>\n",
       "    </tr>\n",
       "    <tr>\n",
       "      <th>custom</th>\n",
       "      <td>3130</td>\n",
       "    </tr>\n",
       "    <tr>\n",
       "      <th>me1</th>\n",
       "      <td>86</td>\n",
       "    </tr>\n",
       "  </tbody>\n",
       "</table>\n",
       "</div>"
      ],
      "text/plain": [
       "                freq\n",
       "shipping_mode       \n",
       "me2            46059\n",
       "not_specified  40725\n",
       "custom          3130\n",
       "me1               86"
      ]
     },
     "metadata": {},
     "output_type": "display_data"
    }
   ],
   "source": [
    "inspect_column(df_train, 'shipping_mode', top_n=5)"
   ]
  },
  {
   "cell_type": "markdown",
   "id": "1b6711df-f64e-466c-85e7-a5b960b39da7",
   "metadata": {},
   "source": [
    "**Lectura**\n",
    "* *me2* → logística completa de Mercado Envíos (suele usarla un vendedor formal).\n",
    "* *not_specified* → vendedor define su propio método; mezcla de nuevos y usados.\n",
    "* *custom* → logística acordada manualmente; típico de vendedores pequeños → posible correlación con **usado**.\n",
    "* *me1* está prácticamente extinta (servicio antiguo).\n",
    "\n",
    "**Decisión**\n",
    "* Encodar el resultado con **One-Hot** (`me2`, `not_specified`, `custom`, `me1`). → 4 columnas, manejable e interpretable."
   ]
  },
  {
   "cell_type": "markdown",
   "id": "aefc8390-ff02-4931-8027-f28265227822",
   "metadata": {},
   "source": [
    "#### 10. Variable 'status'"
   ]
  },
  {
   "cell_type": "code",
   "execution_count": 74,
   "id": "2c05ac33-a449-4ec7-81be-a237aad2af9b",
   "metadata": {
    "execution": {
     "iopub.execute_input": "2025-07-08T23:17:32.723546Z",
     "iopub.status.busy": "2025-07-08T23:17:32.723384Z",
     "iopub.status.idle": "2025-07-08T23:17:32.753949Z",
     "shell.execute_reply": "2025-07-08T23:17:32.753494Z",
     "shell.execute_reply.started": "2025-07-08T23:17:32.723531Z"
    }
   },
   "outputs": [
    {
     "name": "stdout",
     "output_type": "stream",
     "text": [
      "\n",
      "— status —\n",
      "dtype: object | n_missing: 0 | unique: 4\n"
     ]
    },
    {
     "data": {
      "text/html": [
       "<div>\n",
       "<style scoped>\n",
       "    .dataframe tbody tr th:only-of-type {\n",
       "        vertical-align: middle;\n",
       "    }\n",
       "\n",
       "    .dataframe tbody tr th {\n",
       "        vertical-align: top;\n",
       "    }\n",
       "\n",
       "    .dataframe thead th {\n",
       "        text-align: right;\n",
       "    }\n",
       "</style>\n",
       "<table border=\"1\" class=\"dataframe\">\n",
       "  <thead>\n",
       "    <tr style=\"text-align: right;\">\n",
       "      <th></th>\n",
       "      <th>freq</th>\n",
       "    </tr>\n",
       "    <tr>\n",
       "      <th>status</th>\n",
       "      <th></th>\n",
       "    </tr>\n",
       "  </thead>\n",
       "  <tbody>\n",
       "    <tr>\n",
       "      <th>active</th>\n",
       "      <td>86116</td>\n",
       "    </tr>\n",
       "    <tr>\n",
       "      <th>paused</th>\n",
       "      <td>3863</td>\n",
       "    </tr>\n",
       "    <tr>\n",
       "      <th>closed</th>\n",
       "      <td>20</td>\n",
       "    </tr>\n",
       "    <tr>\n",
       "      <th>not_yet_active</th>\n",
       "      <td>1</td>\n",
       "    </tr>\n",
       "  </tbody>\n",
       "</table>\n",
       "</div>"
      ],
      "text/plain": [
       "                 freq\n",
       "status               \n",
       "active          86116\n",
       "paused           3863\n",
       "closed             20\n",
       "not_yet_active      1"
      ]
     },
     "metadata": {},
     "output_type": "display_data"
    }
   ],
   "source": [
    "inspect_column(df_train, 'status', top_n=5)"
   ]
  },
  {
   "cell_type": "markdown",
   "id": "575daf7e-58b8-4e20-bb91-4a7b4740449b",
   "metadata": {},
   "source": [
    "**Lectura**\n",
    "* `active` domina claramente el set.  \n",
    "* `paused` (publicación suspendida temporalmente) aparece en ~4 % y podría correlacionar con **usado** (stock agotado, vendedor sin reputación, etc.).\n",
    "* `closed` y `not_yet_active` son extremadamente raras; mantenerlas como dummies independientes añade columnas casi vacías.\n",
    "\n",
    "**Decisión**\n",
    "* Agrupar las dos categorías ultrararas (`closed`, `not_yet_active`) en **`other_status`**.  \n",
    "* Aplicar **One-Hot Encoding** a las tres categorías resultantes: `active`, `paused`, `other_status`.\n",
    "\n",
    "Esto conserva la señal de “no activo” sin crear columnas muy dispersas."
   ]
  },
  {
   "cell_type": "code",
   "execution_count": 75,
   "id": "8cc796fe-3e50-4130-91f4-1b23174aeb82",
   "metadata": {
    "execution": {
     "iopub.execute_input": "2025-07-08T23:17:32.756175Z",
     "iopub.status.busy": "2025-07-08T23:17:32.756007Z",
     "iopub.status.idle": "2025-07-08T23:17:32.780867Z",
     "shell.execute_reply": "2025-07-08T23:17:32.780430Z",
     "shell.execute_reply.started": "2025-07-08T23:17:32.756159Z"
    }
   },
   "outputs": [],
   "source": [
    "# agrupar clases raras\n",
    "df_train['status_red'] = df_train['status'].replace({'closed': 'other_status', 'not_yet_active': 'other_status'})\n",
    "df_test['status_red'] = df_test['status'].replace({'closed': 'other_status', 'not_yet_active': 'other_status'})"
   ]
  },
  {
   "cell_type": "code",
   "execution_count": 76,
   "id": "1e36bb0e-c164-4ac9-a69f-91200105cdbd",
   "metadata": {
    "execution": {
     "iopub.execute_input": "2025-07-08T23:17:32.781596Z",
     "iopub.status.busy": "2025-07-08T23:17:32.781417Z",
     "iopub.status.idle": "2025-07-08T23:17:32.879314Z",
     "shell.execute_reply": "2025-07-08T23:17:32.878844Z",
     "shell.execute_reply.started": "2025-07-08T23:17:32.781580Z"
    }
   },
   "outputs": [
    {
     "name": "stdout",
     "output_type": "stream",
     "text": [
      "Distribución reducida:\n"
     ]
    },
    {
     "data": {
      "text/html": [
       "<div>\n",
       "<style scoped>\n",
       "    .dataframe tbody tr th:only-of-type {\n",
       "        vertical-align: middle;\n",
       "    }\n",
       "\n",
       "    .dataframe tbody tr th {\n",
       "        vertical-align: top;\n",
       "    }\n",
       "\n",
       "    .dataframe thead th {\n",
       "        text-align: right;\n",
       "    }\n",
       "</style>\n",
       "<table border=\"1\" class=\"dataframe\">\n",
       "  <thead>\n",
       "    <tr style=\"text-align: right;\">\n",
       "      <th></th>\n",
       "      <th>%</th>\n",
       "    </tr>\n",
       "    <tr>\n",
       "      <th>status_red</th>\n",
       "      <th></th>\n",
       "    </tr>\n",
       "  </thead>\n",
       "  <tbody>\n",
       "    <tr>\n",
       "      <th>active</th>\n",
       "      <td>95.68</td>\n",
       "    </tr>\n",
       "    <tr>\n",
       "      <th>paused</th>\n",
       "      <td>4.29</td>\n",
       "    </tr>\n",
       "    <tr>\n",
       "      <th>other_status</th>\n",
       "      <td>0.02</td>\n",
       "    </tr>\n",
       "  </tbody>\n",
       "</table>\n",
       "</div>"
      ],
      "text/plain": [
       "                  %\n",
       "status_red         \n",
       "active        95.68\n",
       "paused         4.29\n",
       "other_status   0.02"
      ]
     },
     "metadata": {},
     "output_type": "display_data"
    }
   ],
   "source": [
    "# eliminar la original\n",
    "df_train = df_train.drop(columns=['status'])\n",
    "df_test  = df_test.drop(columns=['status'])\n",
    "\n",
    "print(\"Distribución reducida:\")\n",
    "display(df_train['status_red'].value_counts(normalize=True).mul(100).round(2).to_frame('%'))"
   ]
  },
  {
   "cell_type": "markdown",
   "id": "d11cd104-2c90-46d2-be92-74d71e5a4e51",
   "metadata": {},
   "source": [
    "#### 11. Variable 'warranty'"
   ]
  },
  {
   "cell_type": "code",
   "execution_count": 77,
   "id": "af6085c7-6607-40bc-bbc9-668409fe6f18",
   "metadata": {
    "execution": {
     "iopub.execute_input": "2025-07-08T23:17:32.882307Z",
     "iopub.status.busy": "2025-07-08T23:17:32.881884Z",
     "iopub.status.idle": "2025-07-08T23:17:32.925536Z",
     "shell.execute_reply": "2025-07-08T23:17:32.925088Z",
     "shell.execute_reply.started": "2025-07-08T23:17:32.882278Z"
    }
   },
   "outputs": [
    {
     "name": "stdout",
     "output_type": "stream",
     "text": [
      "\n",
      "— warranty —\n",
      "dtype: object | n_missing: 54786 | unique: 9535\n"
     ]
    },
    {
     "data": {
      "text/html": [
       "<div>\n",
       "<style scoped>\n",
       "    .dataframe tbody tr th:only-of-type {\n",
       "        vertical-align: middle;\n",
       "    }\n",
       "\n",
       "    .dataframe tbody tr th {\n",
       "        vertical-align: top;\n",
       "    }\n",
       "\n",
       "    .dataframe thead th {\n",
       "        text-align: right;\n",
       "    }\n",
       "</style>\n",
       "<table border=\"1\" class=\"dataframe\">\n",
       "  <thead>\n",
       "    <tr style=\"text-align: right;\">\n",
       "      <th></th>\n",
       "      <th>freq</th>\n",
       "    </tr>\n",
       "    <tr>\n",
       "      <th>warranty</th>\n",
       "      <th></th>\n",
       "    </tr>\n",
       "  </thead>\n",
       "  <tbody>\n",
       "    <tr>\n",
       "      <th>Sí</th>\n",
       "      <td>5107</td>\n",
       "    </tr>\n",
       "    <tr>\n",
       "      <th>Sin garantía</th>\n",
       "      <td>4907</td>\n",
       "    </tr>\n",
       "    <tr>\n",
       "      <th>SI</th>\n",
       "      <td>545</td>\n",
       "    </tr>\n",
       "    <tr>\n",
       "      <th>6 meses</th>\n",
       "      <td>489</td>\n",
       "    </tr>\n",
       "    <tr>\n",
       "      <th>6 MESES</th>\n",
       "      <td>361</td>\n",
       "    </tr>\n",
       "  </tbody>\n",
       "</table>\n",
       "</div>"
      ],
      "text/plain": [
       "              freq\n",
       "warranty          \n",
       "Sí            5107\n",
       "Sin garantía  4907\n",
       "SI             545\n",
       "6 meses        489\n",
       "6 MESES        361"
      ]
     },
     "metadata": {},
     "output_type": "display_data"
    }
   ],
   "source": [
    "inspect_column(df_train, 'warranty', top_n=5)"
   ]
  },
  {
   "cell_type": "markdown",
   "id": "a4ee9f3b-5048-4389-89e2-aa605c0cfe6d",
   "metadata": {},
   "source": [
    "Creamos una tabla para visualizar como se distribuye nuestra variable target, con respecto a los diferentes valores de la variable warranty (luego de normalizar sus valores)."
   ]
  },
  {
   "cell_type": "code",
   "execution_count": 78,
   "id": "38f9f5fa-1715-4d31-ad60-838bdcf31caa",
   "metadata": {
    "execution": {
     "iopub.execute_input": "2025-07-08T23:17:32.928036Z",
     "iopub.status.busy": "2025-07-08T23:17:32.927862Z",
     "iopub.status.idle": "2025-07-08T23:17:33.288918Z",
     "shell.execute_reply": "2025-07-08T23:17:33.288471Z",
     "shell.execute_reply.started": "2025-07-08T23:17:32.928019Z"
    }
   },
   "outputs": [
    {
     "data": {
      "text/html": [
       "<div>\n",
       "<style scoped>\n",
       "    .dataframe tbody tr th:only-of-type {\n",
       "        vertical-align: middle;\n",
       "    }\n",
       "\n",
       "    .dataframe tbody tr th {\n",
       "        vertical-align: top;\n",
       "    }\n",
       "\n",
       "    .dataframe thead th {\n",
       "        text-align: right;\n",
       "    }\n",
       "</style>\n",
       "<table border=\"1\" class=\"dataframe\">\n",
       "  <thead>\n",
       "    <tr style=\"text-align: right;\">\n",
       "      <th></th>\n",
       "      <th>warranty</th>\n",
       "      <th>new</th>\n",
       "      <th>used</th>\n",
       "      <th>total</th>\n",
       "      <th>pct_used</th>\n",
       "    </tr>\n",
       "  </thead>\n",
       "  <tbody>\n",
       "    <tr>\n",
       "      <th>0</th>\n",
       "      <td>missing</td>\n",
       "      <td>26479</td>\n",
       "      <td>28307</td>\n",
       "      <td>54786</td>\n",
       "      <td>0.517</td>\n",
       "    </tr>\n",
       "    <tr>\n",
       "      <th>1</th>\n",
       "      <td>si</td>\n",
       "      <td>2871</td>\n",
       "      <td>3407</td>\n",
       "      <td>6278</td>\n",
       "      <td>0.543</td>\n",
       "    </tr>\n",
       "    <tr>\n",
       "      <th>2</th>\n",
       "      <td>sin garantia</td>\n",
       "      <td>1701</td>\n",
       "      <td>3219</td>\n",
       "      <td>4920</td>\n",
       "      <td>0.654</td>\n",
       "    </tr>\n",
       "    <tr>\n",
       "      <th>3</th>\n",
       "      <td>6 meses</td>\n",
       "      <td>927</td>\n",
       "      <td>27</td>\n",
       "      <td>954</td>\n",
       "      <td>0.028</td>\n",
       "    </tr>\n",
       "    <tr>\n",
       "      <th>4</th>\n",
       "      <td>3 meses</td>\n",
       "      <td>377</td>\n",
       "      <td>21</td>\n",
       "      <td>398</td>\n",
       "      <td>0.053</td>\n",
       "    </tr>\n",
       "  </tbody>\n",
       "</table>\n",
       "</div>"
      ],
      "text/plain": [
       "       warranty    new   used  total  pct_used\n",
       "0       missing  26479  28307  54786     0.517\n",
       "1            si   2871   3407   6278     0.543\n",
       "2  sin garantia   1701   3219   4920     0.654\n",
       "3       6 meses    927     27    954     0.028\n",
       "4       3 meses    377     21    398     0.053"
      ]
     },
     "metadata": {},
     "output_type": "display_data"
    }
   ],
   "source": [
    "def quick_norm(s):\n",
    "    if pd.isna(s):\n",
    "        return 'missing'\n",
    "    s = unicodedata.normalize('NFKD', str(s)).encode('ascii', 'ignore').decode('ascii')\n",
    "    return re.sub(r'\\s+', ' ', s.lower()).strip()\n",
    "\n",
    "# normalizar warranty\n",
    "df_tmp = df_train.copy()\n",
    "df_tmp['warr_norm'] = df_tmp['warranty'].map(quick_norm)\n",
    "\n",
    "# top-50 valores más frecuentes\n",
    "top_n = 50\n",
    "top_vals = df_tmp['warr_norm'].value_counts().head(top_n).index\n",
    "\n",
    "# tabla cruzada (conteo de filas)\n",
    "tbl = (\n",
    "    df_tmp[df_tmp['warr_norm'].isin(top_vals)]\n",
    "      .pivot_table(index='warr_norm',\n",
    "                   columns='condition',\n",
    "                   aggfunc='size',\n",
    "                   fill_value=0)\n",
    "      .rename_axis(None, axis=1)\n",
    ")\n",
    "\n",
    "tbl['total']    = tbl.sum(axis=1)\n",
    "tbl['pct_used'] = (tbl['used'] / tbl['total']).round(3)\n",
    "\n",
    "tbl = tbl.sort_values('total', ascending=False)\n",
    "\n",
    "display(tbl.reset_index().rename(columns={'warr_norm': 'warranty'}).head(5))"
   ]
  },
  {
   "cell_type": "markdown",
   "id": "d85fdf06-484b-4175-9c74-fb92e7f0dc7e",
   "metadata": {},
   "source": [
    "**Lectura**  \n",
    "* `warranty` tiene **> 9 500** formas de expresar la garantia (tildes, mayúsculas, frases de marketing) y **61 %** de nulos.\n",
    "* Pocos registros indicaban un plazo claro (“6 meses”, “1 año”, “90 días”); la mayoría sólo decía “sí / con garantía” o mensajes de reputación.\n",
    "* Cruce con la *target* → los ítems **used** se concentran en “sin garantía”, mientras los **new** predominan en plazos de 3-36 meses.\n",
    "\n",
    "**Decisión & Feature Engineering**  \n",
    "1. **Normalizar texto** (minúsculas, sin tildes).  \n",
    "2. **Regex**:  \n",
    "   * “sin/no garantía” → `warranty_months = -1`  \n",
    "   * Plazo explícito (años/meses/días) → convertir a **meses** (>0).  \n",
    "   * Garantía genérica sin plazo (“con garantía”, “de fábrica”, etc.) → `warranty_months = 0`.  \n",
    "3. Crear flag **`warranty_duration_specified`** = 1 si `warranty_months ≥ 0`.\n",
    "\n",
    "En el modelo:  \n",
    "* `warranty_months` entra como numérica (−1, 0, 3, 6, 12, …).  \n",
    "* `warranty_duration_specified` como variable binaria.\n",
    "\n",
    "De este modo reemplazamos la columna `warranty` por dos features densas, interpretables y con la señal “sin / con / cuánto”."
   ]
  },
  {
   "cell_type": "code",
   "execution_count": 79,
   "id": "5fa87975-1b51-4286-89cb-1f34615aad8f",
   "metadata": {
    "execution": {
     "iopub.execute_input": "2025-07-08T23:17:33.291293Z",
     "iopub.status.busy": "2025-07-08T23:17:33.291122Z",
     "iopub.status.idle": "2025-07-08T23:17:33.297087Z",
     "shell.execute_reply": "2025-07-08T23:17:33.296622Z",
     "shell.execute_reply.started": "2025-07-08T23:17:33.291277Z"
    }
   },
   "outputs": [],
   "source": [
    "def normalize_txt(s:str) -> str:\n",
    "    \"\"\"acentos→ascii, lower, trim, colapsa espacios\"\"\"\n",
    "    s = unicodedata.normalize('NFKD', s).encode('ascii', 'ignore').decode('ascii')\n",
    "    return re.sub(r'\\s+', ' ', s.lower()).strip()\n",
    "\n",
    "RE_UNITS = {\n",
    "    'year' : re.compile(r'(\\d+)\\s*a(?:n|ñ)o?s?'),\n",
    "    'month': re.compile(r'(\\d+)\\s*mes(?:es)?'),\n",
    "    'day'  : re.compile(r'(\\d+)\\s*d[ií]a?s?'),\n",
    "}\n",
    "\n",
    "# estos son los patrones que buscamos filtrar\n",
    "NEG_NO_GARANT = re.compile(r'\\b(?:sin|no)\\s+garant', re.I)\n",
    "\n",
    "KEY_HAS_WARRANTY = re.compile(\n",
    "    r'(garant\\w*.*\\b(?:si|con|fabric|fabr|oficial|total)\\b)|'\n",
    "    r'\\b(?:de|del)\\s+fabr(?:ic(?:a|ante)?|)\\b',\n",
    "    re.I\n",
    ")\n",
    "\n",
    "def warranty_to_months(text) -> int:\n",
    "    \"\"\"\n",
    "    -1: sin garantía\n",
    "     0: tiene garantía sin duración explícita\n",
    "    >0: meses\n",
    "    \"\"\"\n",
    "    if pd.isna(text):\n",
    "        return -1\n",
    "    txt = normalize_txt(str(text))\n",
    "\n",
    "    # sin garantía\n",
    "    if txt in {'', 'na', 'n/a'} or NEG_NO_GARANT.search(txt):\n",
    "        return -1\n",
    "\n",
    "    # duración explícita\n",
    "    for unit, regex in RE_UNITS.items():\n",
    "        m = regex.search(txt)\n",
    "        if m:\n",
    "            num = int(m.group(1))\n",
    "            if unit == 'year':\n",
    "                return num * 12\n",
    "            if unit == 'day':\n",
    "                return max(1, round(num / 30))\n",
    "            return num  # months\n",
    "\n",
    "    # garantía sin duración\n",
    "    if KEY_HAS_WARRANTY.search(txt):\n",
    "        return 0\n",
    "\n",
    "    return -1"
   ]
  },
  {
   "cell_type": "code",
   "execution_count": 80,
   "id": "2a70680b-5649-44ea-9a9d-707e8e444305",
   "metadata": {
    "execution": {
     "iopub.execute_input": "2025-07-08T23:17:33.297824Z",
     "iopub.status.busy": "2025-07-08T23:17:33.297602Z",
     "iopub.status.idle": "2025-07-08T23:17:33.707026Z",
     "shell.execute_reply": "2025-07-08T23:17:33.706578Z",
     "shell.execute_reply.started": "2025-07-08T23:17:33.297807Z"
    }
   },
   "outputs": [],
   "source": [
    "# ---------- aplicar ----------\n",
    "for df in (df_train, df_test):\n",
    "    months = df['warranty'].map(warranty_to_months).astype('int16')\n",
    "    df['warranty_months'] = months\n",
    "    df['warranty_duration_specified'] = (months >= 0).astype('int8')"
   ]
  },
  {
   "cell_type": "code",
   "execution_count": 81,
   "id": "e8ccbda5-d5f0-447a-9f66-dfa4b40423fc",
   "metadata": {
    "execution": {
     "iopub.execute_input": "2025-07-08T23:17:33.707749Z",
     "iopub.status.busy": "2025-07-08T23:17:33.707566Z",
     "iopub.status.idle": "2025-07-08T23:17:33.710687Z",
     "shell.execute_reply": "2025-07-08T23:17:33.710261Z",
     "shell.execute_reply.started": "2025-07-08T23:17:33.707733Z"
    }
   },
   "outputs": [],
   "source": [
    "# Distribución NEW vs USED para las nuevas features warranty\n",
    "def dist_table(feature: str, df: pd.DataFrame) -> pd.DataFrame:\n",
    "    \"\"\"Devuelve conteo y % used por valor de `feature`.\"\"\"\n",
    "    ct = pd.crosstab(df[feature], df['condition'])\n",
    "    ct['total']    = ct.sum(axis=1)\n",
    "    ct['pct_used'] = (ct['used'] / ct['total']).round(3)\n",
    "    return ct.sort_index()"
   ]
  },
  {
   "cell_type": "code",
   "execution_count": 82,
   "id": "b17c9441-16c2-448a-91b1-bf25b17960c0",
   "metadata": {
    "execution": {
     "iopub.execute_input": "2025-07-08T23:17:33.711327Z",
     "iopub.status.busy": "2025-07-08T23:17:33.711151Z",
     "iopub.status.idle": "2025-07-08T23:17:33.743186Z",
     "shell.execute_reply": "2025-07-08T23:17:33.742765Z",
     "shell.execute_reply.started": "2025-07-08T23:17:33.711311Z"
    }
   },
   "outputs": [
    {
     "data": {
      "text/html": [
       "<div>\n",
       "<style scoped>\n",
       "    .dataframe tbody tr th:only-of-type {\n",
       "        vertical-align: middle;\n",
       "    }\n",
       "\n",
       "    .dataframe tbody tr th {\n",
       "        vertical-align: top;\n",
       "    }\n",
       "\n",
       "    .dataframe thead th {\n",
       "        text-align: right;\n",
       "    }\n",
       "</style>\n",
       "<table border=\"1\" class=\"dataframe\">\n",
       "  <thead>\n",
       "    <tr style=\"text-align: right;\">\n",
       "      <th>condition</th>\n",
       "      <th>new</th>\n",
       "      <th>used</th>\n",
       "      <th>total</th>\n",
       "      <th>pct_used</th>\n",
       "    </tr>\n",
       "    <tr>\n",
       "      <th>warranty_months</th>\n",
       "      <th></th>\n",
       "      <th></th>\n",
       "      <th></th>\n",
       "      <th></th>\n",
       "    </tr>\n",
       "  </thead>\n",
       "  <tbody>\n",
       "    <tr>\n",
       "      <th>-1</th>\n",
       "      <td>39111</td>\n",
       "      <td>40753</td>\n",
       "      <td>79864</td>\n",
       "      <td>0.510</td>\n",
       "    </tr>\n",
       "    <tr>\n",
       "      <th>0</th>\n",
       "      <td>2264</td>\n",
       "      <td>386</td>\n",
       "      <td>2650</td>\n",
       "      <td>0.146</td>\n",
       "    </tr>\n",
       "    <tr>\n",
       "      <th>6</th>\n",
       "      <td>2543</td>\n",
       "      <td>52</td>\n",
       "      <td>2595</td>\n",
       "      <td>0.020</td>\n",
       "    </tr>\n",
       "    <tr>\n",
       "      <th>12</th>\n",
       "      <td>1659</td>\n",
       "      <td>43</td>\n",
       "      <td>1702</td>\n",
       "      <td>0.025</td>\n",
       "    </tr>\n",
       "    <tr>\n",
       "      <th>3</th>\n",
       "      <td>957</td>\n",
       "      <td>72</td>\n",
       "      <td>1029</td>\n",
       "      <td>0.070</td>\n",
       "    </tr>\n",
       "    <tr>\n",
       "      <th>1</th>\n",
       "      <td>569</td>\n",
       "      <td>174</td>\n",
       "      <td>743</td>\n",
       "      <td>0.234</td>\n",
       "    </tr>\n",
       "    <tr>\n",
       "      <th>24</th>\n",
       "      <td>252</td>\n",
       "      <td>5</td>\n",
       "      <td>257</td>\n",
       "      <td>0.019</td>\n",
       "    </tr>\n",
       "    <tr>\n",
       "      <th>60</th>\n",
       "      <td>254</td>\n",
       "      <td>1</td>\n",
       "      <td>255</td>\n",
       "      <td>0.004</td>\n",
       "    </tr>\n",
       "    <tr>\n",
       "      <th>2</th>\n",
       "      <td>194</td>\n",
       "      <td>13</td>\n",
       "      <td>207</td>\n",
       "      <td>0.063</td>\n",
       "    </tr>\n",
       "    <tr>\n",
       "      <th>120</th>\n",
       "      <td>112</td>\n",
       "      <td>17</td>\n",
       "      <td>129</td>\n",
       "      <td>0.132</td>\n",
       "    </tr>\n",
       "    <tr>\n",
       "      <th>36</th>\n",
       "      <td>123</td>\n",
       "      <td>2</td>\n",
       "      <td>125</td>\n",
       "      <td>0.016</td>\n",
       "    </tr>\n",
       "    <tr>\n",
       "      <th>360</th>\n",
       "      <td>53</td>\n",
       "      <td>7</td>\n",
       "      <td>60</td>\n",
       "      <td>0.117</td>\n",
       "    </tr>\n",
       "    <tr>\n",
       "      <th>240</th>\n",
       "      <td>41</td>\n",
       "      <td>14</td>\n",
       "      <td>55</td>\n",
       "      <td>0.255</td>\n",
       "    </tr>\n",
       "    <tr>\n",
       "      <th>4</th>\n",
       "      <td>45</td>\n",
       "      <td>1</td>\n",
       "      <td>46</td>\n",
       "      <td>0.022</td>\n",
       "    </tr>\n",
       "    <tr>\n",
       "      <th>300</th>\n",
       "      <td>10</td>\n",
       "      <td>27</td>\n",
       "      <td>37</td>\n",
       "      <td>0.730</td>\n",
       "    </tr>\n",
       "  </tbody>\n",
       "</table>\n",
       "</div>"
      ],
      "text/plain": [
       "condition          new   used  total  pct_used\n",
       "warranty_months                               \n",
       "-1               39111  40753  79864     0.510\n",
       " 0                2264    386   2650     0.146\n",
       " 6                2543     52   2595     0.020\n",
       " 12               1659     43   1702     0.025\n",
       " 3                 957     72   1029     0.070\n",
       " 1                 569    174    743     0.234\n",
       " 24                252      5    257     0.019\n",
       " 60                254      1    255     0.004\n",
       " 2                 194     13    207     0.063\n",
       " 120               112     17    129     0.132\n",
       " 36                123      2    125     0.016\n",
       " 360                53      7     60     0.117\n",
       " 240                41     14     55     0.255\n",
       " 4                  45      1     46     0.022\n",
       " 300                10     27     37     0.730"
      ]
     },
     "metadata": {},
     "output_type": "display_data"
    }
   ],
   "source": [
    "# 1) Duración en meses (–1 = sin garantía, 0 = sin duración, >0 meses)\n",
    "tbl_months = dist_table('warranty_months', df_train)\n",
    "display(tbl_months.sort_values('total', ascending=False).head(15))"
   ]
  },
  {
   "cell_type": "code",
   "execution_count": 83,
   "id": "2a0afd95-64f9-44bc-ac85-5b85748b0bf9",
   "metadata": {
    "execution": {
     "iopub.execute_input": "2025-07-08T23:17:33.743853Z",
     "iopub.status.busy": "2025-07-08T23:17:33.743677Z",
     "iopub.status.idle": "2025-07-08T23:17:33.768037Z",
     "shell.execute_reply": "2025-07-08T23:17:33.767610Z",
     "shell.execute_reply.started": "2025-07-08T23:17:33.743837Z"
    }
   },
   "outputs": [
    {
     "data": {
      "text/html": [
       "<div>\n",
       "<style scoped>\n",
       "    .dataframe tbody tr th:only-of-type {\n",
       "        vertical-align: middle;\n",
       "    }\n",
       "\n",
       "    .dataframe tbody tr th {\n",
       "        vertical-align: top;\n",
       "    }\n",
       "\n",
       "    .dataframe thead th {\n",
       "        text-align: right;\n",
       "    }\n",
       "</style>\n",
       "<table border=\"1\" class=\"dataframe\">\n",
       "  <thead>\n",
       "    <tr style=\"text-align: right;\">\n",
       "      <th>condition</th>\n",
       "      <th>new</th>\n",
       "      <th>used</th>\n",
       "      <th>total</th>\n",
       "      <th>pct_used</th>\n",
       "    </tr>\n",
       "    <tr>\n",
       "      <th>warranty_duration_specified</th>\n",
       "      <th></th>\n",
       "      <th></th>\n",
       "      <th></th>\n",
       "      <th></th>\n",
       "    </tr>\n",
       "  </thead>\n",
       "  <tbody>\n",
       "    <tr>\n",
       "      <th>0</th>\n",
       "      <td>39111</td>\n",
       "      <td>40753</td>\n",
       "      <td>79864</td>\n",
       "      <td>0.510</td>\n",
       "    </tr>\n",
       "    <tr>\n",
       "      <th>1</th>\n",
       "      <td>9241</td>\n",
       "      <td>895</td>\n",
       "      <td>10136</td>\n",
       "      <td>0.088</td>\n",
       "    </tr>\n",
       "  </tbody>\n",
       "</table>\n",
       "</div>"
      ],
      "text/plain": [
       "condition                      new   used  total  pct_used\n",
       "warranty_duration_specified                               \n",
       "0                            39111  40753  79864     0.510\n",
       "1                             9241    895  10136     0.088"
      ]
     },
     "metadata": {},
     "output_type": "display_data"
    }
   ],
   "source": [
    "# 2) Flag “¿tiene duración especificada?” (1 = sí, 0 = no)\n",
    "tbl_flag   = dist_table('warranty_duration_specified', df_train)\n",
    "display(tbl_flag.sort_values('total', ascending=False).head(2))"
   ]
  },
  {
   "cell_type": "code",
   "execution_count": 84,
   "id": "88ae1c0a-47f9-46e1-831e-be731b721ded",
   "metadata": {
    "execution": {
     "iopub.execute_input": "2025-07-08T23:17:33.768755Z",
     "iopub.status.busy": "2025-07-08T23:17:33.768527Z",
     "iopub.status.idle": "2025-07-08T23:17:33.845632Z",
     "shell.execute_reply": "2025-07-08T23:17:33.845140Z",
     "shell.execute_reply.started": "2025-07-08T23:17:33.768738Z"
    }
   },
   "outputs": [],
   "source": [
    "# eliminar columna bruta\n",
    "df_train = df_train.drop(columns=['warranty'])\n",
    "df_test  = df_test.drop(columns=['warranty'])"
   ]
  },
  {
   "cell_type": "markdown",
   "id": "74b8de19-6f34-47ff-932f-fd8e22509e31",
   "metadata": {},
   "source": [
    "### b. Variables tipo listas o json"
   ]
  },
  {
   "cell_type": "code",
   "execution_count": 85,
   "id": "5045f0b7-3ec5-4e76-a17a-c9e6c89a7480",
   "metadata": {
    "execution": {
     "iopub.execute_input": "2025-07-08T23:17:33.848164Z",
     "iopub.status.busy": "2025-07-08T23:17:33.847986Z",
     "iopub.status.idle": "2025-07-08T23:17:33.853277Z",
     "shell.execute_reply": "2025-07-08T23:17:33.852753Z",
     "shell.execute_reply.started": "2025-07-08T23:17:33.848148Z"
    }
   },
   "outputs": [],
   "source": [
    "def flatten_column(df: pd.DataFrame, col: str) -> pd.DataFrame:\n",
    "    \"\"\"\n",
    "    Fully flatten *every* element of df[col] into a tidy DataFrame.\n",
    "\n",
    "    • Lists / dicts           → expanded row-by-row via json_normalize.\n",
    "    • JSON strings            → parsed first.\n",
    "    • Scalars (incl. NaN)     → wrapped into a dict so they survive.\n",
    "    • Keeps row index in '__row' for traceability.\n",
    "    \"\"\"\n",
    "    records = []\n",
    "\n",
    "    for idx, x in df[col].items():\n",
    "        # decode JSON strings (ignore failures -> keep as raw string)\n",
    "        if isinstance(x, str):\n",
    "            try:\n",
    "                x = json.loads(x)\n",
    "            except json.JSONDecodeError:\n",
    "                pass\n",
    "\n",
    "        # make iterable\n",
    "        if is_scalar(x):\n",
    "            x = [x]\n",
    "\n",
    "        # expand each element\n",
    "        for item in x:\n",
    "            if is_scalar(item) or item is None or (isinstance(item, float) and np.isnan(item)):\n",
    "                key = col[:-1] if col.endswith('s') else f\"{col}_value\"\n",
    "                records.append({'__row': idx, key: item})\n",
    "            elif isinstance(item, dict):\n",
    "                rec = item.copy()\n",
    "                rec['__row'] = idx\n",
    "                records.append(rec)\n",
    "            else:\n",
    "                # any other iterable → stringify\n",
    "                key = col[:-1] if col.endswith('s') else f\"{col}_value\"\n",
    "                records.append({'__row': idx, key: str(item)})\n",
    "\n",
    "    return pd.json_normalize(records, sep='_')"
   ]
  },
  {
   "cell_type": "markdown",
   "id": "d3dcec27-a326-4259-baa8-86aee1b3197a",
   "metadata": {},
   "source": [
    "#### 12. Variable 'attributes'"
   ]
  },
  {
   "cell_type": "code",
   "execution_count": 86,
   "id": "1686c579-4ee9-4545-8629-479c64500593",
   "metadata": {
    "execution": {
     "iopub.execute_input": "2025-07-08T23:17:33.855791Z",
     "iopub.status.busy": "2025-07-08T23:17:33.855531Z",
     "iopub.status.idle": "2025-07-08T23:17:34.068914Z",
     "shell.execute_reply": "2025-07-08T23:17:34.068419Z",
     "shell.execute_reply.started": "2025-07-08T23:17:33.855773Z"
    }
   },
   "outputs": [
    {
     "name": "stdout",
     "output_type": "stream",
     "text": [
      "\n",
      "— attributes —\n",
      "dtype: object | n_missing: 78850 | unique: 3117\n"
     ]
    },
    {
     "data": {
      "text/html": [
       "<div>\n",
       "<style scoped>\n",
       "    .dataframe tbody tr th:only-of-type {\n",
       "        vertical-align: middle;\n",
       "    }\n",
       "\n",
       "    .dataframe tbody tr th {\n",
       "        vertical-align: top;\n",
       "    }\n",
       "\n",
       "    .dataframe thead th {\n",
       "        text-align: right;\n",
       "    }\n",
       "</style>\n",
       "<table border=\"1\" class=\"dataframe\">\n",
       "  <thead>\n",
       "    <tr style=\"text-align: right;\">\n",
       "      <th></th>\n",
       "      <th>freq</th>\n",
       "    </tr>\n",
       "    <tr>\n",
       "      <th>attributes</th>\n",
       "      <th></th>\n",
       "    </tr>\n",
       "  </thead>\n",
       "  <tbody>\n",
       "    <tr>\n",
       "      <th>[{'value_id': 'female', 'attribute_group_id': 'DFLT', 'name': 'Género', 'value_name': 'Mujer', 'attribute_group_name': 'Otros', 'id': 'GENDER'}, {'value_id': 'Season-All-Season', 'attribute_group_id': 'FIND', 'name': 'Season', 'value_name': 'All-Season', 'attribute_group_name': 'Ficha técnica', 'id': 'Season'}]</th>\n",
       "      <td>1039</td>\n",
       "    </tr>\n",
       "    <tr>\n",
       "      <th>[{'value_id': 'female', 'attribute_group_id': 'DFLT', 'name': 'Género', 'value_name': 'Mujer', 'attribute_group_name': 'Otros', 'id': 'GENDER'}, {'value_id': 'Season-All-Season', 'attribute_group_id': 'DFLT', 'name': 'Season', 'value_name': 'All-Season', 'attribute_group_name': 'Otros', 'id': 'Season'}]</th>\n",
       "      <td>997</td>\n",
       "    </tr>\n",
       "    <tr>\n",
       "      <th>[{'value_id': 'male', 'attribute_group_id': 'DFLT', 'name': 'Género', 'value_name': 'Hombre', 'attribute_group_name': 'Otros', 'id': 'GENDER'}, {'value_id': 'Season-All-Season', 'attribute_group_id': 'FIND', 'name': 'Season', 'value_name': 'All-Season', 'attribute_group_name': 'Ficha técnica', 'id': 'Season'}]</th>\n",
       "      <td>921</td>\n",
       "    </tr>\n",
       "  </tbody>\n",
       "</table>\n",
       "</div>"
      ],
      "text/plain": [
       "                                                    freq\n",
       "attributes                                              \n",
       "[{'value_id': 'female', 'attribute_group_id': '...  1039\n",
       "[{'value_id': 'female', 'attribute_group_id': '...   997\n",
       "[{'value_id': 'male', 'attribute_group_id': 'DF...   921"
      ]
     },
     "metadata": {},
     "output_type": "display_data"
    }
   ],
   "source": [
    "inspect_column(df_train, 'attributes', top_n=3)"
   ]
  },
  {
   "cell_type": "code",
   "execution_count": 87,
   "id": "2588bd2d-6245-4776-a2ba-7d73c1ce35c6",
   "metadata": {
    "execution": {
     "iopub.execute_input": "2025-07-08T23:17:34.069758Z",
     "iopub.status.busy": "2025-07-08T23:17:34.069519Z",
     "iopub.status.idle": "2025-07-08T23:17:34.801500Z",
     "shell.execute_reply": "2025-07-08T23:17:34.800907Z",
     "shell.execute_reply.started": "2025-07-08T23:17:34.069740Z"
    }
   },
   "outputs": [],
   "source": [
    "flat_attr = flatten_column(df_train, 'attributes')"
   ]
  },
  {
   "cell_type": "code",
   "execution_count": 88,
   "id": "4c0e699f-181c-48d4-b90f-ab86ec7d4f30",
   "metadata": {
    "execution": {
     "iopub.execute_input": "2025-07-08T23:17:34.802430Z",
     "iopub.status.busy": "2025-07-08T23:17:34.802163Z",
     "iopub.status.idle": "2025-07-08T23:17:34.875136Z",
     "shell.execute_reply": "2025-07-08T23:17:34.874606Z",
     "shell.execute_reply.started": "2025-07-08T23:17:34.802411Z"
    }
   },
   "outputs": [
    {
     "data": {
      "text/plain": [
       "__row                        0\n",
       "attribute               184765\n",
       "value_id                 78850\n",
       "attribute_group_id       78850\n",
       "name                     78850\n",
       "value_name               78850\n",
       "attribute_group_name     78850\n",
       "id                       78850\n",
       "dtype: int64"
      ]
     },
     "execution_count": 88,
     "metadata": {},
     "output_type": "execute_result"
    }
   ],
   "source": [
    "flat_attr.isna().sum()"
   ]
  },
  {
   "cell_type": "code",
   "execution_count": 89,
   "id": "c3b5ea25-9eb1-42fc-874f-860a6494cd45",
   "metadata": {
    "execution": {
     "iopub.execute_input": "2025-07-08T23:17:34.875965Z",
     "iopub.status.busy": "2025-07-08T23:17:34.875725Z",
     "iopub.status.idle": "2025-07-08T23:17:34.914037Z",
     "shell.execute_reply": "2025-07-08T23:17:34.913489Z",
     "shell.execute_reply.started": "2025-07-08T23:17:34.875947Z"
    }
   },
   "outputs": [
    {
     "data": {
      "text/html": [
       "<div>\n",
       "<style scoped>\n",
       "    .dataframe tbody tr th:only-of-type {\n",
       "        vertical-align: middle;\n",
       "    }\n",
       "\n",
       "    .dataframe tbody tr th {\n",
       "        vertical-align: top;\n",
       "    }\n",
       "\n",
       "    .dataframe thead th {\n",
       "        text-align: right;\n",
       "    }\n",
       "</style>\n",
       "<table border=\"1\" class=\"dataframe\">\n",
       "  <thead>\n",
       "    <tr style=\"text-align: right;\">\n",
       "      <th></th>\n",
       "      <th>__row</th>\n",
       "      <th>attribute</th>\n",
       "      <th>value_id</th>\n",
       "      <th>attribute_group_id</th>\n",
       "      <th>name</th>\n",
       "      <th>value_name</th>\n",
       "      <th>attribute_group_name</th>\n",
       "      <th>id</th>\n",
       "    </tr>\n",
       "  </thead>\n",
       "  <tbody>\n",
       "    <tr>\n",
       "      <th>8</th>\n",
       "      <td>8</td>\n",
       "      <td>NaN</td>\n",
       "      <td></td>\n",
       "      <td>DFLT</td>\n",
       "      <td>Número de pieza</td>\n",
       "      <td>37123</td>\n",
       "      <td>Otros</td>\n",
       "      <td>PART_NUMBER</td>\n",
       "    </tr>\n",
       "    <tr>\n",
       "      <th>9</th>\n",
       "      <td>9</td>\n",
       "      <td>NaN</td>\n",
       "      <td>female</td>\n",
       "      <td>DFLT</td>\n",
       "      <td>Género</td>\n",
       "      <td>Mujer</td>\n",
       "      <td>Otros</td>\n",
       "      <td>GENDER</td>\n",
       "    </tr>\n",
       "    <tr>\n",
       "      <th>10</th>\n",
       "      <td>9</td>\n",
       "      <td>NaN</td>\n",
       "      <td>Season-Spring-Summer</td>\n",
       "      <td>FIND</td>\n",
       "      <td>Season</td>\n",
       "      <td>Spring-Summer</td>\n",
       "      <td>Ficha técnica</td>\n",
       "      <td>Season</td>\n",
       "    </tr>\n",
       "    <tr>\n",
       "      <th>13</th>\n",
       "      <td>12</td>\n",
       "      <td>NaN</td>\n",
       "      <td></td>\n",
       "      <td>DFLT</td>\n",
       "      <td>Número pieza</td>\n",
       "      <td>2</td>\n",
       "      <td>Otros</td>\n",
       "      <td>MLA-PART_NUMBER</td>\n",
       "    </tr>\n",
       "    <tr>\n",
       "      <th>14</th>\n",
       "      <td>13</td>\n",
       "      <td>NaN</td>\n",
       "      <td>female</td>\n",
       "      <td>DFLT</td>\n",
       "      <td>Género</td>\n",
       "      <td>Mujer</td>\n",
       "      <td>Otros</td>\n",
       "      <td>GENDER</td>\n",
       "    </tr>\n",
       "  </tbody>\n",
       "</table>\n",
       "</div>"
      ],
      "text/plain": [
       "    __row attribute              value_id attribute_group_id             name  \\\n",
       "8       8       NaN                                     DFLT  Número de pieza   \n",
       "9       9       NaN                female               DFLT           Género   \n",
       "10      9       NaN  Season-Spring-Summer               FIND           Season   \n",
       "13     12       NaN                                     DFLT     Número pieza   \n",
       "14     13       NaN                female               DFLT           Género   \n",
       "\n",
       "       value_name attribute_group_name               id  \n",
       "8           37123                Otros      PART_NUMBER  \n",
       "9           Mujer                Otros           GENDER  \n",
       "10  Spring-Summer        Ficha técnica           Season  \n",
       "13              2                Otros  MLA-PART_NUMBER  \n",
       "14          Mujer                Otros           GENDER  "
      ]
     },
     "execution_count": 89,
     "metadata": {},
     "output_type": "execute_result"
    }
   ],
   "source": [
    "flat_attr[flat_attr[\"name\"].notna()].head()"
   ]
  },
  {
   "cell_type": "markdown",
   "id": "9d48d000-4bc4-46ea-a005-964e40b7fb48",
   "metadata": {},
   "source": [
    "**Lectura**  \n",
    "* Presente sólo en **≈ 13 %** de los ítems (≈ 78 k nulos).  \n",
    "* Cuando existe, contiene una **lista JSON** con pares `{\"name\": …, \"value_name\": …}`.  \n",
    "* El *flatten* arroja **> 3 100** combinaciones de nombre — muy disperso: el atributo más frecuente (“Género”) aparece en apenas ~1 % de las filas.  \n",
    "* Extraer y hacer one-hot en cada campo crearía miles de columnas super esparsas.\n",
    "\n",
    "**Decisión**  \n",
    "* Generar dos features compactas:  \n",
    "  * **`n_attributes`** → recuento de elementos de la lista.\n",
    "  * **`has_attributes`** → flag binario (`n_attributes > 0`).\n",
    "* Descartar el JSON original (`attributes`) en este primer ciclo.\n",
    "* Dejar para una fase 2 donde se parseen atributos clave (p.ej. *brand*, *color*) si el *boost* de performance lo justifica."
   ]
  },
  {
   "cell_type": "code",
   "execution_count": 90,
   "id": "19eec1c6-dd12-4174-b52d-a929914d1094",
   "metadata": {
    "execution": {
     "iopub.execute_input": "2025-07-08T23:17:34.916785Z",
     "iopub.status.busy": "2025-07-08T23:17:34.916471Z",
     "iopub.status.idle": "2025-07-08T23:17:34.959898Z",
     "shell.execute_reply": "2025-07-08T23:17:34.959390Z",
     "shell.execute_reply.started": "2025-07-08T23:17:34.916768Z"
    }
   },
   "outputs": [],
   "source": [
    "# ------- engineering -------\n",
    "for df in (df_train, df_test):\n",
    "    df['n_attributes']  = df['attributes'].apply(lambda x: len(x) if isinstance(x, list) else 0).astype('int16')\n",
    "    df['has_attributes'] = (df['n_attributes'] > 0).astype('int8')"
   ]
  },
  {
   "cell_type": "code",
   "execution_count": 91,
   "id": "090d1b61-5b31-4d31-8958-ebd93a30ec6d",
   "metadata": {
    "execution": {
     "iopub.execute_input": "2025-07-08T23:17:34.960733Z",
     "iopub.status.busy": "2025-07-08T23:17:34.960494Z",
     "iopub.status.idle": "2025-07-08T23:17:35.039431Z",
     "shell.execute_reply": "2025-07-08T23:17:35.038843Z",
     "shell.execute_reply.started": "2025-07-08T23:17:34.960715Z"
    }
   },
   "outputs": [],
   "source": [
    "# opcional: eliminar la lista para no pasarla al pipeline\n",
    "df_train.drop(columns='attributes', inplace=True)\n",
    "df_test.drop(columns='attributes',  inplace=True)"
   ]
  },
  {
   "cell_type": "markdown",
   "id": "94db32b8-c0f5-41a9-9a0a-b992fb6c32b5",
   "metadata": {},
   "source": [
    "#### 13. Variable 'descriptions'"
   ]
  },
  {
   "cell_type": "code",
   "execution_count": 92,
   "id": "87ab02c9-8410-4910-b79e-882c6d99029f",
   "metadata": {
    "execution": {
     "iopub.execute_input": "2025-07-08T23:17:35.042293Z",
     "iopub.status.busy": "2025-07-08T23:17:35.041953Z",
     "iopub.status.idle": "2025-07-08T23:17:35.178341Z",
     "shell.execute_reply": "2025-07-08T23:17:35.177820Z",
     "shell.execute_reply.started": "2025-07-08T23:17:35.042275Z"
    }
   },
   "outputs": [
    {
     "name": "stdout",
     "output_type": "stream",
     "text": [
      "\n",
      "— descriptions —\n",
      "dtype: object | n_missing: 2417 | unique: 87583\n"
     ]
    },
    {
     "data": {
      "text/html": [
       "<div>\n",
       "<style scoped>\n",
       "    .dataframe tbody tr th:only-of-type {\n",
       "        vertical-align: middle;\n",
       "    }\n",
       "\n",
       "    .dataframe tbody tr th {\n",
       "        vertical-align: top;\n",
       "    }\n",
       "\n",
       "    .dataframe thead th {\n",
       "        text-align: right;\n",
       "    }\n",
       "</style>\n",
       "<table border=\"1\" class=\"dataframe\">\n",
       "  <thead>\n",
       "    <tr style=\"text-align: right;\">\n",
       "      <th></th>\n",
       "      <th>freq</th>\n",
       "    </tr>\n",
       "    <tr>\n",
       "      <th>descriptions</th>\n",
       "      <th></th>\n",
       "    </tr>\n",
       "  </thead>\n",
       "  <tbody>\n",
       "    <tr>\n",
       "      <th>[\"{'id': 'MLA8241142190-943040617'}\"]</th>\n",
       "      <td>1</td>\n",
       "    </tr>\n",
       "    <tr>\n",
       "      <th>[\"{'id': 'MLA4695330653-912855983'}\"]</th>\n",
       "      <td>1</td>\n",
       "    </tr>\n",
       "    <tr>\n",
       "      <th>[\"{'id': 'MLA7160447179-930764806'}\"]</th>\n",
       "      <td>1</td>\n",
       "    </tr>\n",
       "  </tbody>\n",
       "</table>\n",
       "</div>"
      ],
      "text/plain": [
       "                                       freq\n",
       "descriptions                               \n",
       "[\"{'id': 'MLA8241142190-943040617'}\"]     1\n",
       "[\"{'id': 'MLA4695330653-912855983'}\"]     1\n",
       "[\"{'id': 'MLA7160447179-930764806'}\"]     1"
      ]
     },
     "metadata": {},
     "output_type": "display_data"
    }
   ],
   "source": [
    "inspect_column(df_train, 'descriptions', top_n=3)"
   ]
  },
  {
   "cell_type": "markdown",
   "id": "e6718171-92d4-4585-a826-974005ab45a2",
   "metadata": {
    "jp-MarkdownHeadingCollapsed": true
   },
   "source": [
    "**Lectura**\n",
    "* Cada registro guarda una **lista JSON** con uno o más IDs de bloque de descripción (*p.ej.* `{\"id\":\"MLA8241142190-943040617\"}`); no contiene el texto en sí.\n",
    "* Hay **87 583 valores distintos** (prácticamente uno por ítem) → cardinalidad extrema y nulo poder de agrupación.\n",
    "* Sólo **2.7 %** de filas carecen de lista (`NaN`).\n",
    "\n",
    "**Decisión**\n",
    "* Extraer una única informacion compacta:\n",
    "  * **`has_description`** – flag binario (`1` si la lista existe y no está vacía, `0` en caso contrario).\n",
    "* Descartar el campo JSON original (`descriptions`) para evitar leakage."
   ]
  },
  {
   "cell_type": "code",
   "execution_count": 93,
   "id": "6313826f-3613-4544-8e8f-38634dfeb245",
   "metadata": {
    "execution": {
     "iopub.execute_input": "2025-07-08T23:17:35.180938Z",
     "iopub.status.busy": "2025-07-08T23:17:35.180707Z",
     "iopub.status.idle": "2025-07-08T23:17:35.234487Z",
     "shell.execute_reply": "2025-07-08T23:17:35.233986Z",
     "shell.execute_reply.started": "2025-07-08T23:17:35.180920Z"
    }
   },
   "outputs": [],
   "source": [
    "# ------- engineering -------\n",
    "for df in (df_train, df_test):\n",
    "    df['has_description'] = df['descriptions'].apply(lambda x: int(bool(isinstance(x, list) and len(x)))).astype('int8')"
   ]
  },
  {
   "cell_type": "code",
   "execution_count": 94,
   "id": "d8db5ca2-33fb-4793-8dd0-e03034c16823",
   "metadata": {
    "execution": {
     "iopub.execute_input": "2025-07-08T23:17:35.235193Z",
     "iopub.status.busy": "2025-07-08T23:17:35.235021Z",
     "iopub.status.idle": "2025-07-08T23:17:35.307955Z",
     "shell.execute_reply": "2025-07-08T23:17:35.307405Z",
     "shell.execute_reply.started": "2025-07-08T23:17:35.235178Z"
    }
   },
   "outputs": [],
   "source": [
    "# opcional: eliminar el JSON\n",
    "df_train.drop(columns='descriptions', inplace=True)\n",
    "df_test.drop(columns='descriptions',  inplace=True)"
   ]
  },
  {
   "cell_type": "markdown",
   "id": "1f00cd0d-2613-4847-b2a4-2c60f2007165",
   "metadata": {},
   "source": [
    "#### 14. Variable 'non_mercado_pago_payment_methods'"
   ]
  },
  {
   "cell_type": "code",
   "execution_count": 95,
   "id": "57b46fa4-0609-4541-b557-fa1f3b195ed0",
   "metadata": {
    "execution": {
     "iopub.execute_input": "2025-07-08T23:17:35.310577Z",
     "iopub.status.busy": "2025-07-08T23:17:35.310400Z",
     "iopub.status.idle": "2025-07-08T23:17:35.510178Z",
     "shell.execute_reply": "2025-07-08T23:17:35.509637Z",
     "shell.execute_reply.started": "2025-07-08T23:17:35.310560Z"
    }
   },
   "outputs": [
    {
     "name": "stdout",
     "output_type": "stream",
     "text": [
      "\n",
      "— non_mercado_pago_payment_methods —\n",
      "dtype: object | n_missing: 27531 | unique: 173\n"
     ]
    },
    {
     "data": {
      "text/html": [
       "<div>\n",
       "<style scoped>\n",
       "    .dataframe tbody tr th:only-of-type {\n",
       "        vertical-align: middle;\n",
       "    }\n",
       "\n",
       "    .dataframe tbody tr th {\n",
       "        vertical-align: top;\n",
       "    }\n",
       "\n",
       "    .dataframe thead th {\n",
       "        text-align: right;\n",
       "    }\n",
       "</style>\n",
       "<table border=\"1\" class=\"dataframe\">\n",
       "  <thead>\n",
       "    <tr style=\"text-align: right;\">\n",
       "      <th></th>\n",
       "      <th>freq</th>\n",
       "    </tr>\n",
       "    <tr>\n",
       "      <th>non_mercado_pago_payment_methods</th>\n",
       "      <th></th>\n",
       "    </tr>\n",
       "  </thead>\n",
       "  <tbody>\n",
       "    <tr>\n",
       "      <th>[{'description': 'Transferencia bancaria', 'id': 'MLATB', 'type': 'G'}, {'description': 'Efectivo', 'id': 'MLAMO', 'type': 'G'}]</th>\n",
       "      <td>20303</td>\n",
       "    </tr>\n",
       "    <tr>\n",
       "      <th>[{'description': 'Transferencia bancaria', 'id': 'MLATB', 'type': 'G'}, {'description': 'Tarjeta de crédito', 'id': 'MLAOT', 'type': 'N'}, {'description': 'Efectivo', 'id': 'MLAMO', 'type': 'G'}]</th>\n",
       "      <td>18678</td>\n",
       "    </tr>\n",
       "    <tr>\n",
       "      <th>[{'description': 'Efectivo', 'id': 'MLAMO', 'type': 'G'}]</th>\n",
       "      <td>12915</td>\n",
       "    </tr>\n",
       "  </tbody>\n",
       "</table>\n",
       "</div>"
      ],
      "text/plain": [
       "                                                     freq\n",
       "non_mercado_pago_payment_methods                         \n",
       "[{'description': 'Transferencia bancaria', 'id'...  20303\n",
       "[{'description': 'Transferencia bancaria', 'id'...  18678\n",
       "[{'description': 'Efectivo', 'id': 'MLAMO', 'ty...  12915"
      ]
     },
     "metadata": {},
     "output_type": "display_data"
    }
   ],
   "source": [
    "inspect_column(df_train, 'non_mercado_pago_payment_methods', top_n=3)"
   ]
  },
  {
   "cell_type": "code",
   "execution_count": 96,
   "id": "af89385d-41b6-485f-993b-94f2ba6bd79d",
   "metadata": {
    "execution": {
     "iopub.execute_input": "2025-07-08T23:17:35.511050Z",
     "iopub.status.busy": "2025-07-08T23:17:35.510805Z",
     "iopub.status.idle": "2025-07-08T23:17:36.221772Z",
     "shell.execute_reply": "2025-07-08T23:17:36.221163Z",
     "shell.execute_reply.started": "2025-07-08T23:17:35.511032Z"
    }
   },
   "outputs": [],
   "source": [
    "flat_nmppm = flatten_column(df_train, 'non_mercado_pago_payment_methods')"
   ]
  },
  {
   "cell_type": "code",
   "execution_count": 97,
   "id": "5f60cc1f-c6de-47e9-8012-c0414870dfa1",
   "metadata": {
    "execution": {
     "iopub.execute_input": "2025-07-08T23:17:36.222833Z",
     "iopub.status.busy": "2025-07-08T23:17:36.222562Z",
     "iopub.status.idle": "2025-07-08T23:17:36.229813Z",
     "shell.execute_reply": "2025-07-08T23:17:36.229321Z",
     "shell.execute_reply.started": "2025-07-08T23:17:36.222815Z"
    }
   },
   "outputs": [
    {
     "data": {
      "text/html": [
       "<div>\n",
       "<style scoped>\n",
       "    .dataframe tbody tr th:only-of-type {\n",
       "        vertical-align: middle;\n",
       "    }\n",
       "\n",
       "    .dataframe tbody tr th {\n",
       "        vertical-align: top;\n",
       "    }\n",
       "\n",
       "    .dataframe thead th {\n",
       "        text-align: right;\n",
       "    }\n",
       "</style>\n",
       "<table border=\"1\" class=\"dataframe\">\n",
       "  <thead>\n",
       "    <tr style=\"text-align: right;\">\n",
       "      <th></th>\n",
       "      <th>description</th>\n",
       "      <th>id</th>\n",
       "      <th>type</th>\n",
       "      <th>__row</th>\n",
       "      <th>non_mercado_pago_payment_method</th>\n",
       "    </tr>\n",
       "  </thead>\n",
       "  <tbody>\n",
       "    <tr>\n",
       "      <th>0</th>\n",
       "      <td>Transferencia bancaria</td>\n",
       "      <td>MLATB</td>\n",
       "      <td>G</td>\n",
       "      <td>0</td>\n",
       "      <td>NaN</td>\n",
       "    </tr>\n",
       "    <tr>\n",
       "      <th>1</th>\n",
       "      <td>Acordar con el comprador</td>\n",
       "      <td>MLAWC</td>\n",
       "      <td>G</td>\n",
       "      <td>0</td>\n",
       "      <td>NaN</td>\n",
       "    </tr>\n",
       "    <tr>\n",
       "      <th>2</th>\n",
       "      <td>Efectivo</td>\n",
       "      <td>MLAMO</td>\n",
       "      <td>G</td>\n",
       "      <td>0</td>\n",
       "      <td>NaN</td>\n",
       "    </tr>\n",
       "    <tr>\n",
       "      <th>3</th>\n",
       "      <td>Transferencia bancaria</td>\n",
       "      <td>MLATB</td>\n",
       "      <td>G</td>\n",
       "      <td>1</td>\n",
       "      <td>NaN</td>\n",
       "    </tr>\n",
       "    <tr>\n",
       "      <th>4</th>\n",
       "      <td>Efectivo</td>\n",
       "      <td>MLAMO</td>\n",
       "      <td>G</td>\n",
       "      <td>1</td>\n",
       "      <td>NaN</td>\n",
       "    </tr>\n",
       "  </tbody>\n",
       "</table>\n",
       "</div>"
      ],
      "text/plain": [
       "                description     id type  __row non_mercado_pago_payment_method\n",
       "0    Transferencia bancaria  MLATB    G      0                             NaN\n",
       "1  Acordar con el comprador  MLAWC    G      0                             NaN\n",
       "2                  Efectivo  MLAMO    G      0                             NaN\n",
       "3    Transferencia bancaria  MLATB    G      1                             NaN\n",
       "4                  Efectivo  MLAMO    G      1                             NaN"
      ]
     },
     "execution_count": 97,
     "metadata": {},
     "output_type": "execute_result"
    }
   ],
   "source": [
    "flat_nmppm.head()"
   ]
  },
  {
   "cell_type": "code",
   "execution_count": 98,
   "id": "a39a96b7-8d44-47bb-ac50-bc4bcae66f8b",
   "metadata": {
    "execution": {
     "iopub.execute_input": "2025-07-08T23:17:36.230722Z",
     "iopub.status.busy": "2025-07-08T23:17:36.230387Z",
     "iopub.status.idle": "2025-07-08T23:17:36.271335Z",
     "shell.execute_reply": "2025-07-08T23:17:36.270781Z",
     "shell.execute_reply.started": "2025-07-08T23:17:36.230704Z"
    }
   },
   "outputs": [
    {
     "data": {
      "text/plain": [
       "description                         27531\n",
       "id                                  27531\n",
       "type                                27531\n",
       "__row                                   0\n",
       "non_mercado_pago_payment_method    169866\n",
       "dtype: int64"
      ]
     },
     "execution_count": 98,
     "metadata": {},
     "output_type": "execute_result"
    }
   ],
   "source": [
    "flat_nmppm.isna().sum()"
   ]
  },
  {
   "cell_type": "code",
   "execution_count": 99,
   "id": "c8be75a1-68ed-409f-8682-5a60dc756de4",
   "metadata": {
    "execution": {
     "iopub.execute_input": "2025-07-08T23:17:36.272284Z",
     "iopub.status.busy": "2025-07-08T23:17:36.271925Z",
     "iopub.status.idle": "2025-07-08T23:17:36.299525Z",
     "shell.execute_reply": "2025-07-08T23:17:36.299041Z",
     "shell.execute_reply.started": "2025-07-08T23:17:36.272267Z"
    }
   },
   "outputs": [
    {
     "data": {
      "text/plain": [
       "array(['Transferencia bancaria', 'Acordar con el comprador', 'Efectivo',\n",
       "       'Tarjeta de crédito', nan, 'MasterCard', 'Mastercard Maestro',\n",
       "       'Visa Electron', 'Contra reembolso', 'Visa', 'Diners',\n",
       "       'American Express', 'Giro postal', 'MercadoPago',\n",
       "       'Cheque certificado'], dtype=object)"
      ]
     },
     "execution_count": 99,
     "metadata": {},
     "output_type": "execute_result"
    }
   ],
   "source": [
    "flat_nmppm.description.unique()"
   ]
  },
  {
   "cell_type": "code",
   "execution_count": 100,
   "id": "41edc77f-83bd-4bf6-9835-65f6a56fdb4e",
   "metadata": {
    "execution": {
     "iopub.execute_input": "2025-07-08T23:17:36.300225Z",
     "iopub.status.busy": "2025-07-08T23:17:36.300056Z",
     "iopub.status.idle": "2025-07-08T23:17:36.320135Z",
     "shell.execute_reply": "2025-07-08T23:17:36.319650Z",
     "shell.execute_reply.started": "2025-07-08T23:17:36.300210Z"
    }
   },
   "outputs": [
    {
     "data": {
      "text/plain": [
       "array(['MLATB', 'MLAWC', 'MLAMO', 'MLAOT', nan, 'MLAMC', 'MLAMS', 'MLAVE',\n",
       "       'MLACD', 'MLAVS', 'MLADC', 'MLAAM', 'MLAWT', 'MLAMP', 'MLABC'],\n",
       "      dtype=object)"
      ]
     },
     "execution_count": 100,
     "metadata": {},
     "output_type": "execute_result"
    }
   ],
   "source": [
    "flat_nmppm.id.unique()"
   ]
  },
  {
   "cell_type": "code",
   "execution_count": 101,
   "id": "0051b2d0-6ade-44e7-bb44-f55b4545da7a",
   "metadata": {
    "execution": {
     "iopub.execute_input": "2025-07-08T23:17:36.320848Z",
     "iopub.status.busy": "2025-07-08T23:17:36.320674Z",
     "iopub.status.idle": "2025-07-08T23:17:36.769507Z",
     "shell.execute_reply": "2025-07-08T23:17:36.768907Z",
     "shell.execute_reply.started": "2025-07-08T23:17:36.320832Z"
    }
   },
   "outputs": [],
   "source": [
    "# ---------------- helpers ----------------\n",
    "CARD_PAT = re.compile(r'visa|master|american|diners|tarjeta', re.I)\n",
    "PICKUP_PAT = re.compile(r'(acordar|reembolso)', re.I)\n",
    "\n",
    "def summarize_pay_methods(methods):\n",
    "    \"\"\"Devuelve (#métodos, has_card, has_pickup).\"\"\"\n",
    "    if not isinstance(methods, list) or len(methods) == 0:\n",
    "        return 0, 0, 0\n",
    "\n",
    "    descs = [m.get('description', '') for m in methods]\n",
    "    n_methods   = len(descs)\n",
    "    has_card    = int(any(CARD_PAT.search(d)   for d in descs))\n",
    "    has_pickup  = int(any(PICKUP_PAT.search(d) for d in descs))\n",
    "    return n_methods, has_card, has_pickup\n",
    "\n",
    "# ---------------- aplicar ----------------\n",
    "for df in (df_train, df_test):\n",
    "    triples = df['non_mercado_pago_payment_methods'].apply(summarize_pay_methods)\n",
    "    df['n_extra_pay_methods'] = triples.map(lambda t: t[0]).astype('int8')\n",
    "    df['accepts_card']        = triples.map(lambda t: t[1]).astype('int8')\n",
    "    df['pay_on_pickup']       = triples.map(lambda t: t[2]).astype('int8')"
   ]
  },
  {
   "cell_type": "code",
   "execution_count": 102,
   "id": "13075590-97cc-4a02-aee0-b1e5ddc0edd7",
   "metadata": {
    "execution": {
     "iopub.execute_input": "2025-07-08T23:17:36.770355Z",
     "iopub.status.busy": "2025-07-08T23:17:36.770152Z",
     "iopub.status.idle": "2025-07-08T23:17:36.793472Z",
     "shell.execute_reply": "2025-07-08T23:17:36.792978Z",
     "shell.execute_reply.started": "2025-07-08T23:17:36.770339Z"
    }
   },
   "outputs": [
    {
     "data": {
      "text/html": [
       "<div>\n",
       "<style scoped>\n",
       "    .dataframe tbody tr th:only-of-type {\n",
       "        vertical-align: middle;\n",
       "    }\n",
       "\n",
       "    .dataframe tbody tr th {\n",
       "        vertical-align: top;\n",
       "    }\n",
       "\n",
       "    .dataframe thead th {\n",
       "        text-align: right;\n",
       "    }\n",
       "</style>\n",
       "<table border=\"1\" class=\"dataframe\">\n",
       "  <thead>\n",
       "    <tr style=\"text-align: right;\">\n",
       "      <th></th>\n",
       "      <th></th>\n",
       "      <th></th>\n",
       "      <th>condition</th>\n",
       "    </tr>\n",
       "    <tr>\n",
       "      <th>n_extra_pay_methods</th>\n",
       "      <th>accepts_card</th>\n",
       "      <th>pay_on_pickup</th>\n",
       "      <th></th>\n",
       "    </tr>\n",
       "  </thead>\n",
       "  <tbody>\n",
       "    <tr>\n",
       "      <th>0</th>\n",
       "      <th>0</th>\n",
       "      <th>0</th>\n",
       "      <td>27531</td>\n",
       "    </tr>\n",
       "    <tr>\n",
       "      <th rowspan=\"3\" valign=\"top\">1</th>\n",
       "      <th rowspan=\"2\" valign=\"top\">0</th>\n",
       "      <th>0</th>\n",
       "      <td>13484</td>\n",
       "    </tr>\n",
       "    <tr>\n",
       "      <th>1</th>\n",
       "      <td>939</td>\n",
       "    </tr>\n",
       "    <tr>\n",
       "      <th>1</th>\n",
       "      <th>0</th>\n",
       "      <td>171</td>\n",
       "    </tr>\n",
       "    <tr>\n",
       "      <th rowspan=\"4\" valign=\"top\">2</th>\n",
       "      <th rowspan=\"2\" valign=\"top\">0</th>\n",
       "      <th>0</th>\n",
       "      <td>20324</td>\n",
       "    </tr>\n",
       "    <tr>\n",
       "      <th>1</th>\n",
       "      <td>858</td>\n",
       "    </tr>\n",
       "    <tr>\n",
       "      <th rowspan=\"2\" valign=\"top\">1</th>\n",
       "      <th>0</th>\n",
       "      <td>1504</td>\n",
       "    </tr>\n",
       "    <tr>\n",
       "      <th>1</th>\n",
       "      <td>2</td>\n",
       "    </tr>\n",
       "    <tr>\n",
       "      <th rowspan=\"4\" valign=\"top\">3</th>\n",
       "      <th rowspan=\"2\" valign=\"top\">0</th>\n",
       "      <th>0</th>\n",
       "      <td>836</td>\n",
       "    </tr>\n",
       "    <tr>\n",
       "      <th>1</th>\n",
       "      <td>2476</td>\n",
       "    </tr>\n",
       "    <tr>\n",
       "      <th rowspan=\"2\" valign=\"top\">1</th>\n",
       "      <th>0</th>\n",
       "      <td>18682</td>\n",
       "    </tr>\n",
       "    <tr>\n",
       "      <th>1</th>\n",
       "      <td>36</td>\n",
       "    </tr>\n",
       "    <tr>\n",
       "      <th rowspan=\"4\" valign=\"top\">4</th>\n",
       "      <th rowspan=\"2\" valign=\"top\">0</th>\n",
       "      <th>0</th>\n",
       "      <td>8</td>\n",
       "    </tr>\n",
       "    <tr>\n",
       "      <th>1</th>\n",
       "      <td>527</td>\n",
       "    </tr>\n",
       "    <tr>\n",
       "      <th rowspan=\"2\" valign=\"top\">1</th>\n",
       "      <th>0</th>\n",
       "      <td>128</td>\n",
       "    </tr>\n",
       "    <tr>\n",
       "      <th>1</th>\n",
       "      <td>1619</td>\n",
       "    </tr>\n",
       "  </tbody>\n",
       "</table>\n",
       "</div>"
      ],
      "text/plain": [
       "                                                condition\n",
       "n_extra_pay_methods accepts_card pay_on_pickup           \n",
       "0                   0            0                  27531\n",
       "1                   0            0                  13484\n",
       "                                 1                    939\n",
       "                    1            0                    171\n",
       "2                   0            0                  20324\n",
       "                                 1                    858\n",
       "                    1            0                   1504\n",
       "                                 1                      2\n",
       "3                   0            0                    836\n",
       "                                 1                   2476\n",
       "                    1            0                  18682\n",
       "                                 1                     36\n",
       "4                   0            0                      8\n",
       "                                 1                    527\n",
       "                    1            0                    128\n",
       "                                 1                   1619"
      ]
     },
     "execution_count": 102,
     "metadata": {},
     "output_type": "execute_result"
    }
   ],
   "source": [
    "df_train.groupby(['n_extra_pay_methods', 'accepts_card', 'pay_on_pickup'])[['condition']].count().head(16)"
   ]
  },
  {
   "cell_type": "markdown",
   "id": "974911c5-daf3-4cf8-8627-a9632a5375d9",
   "metadata": {},
   "source": [
    "**Lectura**\n",
    "* **% nulos** | 30.6 % (`NaN` ⇒ sin métodos extra). **Únicos (listas)** | 173 combinaciones\n",
    "* **Valores típicos** | `['Transferencia bancaria', 'Efectivo']`, `[...] Tarjeta de crédito ...`, etc.\n",
    "* **Contenido** | Lista-JSON con 1 – 4 métodos (*transferencia*, *efectivo*, *cheque*, …).\n",
    "\n",
    "* Cada combinación es **específica de la publicación** → cardinalidad media-alta y difícil de one-hot directamente.  \n",
    "* La señal relevante es **“¿Acepta un medio de pago externo a Mercado Pago?”**.  \n",
    "* El 69 % de los ítems traen lista vacía (`[]`) ⇒ valor informativo del *flag*.\n",
    "\n",
    "**Decisión**\n",
    "* Extraer **flag binario** `has_other_payment` = 1 si la lista contiene al menos un método, 0 si vacía/NaN.\n",
    "* `n_extra_pay_methods` | Nº de métodos distintos listados (0, 1, 2, …) | ↑ variedad → vendedor “pro”; usados suelen tener 0 – 1.\n",
    "* `accepts_card` | 1 si incluye **cualquier** tarjeta (`visa`, `mastercard`, *etc.*) | Tarjeta ≈ vendedor formal (stock nuevo).\n",
    "* `pay_on_pickup` | 1 si aparece `acordar con el comprador` / `contra reembolso` | Modalidad típica de particulares.\n",
    "* Eliminar JSON original `non_mercado_pago_payment_methods`."
   ]
  },
  {
   "cell_type": "code",
   "execution_count": 103,
   "id": "eaecafa2-4959-459a-8ddf-26c4ae0abfc4",
   "metadata": {
    "execution": {
     "iopub.execute_input": "2025-07-08T23:17:36.796078Z",
     "iopub.status.busy": "2025-07-08T23:17:36.795898Z",
     "iopub.status.idle": "2025-07-08T23:17:36.864907Z",
     "shell.execute_reply": "2025-07-08T23:17:36.864354Z",
     "shell.execute_reply.started": "2025-07-08T23:17:36.796061Z"
    }
   },
   "outputs": [],
   "source": [
    "# drop original column\n",
    "df_train.drop(columns='non_mercado_pago_payment_methods', inplace=True)\n",
    "df_test.drop(columns='non_mercado_pago_payment_methods',  inplace=True)"
   ]
  },
  {
   "cell_type": "markdown",
   "id": "c4f1cdc3-323e-4cc4-8e6c-327dd5595934",
   "metadata": {},
   "source": [
    "#### 15. Variable 'pictures'"
   ]
  },
  {
   "cell_type": "code",
   "execution_count": 104,
   "id": "40e775f8-9686-4586-b0d8-4a93c18d5926",
   "metadata": {
    "execution": {
     "iopub.execute_input": "2025-07-08T23:17:36.867672Z",
     "iopub.status.busy": "2025-07-08T23:17:36.867492Z",
     "iopub.status.idle": "2025-07-08T23:17:37.495926Z",
     "shell.execute_reply": "2025-07-08T23:17:37.495398Z",
     "shell.execute_reply.started": "2025-07-08T23:17:36.867655Z"
    }
   },
   "outputs": [
    {
     "name": "stdout",
     "output_type": "stream",
     "text": [
      "\n",
      "— pictures —\n",
      "dtype: object | n_missing: 703 | unique: 89293\n"
     ]
    },
    {
     "data": {
      "text/html": [
       "<div>\n",
       "<style scoped>\n",
       "    .dataframe tbody tr th:only-of-type {\n",
       "        vertical-align: middle;\n",
       "    }\n",
       "\n",
       "    .dataframe tbody tr th {\n",
       "        vertical-align: top;\n",
       "    }\n",
       "\n",
       "    .dataframe thead th {\n",
       "        text-align: right;\n",
       "    }\n",
       "</style>\n",
       "<table border=\"1\" class=\"dataframe\">\n",
       "  <thead>\n",
       "    <tr style=\"text-align: right;\">\n",
       "      <th></th>\n",
       "      <th>freq</th>\n",
       "    </tr>\n",
       "    <tr>\n",
       "      <th>pictures</th>\n",
       "      <th></th>\n",
       "    </tr>\n",
       "  </thead>\n",
       "  <tbody>\n",
       "    <tr>\n",
       "      <th>[{'size': '250x250', 'secure_url': 'https://a248.e.akamai.net/mla-s1-p.mlstatic.com/6279-MLApp_27_21489919_1-O.jpg', 'max_size': '250x250', 'url': 'http://mla-s1-p.mlstatic.com/6279-MLApp_27_21489919_1-O.jpg', 'quality': '', 'id': '6279-MLApp_27_21489919_1'}]</th>\n",
       "      <td>4</td>\n",
       "    </tr>\n",
       "    <tr>\n",
       "      <th>[{'size': '250x250', 'secure_url': 'https://a248.e.akamai.net/mla-s1-p.mlstatic.com/6270-MLApp_27_19602074_1-O.jpg', 'max_size': '250x250', 'url': 'http://mla-s1-p.mlstatic.com/6270-MLApp_27_19602074_1-O.jpg', 'quality': '', 'id': '6270-MLApp_27_19602074_1'}]</th>\n",
       "      <td>2</td>\n",
       "    </tr>\n",
       "    <tr>\n",
       "      <th>[{'size': '500x375', 'secure_url': 'https://a248.e.akamai.net/mla-s2-p.mlstatic.com/9874-MLA1395917367_122013-O.jpg', 'max_size': '1024x768', 'url': 'http://mla-s2-p.mlstatic.com/9874-MLA1395917367_122013-O.jpg', 'quality': '', 'id': '9874-MLA1395917367_122013'}, {'size': '500x375', 'secure_url': 'https://a248.e.akamai.net/mla-s1-p.mlstatic.com/9824-MLA1395917367_122013-O.jpg', 'max_size': '1024x768', 'url': 'http://mla-s1-p.mlstatic.com/9824-MLA1395917367_122013-O.jpg', 'quality': '', 'id': '9824-MLA1395917367_122013'}, {'size': '500x375', 'secure_url': 'https://a248.e.akamai.net/mla-s1-p.mlstatic.com/9817-MLA1395917367_122013-O.jpg', 'max_size': '1024x768', 'url': 'http://mla-s1-p.mlstatic.com/9817-MLA1395917367_122013-O.jpg', 'quality': '', 'id': '9817-MLA1395917367_122013'}, {'size': '500x375', 'secure_url': 'https://a248.e.akamai.net/mla-s2-p.mlstatic.com/9825-MLA1395917367_122013-O.jpg', 'max_size': '1024x768', 'url': 'http://mla-s2-p.mlstatic.com/9825-MLA1395917367_122013-O.jpg', 'quality': '', 'id': '9825-MLA1395917367_122013'}, {'size': '500x375', 'secure_url': 'https://a248.e.akamai.net/mla-s1-p.mlstatic.com/9809-MLA1395917367_122013-O.jpg', 'max_size': '1024x768', 'url': 'http://mla-s1-p.mlstatic.com/9809-MLA1395917367_122013-O.jpg', 'quality': '', 'id': '9809-MLA1395917367_122013'}]</th>\n",
       "      <td>1</td>\n",
       "    </tr>\n",
       "  </tbody>\n",
       "</table>\n",
       "</div>"
      ],
      "text/plain": [
       "                                                    freq\n",
       "pictures                                                \n",
       "[{'size': '250x250', 'secure_url': 'https://a24...     4\n",
       "[{'size': '250x250', 'secure_url': 'https://a24...     2\n",
       "[{'size': '500x375', 'secure_url': 'https://a24...     1"
      ]
     },
     "metadata": {},
     "output_type": "display_data"
    }
   ],
   "source": [
    "inspect_column(df_train, 'pictures', top_n=3)"
   ]
  },
  {
   "cell_type": "code",
   "execution_count": 105,
   "id": "37972b28-d3f9-407a-a56a-a039332b2cae",
   "metadata": {
    "execution": {
     "iopub.execute_input": "2025-07-08T23:17:37.496992Z",
     "iopub.status.busy": "2025-07-08T23:17:37.496716Z",
     "iopub.status.idle": "2025-07-08T23:17:38.970987Z",
     "shell.execute_reply": "2025-07-08T23:17:38.970478Z",
     "shell.execute_reply.started": "2025-07-08T23:17:37.496974Z"
    }
   },
   "outputs": [],
   "source": [
    "flat_pic = flatten_column(df_train, 'pictures')"
   ]
  },
  {
   "cell_type": "code",
   "execution_count": 106,
   "id": "008610b3-f2bc-48b2-a7ea-b0e2a34d636f",
   "metadata": {
    "execution": {
     "iopub.execute_input": "2025-07-08T23:17:38.971851Z",
     "iopub.status.busy": "2025-07-08T23:17:38.971579Z",
     "iopub.status.idle": "2025-07-08T23:17:39.006242Z",
     "shell.execute_reply": "2025-07-08T23:17:39.005824Z",
     "shell.execute_reply.started": "2025-07-08T23:17:38.971825Z"
    }
   },
   "outputs": [
    {
     "data": {
      "text/plain": [
       "13328"
      ]
     },
     "execution_count": 106,
     "metadata": {},
     "output_type": "execute_result"
    }
   ],
   "source": [
    "flat_pic['size'].nunique()"
   ]
  },
  {
   "cell_type": "code",
   "execution_count": 107,
   "id": "24b4a17f-3d08-4e22-a621-df93b3545f31",
   "metadata": {
    "execution": {
     "iopub.execute_input": "2025-07-08T23:17:39.006972Z",
     "iopub.status.busy": "2025-07-08T23:17:39.006786Z",
     "iopub.status.idle": "2025-07-08T23:17:39.122628Z",
     "shell.execute_reply": "2025-07-08T23:17:39.122125Z",
     "shell.execute_reply.started": "2025-07-08T23:17:39.006950Z"
    }
   },
   "outputs": [
    {
     "data": {
      "text/plain": [
       "size             703\n",
       "secure_url       703\n",
       "max_size         703\n",
       "url              703\n",
       "quality          703\n",
       "id               703\n",
       "__row              0\n",
       "picture       264432\n",
       "dtype: int64"
      ]
     },
     "execution_count": 107,
     "metadata": {},
     "output_type": "execute_result"
    }
   ],
   "source": [
    "flat_pic.isna().sum()"
   ]
  },
  {
   "cell_type": "code",
   "execution_count": 108,
   "id": "d784910f-0984-4d9c-bf51-8034bddd368e",
   "metadata": {
    "execution": {
     "iopub.execute_input": "2025-07-08T23:17:39.123441Z",
     "iopub.status.busy": "2025-07-08T23:17:39.123209Z",
     "iopub.status.idle": "2025-07-08T23:17:39.131638Z",
     "shell.execute_reply": "2025-07-08T23:17:39.131177Z",
     "shell.execute_reply.started": "2025-07-08T23:17:39.123424Z"
    }
   },
   "outputs": [
    {
     "data": {
      "text/html": [
       "<div>\n",
       "<style scoped>\n",
       "    .dataframe tbody tr th:only-of-type {\n",
       "        vertical-align: middle;\n",
       "    }\n",
       "\n",
       "    .dataframe tbody tr th {\n",
       "        vertical-align: top;\n",
       "    }\n",
       "\n",
       "    .dataframe thead th {\n",
       "        text-align: right;\n",
       "    }\n",
       "</style>\n",
       "<table border=\"1\" class=\"dataframe\">\n",
       "  <thead>\n",
       "    <tr style=\"text-align: right;\">\n",
       "      <th></th>\n",
       "      <th>size</th>\n",
       "      <th>secure_url</th>\n",
       "      <th>max_size</th>\n",
       "      <th>url</th>\n",
       "      <th>quality</th>\n",
       "      <th>id</th>\n",
       "      <th>__row</th>\n",
       "      <th>picture</th>\n",
       "    </tr>\n",
       "  </thead>\n",
       "  <tbody>\n",
       "    <tr>\n",
       "      <th>0</th>\n",
       "      <td>500x375</td>\n",
       "      <td>https://a248.e.akamai.net/mla-s1-p.mlstatic.co...</td>\n",
       "      <td>1200x900</td>\n",
       "      <td>http://mla-s1-p.mlstatic.com/5386-MLA469533065...</td>\n",
       "      <td></td>\n",
       "      <td>5386-MLA4695330653_052013</td>\n",
       "      <td>0</td>\n",
       "      <td>NaN</td>\n",
       "    </tr>\n",
       "    <tr>\n",
       "      <th>1</th>\n",
       "      <td>500x375</td>\n",
       "      <td>https://a248.e.akamai.net/mla-s1-p.mlstatic.co...</td>\n",
       "      <td>1200x900</td>\n",
       "      <td>http://mla-s1-p.mlstatic.com/5361-MLA469533065...</td>\n",
       "      <td></td>\n",
       "      <td>5361-MLA4695330653_052013</td>\n",
       "      <td>0</td>\n",
       "      <td>NaN</td>\n",
       "    </tr>\n",
       "    <tr>\n",
       "      <th>2</th>\n",
       "      <td>499x334</td>\n",
       "      <td>https://a248.e.akamai.net/mla-s1-p.mlstatic.co...</td>\n",
       "      <td>951x637</td>\n",
       "      <td>http://mla-s1-p.mlstatic.com/23223-MLA71604471...</td>\n",
       "      <td></td>\n",
       "      <td>23223-MLA7160447179_022015</td>\n",
       "      <td>1</td>\n",
       "      <td>NaN</td>\n",
       "    </tr>\n",
       "    <tr>\n",
       "      <th>3</th>\n",
       "      <td>500x375</td>\n",
       "      <td>https://a248.e.akamai.net/mla-s2-p.mlstatic.co...</td>\n",
       "      <td>1024x768</td>\n",
       "      <td>http://mla-s2-p.mlstatic.com/23273-MLA71604471...</td>\n",
       "      <td></td>\n",
       "      <td>23273-MLA7160447179_022015</td>\n",
       "      <td>1</td>\n",
       "      <td>NaN</td>\n",
       "    </tr>\n",
       "    <tr>\n",
       "      <th>4</th>\n",
       "      <td>500x375</td>\n",
       "      <td>https://a248.e.akamai.net/mla-s1-p.mlstatic.co...</td>\n",
       "      <td>1024x768</td>\n",
       "      <td>http://mla-s1-p.mlstatic.com/23205-MLA71604471...</td>\n",
       "      <td></td>\n",
       "      <td>23205-MLA7160447179_022015</td>\n",
       "      <td>1</td>\n",
       "      <td>NaN</td>\n",
       "    </tr>\n",
       "  </tbody>\n",
       "</table>\n",
       "</div>"
      ],
      "text/plain": [
       "      size                                         secure_url  max_size  \\\n",
       "0  500x375  https://a248.e.akamai.net/mla-s1-p.mlstatic.co...  1200x900   \n",
       "1  500x375  https://a248.e.akamai.net/mla-s1-p.mlstatic.co...  1200x900   \n",
       "2  499x334  https://a248.e.akamai.net/mla-s1-p.mlstatic.co...   951x637   \n",
       "3  500x375  https://a248.e.akamai.net/mla-s2-p.mlstatic.co...  1024x768   \n",
       "4  500x375  https://a248.e.akamai.net/mla-s1-p.mlstatic.co...  1024x768   \n",
       "\n",
       "                                                 url quality  \\\n",
       "0  http://mla-s1-p.mlstatic.com/5386-MLA469533065...           \n",
       "1  http://mla-s1-p.mlstatic.com/5361-MLA469533065...           \n",
       "2  http://mla-s1-p.mlstatic.com/23223-MLA71604471...           \n",
       "3  http://mla-s2-p.mlstatic.com/23273-MLA71604471...           \n",
       "4  http://mla-s1-p.mlstatic.com/23205-MLA71604471...           \n",
       "\n",
       "                           id  __row picture  \n",
       "0   5386-MLA4695330653_052013      0     NaN  \n",
       "1   5361-MLA4695330653_052013      0     NaN  \n",
       "2  23223-MLA7160447179_022015      1     NaN  \n",
       "3  23273-MLA7160447179_022015      1     NaN  \n",
       "4  23205-MLA7160447179_022015      1     NaN  "
      ]
     },
     "execution_count": 108,
     "metadata": {},
     "output_type": "execute_result"
    }
   ],
   "source": [
    "flat_pic.head()"
   ]
  },
  {
   "cell_type": "markdown",
   "id": "b08e475a-9e82-43d8-9e6b-0551990bf9cf",
   "metadata": {},
   "source": [
    "**Lectura**\n",
    "* Registros con **NaN** | **703** (~0,8 %)\n",
    "* Publicaciones con lista vacía `[]` | **89 294** (~99 %)\n",
    "* Ítems con ≥ 1 foto | **706** (~0,8 %)\n",
    "* Distintos tamaños (`size`) detectados tras *flatten* | **13 328**\n",
    "\n",
    "\n",
    "* La columna es una **lista de diccionarios** con metadatos de cada foto.\n",
    "* La gran mayoría de los ítems no declara fotos extra; los que sí lo hacen son muy pocos.\n",
    "* Los campos internos (`size`, `url`, `quality`, `id`, …) tienen altísima cardinalidad, lo que los hace poco manejables como features directos.\n",
    "\n",
    "**Decisión & Feature Engineering**\n",
    "* **Contador de imagenes** | `n_pictures` = número de elementos de la lista. Sirve para discriminar anuncios muy ilustrados (stock nuevo) de los que sólo suben la imagen principal.\n",
    "* **Descartar payload** | Campos internos (`size`, `url`, `quality`, `id`, etc.) se desechan: cardinalidad enorme, riesgo de *leakage* y beneficio dudoso."
   ]
  },
  {
   "cell_type": "code",
   "execution_count": 109,
   "id": "9ec1951d-607a-444c-b816-b4c40c8bfb78",
   "metadata": {
    "execution": {
     "iopub.execute_input": "2025-07-08T23:17:39.134551Z",
     "iopub.status.busy": "2025-07-08T23:17:39.134386Z",
     "iopub.status.idle": "2025-07-08T23:17:39.182250Z",
     "shell.execute_reply": "2025-07-08T23:17:39.181802Z",
     "shell.execute_reply.started": "2025-07-08T23:17:39.134535Z"
    }
   },
   "outputs": [],
   "source": [
    "# Feature derivada\n",
    "for df in (df_train, df_test):\n",
    "    df['n_pictures'] = df['pictures'].apply(lambda x: len(x) if isinstance(x, list) else 0).astype('int16')"
   ]
  },
  {
   "cell_type": "code",
   "execution_count": 110,
   "id": "545ff75e-8330-4f72-9898-baa2d54a9ce0",
   "metadata": {
    "execution": {
     "iopub.execute_input": "2025-07-08T23:17:39.183057Z",
     "iopub.status.busy": "2025-07-08T23:17:39.182732Z",
     "iopub.status.idle": "2025-07-08T23:17:39.245226Z",
     "shell.execute_reply": "2025-07-08T23:17:39.244733Z",
     "shell.execute_reply.started": "2025-07-08T23:17:39.183041Z"
    }
   },
   "outputs": [],
   "source": [
    "# Eliminamos la columna bruta\n",
    "df_train.drop(columns='pictures', inplace=True)\n",
    "df_test.drop(columns='pictures',  inplace=True)"
   ]
  },
  {
   "cell_type": "markdown",
   "id": "46319b79-d7bc-454e-9a8c-01608baf631c",
   "metadata": {},
   "source": [
    "#### 15. Variable 'tags'"
   ]
  },
  {
   "cell_type": "code",
   "execution_count": 111,
   "id": "3fa0d837-d308-4c0c-9cab-795ade4675b3",
   "metadata": {
    "execution": {
     "iopub.execute_input": "2025-07-08T23:17:39.247944Z",
     "iopub.status.busy": "2025-07-08T23:17:39.247784Z",
     "iopub.status.idle": "2025-07-08T23:17:39.314149Z",
     "shell.execute_reply": "2025-07-08T23:17:39.313673Z",
     "shell.execute_reply.started": "2025-07-08T23:17:39.247928Z"
    }
   },
   "outputs": [
    {
     "name": "stdout",
     "output_type": "stream",
     "text": [
      "\n",
      "— tags —\n",
      "dtype: object | n_missing: 22412 | unique: 7\n"
     ]
    },
    {
     "data": {
      "text/html": [
       "<div>\n",
       "<style scoped>\n",
       "    .dataframe tbody tr th:only-of-type {\n",
       "        vertical-align: middle;\n",
       "    }\n",
       "\n",
       "    .dataframe tbody tr th {\n",
       "        vertical-align: top;\n",
       "    }\n",
       "\n",
       "    .dataframe thead th {\n",
       "        text-align: right;\n",
       "    }\n",
       "</style>\n",
       "<table border=\"1\" class=\"dataframe\">\n",
       "  <thead>\n",
       "    <tr style=\"text-align: right;\">\n",
       "      <th></th>\n",
       "      <th>freq</th>\n",
       "    </tr>\n",
       "    <tr>\n",
       "      <th>tags</th>\n",
       "      <th></th>\n",
       "    </tr>\n",
       "  </thead>\n",
       "  <tbody>\n",
       "    <tr>\n",
       "      <th>['dragged_bids_and_visits']</th>\n",
       "      <td>65315</td>\n",
       "    </tr>\n",
       "    <tr>\n",
       "      <th>['good_quality_thumbnail', 'dragged_bids_and_visits']</th>\n",
       "      <td>1191</td>\n",
       "    </tr>\n",
       "    <tr>\n",
       "      <th>['dragged_visits']</th>\n",
       "      <td>464</td>\n",
       "    </tr>\n",
       "    <tr>\n",
       "      <th>['good_quality_thumbnail']</th>\n",
       "      <td>346</td>\n",
       "    </tr>\n",
       "    <tr>\n",
       "      <th>['dragged_visits', 'free_relist']</th>\n",
       "      <td>259</td>\n",
       "    </tr>\n",
       "    <tr>\n",
       "      <th>['poor_quality_thumbnail', 'dragged_bids_and_visits']</th>\n",
       "      <td>10</td>\n",
       "    </tr>\n",
       "    <tr>\n",
       "      <th>['poor_quality_thumbnail']</th>\n",
       "      <td>3</td>\n",
       "    </tr>\n",
       "  </tbody>\n",
       "</table>\n",
       "</div>"
      ],
      "text/plain": [
       "                                                     freq\n",
       "tags                                                     \n",
       "['dragged_bids_and_visits']                         65315\n",
       "['good_quality_thumbnail', 'dragged_bids_and_vi...   1191\n",
       "['dragged_visits']                                    464\n",
       "['good_quality_thumbnail']                            346\n",
       "['dragged_visits', 'free_relist']                     259\n",
       "['poor_quality_thumbnail', 'dragged_bids_and_vi...     10\n",
       "['poor_quality_thumbnail']                              3"
      ]
     },
     "metadata": {},
     "output_type": "display_data"
    }
   ],
   "source": [
    "inspect_column(df_train, 'tags', top_n=7)"
   ]
  },
  {
   "cell_type": "code",
   "execution_count": 112,
   "id": "46dfb171-9625-4ea5-943f-898018eed505",
   "metadata": {
    "execution": {
     "iopub.execute_input": "2025-07-08T23:17:39.314824Z",
     "iopub.status.busy": "2025-07-08T23:17:39.314658Z",
     "iopub.status.idle": "2025-07-08T23:17:39.594978Z",
     "shell.execute_reply": "2025-07-08T23:17:39.594469Z",
     "shell.execute_reply.started": "2025-07-08T23:17:39.314809Z"
    }
   },
   "outputs": [],
   "source": [
    "flat_tags = flatten_column(df_train, 'tags')"
   ]
  },
  {
   "cell_type": "code",
   "execution_count": 113,
   "id": "7f641231-4d56-41ad-8209-1c52943bee07",
   "metadata": {
    "execution": {
     "iopub.execute_input": "2025-07-08T23:17:39.595822Z",
     "iopub.status.busy": "2025-07-08T23:17:39.595581Z",
     "iopub.status.idle": "2025-07-08T23:17:39.601559Z",
     "shell.execute_reply": "2025-07-08T23:17:39.601095Z",
     "shell.execute_reply.started": "2025-07-08T23:17:39.595805Z"
    }
   },
   "outputs": [
    {
     "data": {
      "text/html": [
       "<div>\n",
       "<style scoped>\n",
       "    .dataframe tbody tr th:only-of-type {\n",
       "        vertical-align: middle;\n",
       "    }\n",
       "\n",
       "    .dataframe tbody tr th {\n",
       "        vertical-align: top;\n",
       "    }\n",
       "\n",
       "    .dataframe thead th {\n",
       "        text-align: right;\n",
       "    }\n",
       "</style>\n",
       "<table border=\"1\" class=\"dataframe\">\n",
       "  <thead>\n",
       "    <tr style=\"text-align: right;\">\n",
       "      <th></th>\n",
       "      <th>__row</th>\n",
       "      <th>tag</th>\n",
       "    </tr>\n",
       "  </thead>\n",
       "  <tbody>\n",
       "    <tr>\n",
       "      <th>0</th>\n",
       "      <td>0</td>\n",
       "      <td>dragged_bids_and_visits</td>\n",
       "    </tr>\n",
       "    <tr>\n",
       "      <th>1</th>\n",
       "      <td>1</td>\n",
       "      <td>&lt;NA&gt;</td>\n",
       "    </tr>\n",
       "    <tr>\n",
       "      <th>2</th>\n",
       "      <td>2</td>\n",
       "      <td>dragged_bids_and_visits</td>\n",
       "    </tr>\n",
       "    <tr>\n",
       "      <th>3</th>\n",
       "      <td>3</td>\n",
       "      <td>&lt;NA&gt;</td>\n",
       "    </tr>\n",
       "    <tr>\n",
       "      <th>4</th>\n",
       "      <td>4</td>\n",
       "      <td>dragged_bids_and_visits</td>\n",
       "    </tr>\n",
       "  </tbody>\n",
       "</table>\n",
       "</div>"
      ],
      "text/plain": [
       "   __row                      tag\n",
       "0      0  dragged_bids_and_visits\n",
       "1      1                     <NA>\n",
       "2      2  dragged_bids_and_visits\n",
       "3      3                     <NA>\n",
       "4      4  dragged_bids_and_visits"
      ]
     },
     "execution_count": 113,
     "metadata": {},
     "output_type": "execute_result"
    }
   ],
   "source": [
    "flat_tags.head()"
   ]
  },
  {
   "cell_type": "code",
   "execution_count": 114,
   "id": "a674fd27-12de-4e46-b1de-66a067cf47cd",
   "metadata": {
    "execution": {
     "iopub.execute_input": "2025-07-08T23:17:39.602324Z",
     "iopub.status.busy": "2025-07-08T23:17:39.602092Z",
     "iopub.status.idle": "2025-07-08T23:17:39.618795Z",
     "shell.execute_reply": "2025-07-08T23:17:39.618394Z",
     "shell.execute_reply.started": "2025-07-08T23:17:39.602306Z"
    }
   },
   "outputs": [
    {
     "data": {
      "text/plain": [
       "tag\n",
       "dragged_bids_and_visits    66516\n",
       "good_quality_thumbnail      1537\n",
       "dragged_visits               723\n",
       "free_relist                  259\n",
       "poor_quality_thumbnail        13\n",
       "Name: count, dtype: int64"
      ]
     },
     "execution_count": 114,
     "metadata": {},
     "output_type": "execute_result"
    }
   ],
   "source": [
    "flat_tags.tag.value_counts()"
   ]
  },
  {
   "cell_type": "markdown",
   "id": "d3222aaa-fd68-42c6-802f-94b64938067e",
   "metadata": {},
   "source": [
    "**Lectura** \n",
    "* **Distribución muy desequilibrada**:  \n",
    "  * `'dragged_bids_and_visits'` representa **≈ 73 %** de todos los registros.  \n",
    "  * Otras etiquetas escasas: `good_quality_thumbnail` (~ 1.7 %) | `dragged_visits` (< 1 %) | `free_relist`, `poor_quality_thumbnail` y combinaciones varias (< 0.5 % cada una). \n",
    "* **Semántica** – todas son *flags* internas de Mercado Libre sobre calidad de foto, performance o tipo de relistado; ninguna aporta información granular sobre el artículo en sí.\n",
    "* **Valores nulos**: ~ 22 k publicaciones (25 %) carecen completamente de lista de tags.\n",
    "\n",
    "**Decisión & feature engineering**\n",
    "* **`has_tags` (binario)** | 1 si la lista contiene al menos una etiqueta, 0 si está vacía / NaN. Captura la señal de que MELI añadió alguna marca interna.\n",
    "* **Agrupar etiquetas raras** | Como cada tag individual es ultra-poco frecuente, no vale la pena one-hot. Se pueden fusionar todas en la categoría **`other_tag`** para un conteo simple.\n",
    "* **Omitir payload** | No conservar la lista real ni los nombres originales; riesgo de esparcir columnas muy sparsas por mínima ganancia.\n",
    "\n",
    "Con esto la variable queda reducida a una señal binaria de “publicación con marca interna” y un **count** opcional (`n_tags`) sin explosión de cardinalidad."
   ]
  },
  {
   "cell_type": "code",
   "execution_count": 115,
   "id": "677c42cf-15b1-4ded-8665-7be47bc3ed9d",
   "metadata": {
    "execution": {
     "iopub.execute_input": "2025-07-08T23:17:39.621295Z",
     "iopub.status.busy": "2025-07-08T23:17:39.621121Z",
     "iopub.status.idle": "2025-07-08T23:17:39.625315Z",
     "shell.execute_reply": "2025-07-08T23:17:39.624781Z",
     "shell.execute_reply.started": "2025-07-08T23:17:39.621279Z"
    }
   },
   "outputs": [],
   "source": [
    "def _parse_tags(val):\n",
    "    \"\"\"\n",
    "    Devuelve lista de tags ([] si NaN, '[]', error de parseo, etc.).\n",
    "    Maneja correctamente cuando el elemento ya es lista.\n",
    "    \"\"\"\n",
    "    # 1) si ya viene como lista → tal cual\n",
    "    if isinstance(val, list):\n",
    "        return val\n",
    "    \n",
    "    # 2) NaN / None\n",
    "    if val is None or (isinstance(val, float) and pd.isna(val)):\n",
    "        return []\n",
    "\n",
    "    # 3) cadena: intentar evaluar '[...]'\n",
    "    try:\n",
    "        parsed = ast.literal_eval(val) if isinstance(val, str) else []\n",
    "        return parsed if isinstance(parsed, list) else []\n",
    "    except Exception:\n",
    "        return []\n",
    "\n",
    "def add_tag_features(df: pd.DataFrame) -> pd.DataFrame:\n",
    "    tag_lists = df['tags'].apply(_parse_tags)\n",
    "\n",
    "    df['has_tags'] = (tag_lists.str.len() > 0).astype('int8')\n",
    "    df['n_tags']   = tag_lists.str.len().astype('int16')\n",
    "\n",
    "    # elimina la lista original para no dejar datos semi-estructurados\n",
    "    df.drop(columns='tags', inplace=True, errors='ignore')\n",
    "    return df"
   ]
  },
  {
   "cell_type": "code",
   "execution_count": 116,
   "id": "75d59777-1cd0-470d-9803-ab5c00e71ce4",
   "metadata": {
    "execution": {
     "iopub.execute_input": "2025-07-08T23:17:39.626405Z",
     "iopub.status.busy": "2025-07-08T23:17:39.625954Z",
     "iopub.status.idle": "2025-07-08T23:17:39.767688Z",
     "shell.execute_reply": "2025-07-08T23:17:39.767156Z",
     "shell.execute_reply.started": "2025-07-08T23:17:39.626377Z"
    }
   },
   "outputs": [],
   "source": [
    "# ---------------- aplicar ----------------\n",
    "df_train = add_tag_features(df_train)\n",
    "df_test  = add_tag_features(df_test)"
   ]
  },
  {
   "cell_type": "code",
   "execution_count": 117,
   "id": "e3c93d9d-0e44-41e7-96cc-8e21b7841dd4",
   "metadata": {
    "execution": {
     "iopub.execute_input": "2025-07-08T23:17:39.768903Z",
     "iopub.status.busy": "2025-07-08T23:17:39.768454Z",
     "iopub.status.idle": "2025-07-08T23:17:39.788371Z",
     "shell.execute_reply": "2025-07-08T23:17:39.787959Z",
     "shell.execute_reply.started": "2025-07-08T23:17:39.768875Z"
    }
   },
   "outputs": [
    {
     "data": {
      "text/plain": [
       "has_tags  n_tags\n",
       "0         0         22412\n",
       "1         1         66128\n",
       "          2          1460\n",
       "Name: condition, dtype: int64"
      ]
     },
     "execution_count": 117,
     "metadata": {},
     "output_type": "execute_result"
    }
   ],
   "source": [
    "df_train.groupby(['has_tags', 'n_tags'])['condition'].count()"
   ]
  }
 ],
 "metadata": {
  "kernelspec": {
   "display_name": ".venv",
   "language": "python",
   "name": "python3"
  },
  "language_info": {
   "codemirror_mode": {
    "name": "ipython",
    "version": 3
   },
   "file_extension": ".py",
   "mimetype": "text/x-python",
   "name": "python",
   "nbconvert_exporter": "python",
   "pygments_lexer": "ipython3",
   "version": "3.12.0"
  }
 },
 "nbformat": 4,
 "nbformat_minor": 5
}
